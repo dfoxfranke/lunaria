{
 "metadata": {
  "language_info": {
   "codemirror_mode": {
    "name": "ipython",
    "version": 3
   },
   "file_extension": ".py",
   "mimetype": "text/x-python",
   "name": "python",
   "nbconvert_exporter": "python",
   "pygments_lexer": "ipython3",
   "version": "3.8.6-final"
  },
  "orig_nbformat": 2,
  "kernelspec": {
   "name": "python3",
   "display_name": "Python 3.8.6 64-bit",
   "metadata": {
    "interpreter": {
     "hash": "81526533ed1eb2f671d830053b4adef8d2227c1baacdcbabc9682929edc9f7c5"
    }
   }
  }
 },
 "nbformat": 4,
 "nbformat_minor": 2,
 "cells": [
  {
   "source": [
    "## Machinery\n",
    "\n",
    "This section defines some generic machinery for converting between colourspaces and working around some bugs in `colour-science`."
   ],
   "cell_type": "markdown",
   "metadata": {}
  },
  {
   "cell_type": "code",
   "execution_count": 43,
   "metadata": {},
   "outputs": [],
   "source": [
    "import colour #pip install colour-science\n",
    "import numpy as np\n",
    "import warnings\n",
    "import json\n",
    "from colour.utilities import from_range_100, from_range_degrees, to_domain_100, to_domain_degrees, tsplit, tstack\n",
    "\n",
    "warnings.simplefilter(\"default\", category=UserWarning)"
   ]
  },
  {
   "source": [
    "### The CAT16 chromatic-adaptation transform\n",
    "\n",
    "This is a two-step CAT16 transform per \"Comparing two-step and one-step chromatic adaptation transforms using the CAT16 model\", Li et. al. 2018."
   ],
   "cell_type": "markdown",
   "metadata": {}
  },
  {
   "cell_type": "code",
   "execution_count": 44,
   "metadata": {},
   "outputs": [],
   "source": [
    "CAT_CAT16 = np.matrix([\n",
    "    [0.401288, 0.650173, -0.051461],\n",
    "    [-0.250268, 1.204414, 0.045854],\n",
    "    [-0.002079, 0.048952, 0.953127]])\n",
    "CAT_INVERSE_CAT16 = np.linalg.inv(CAT_CAT16)\n",
    "\n",
    "def chromatic_adaptation_CAT16(\n",
    "    XYZ,\n",
    "    XYZ_w1,\n",
    "    XYZ_w2,\n",
    "    L_A1=None,\n",
    "    L_A2=None,\n",
    "    surround1=colour.CAM16_VIEWING_CONDITIONS['Average'],\n",
    "    surround2=colour.CAM16_VIEWING_CONDITIONS['Average']):\n",
    "\n",
    "    XYZ = to_domain_100(XYZ)\n",
    "    XYZ_w1 = to_domain_100(XYZ_w1)\n",
    "    XYZ_w2 = to_domain_100(XYZ_w2)\n",
    "    XYZ_we = np.array([100., 100., 100.])\n",
    "\n",
    "    RGB_w1 = colour.utilities.dot_vector(CAT_CAT16, XYZ_w1)\n",
    "    RGB_w2 = colour.utilities.dot_vector(CAT_CAT16, XYZ_w2)\n",
    "    RGB_we = colour.utilities.dot_vector(CAT_CAT16, XYZ_we)\n",
    "\n",
    "    D1 = surround1.F * (1. - (1/3.6) * np.exp((-L_A1 - 42.)/92.)) if L_A1 is not None else surround1.F\n",
    "    D2 = surround2.F * (1. - (1/3.6) * np.exp((-L_A2 - 42.)/92.)) if L_A2 is not None else surround2.F\n",
    "    \n",
    "    G1 = np.diagflat(RGB_we / RGB_w1 * XYZ_w1[1] / XYZ_we[1] * D1 + 1. - D1)\n",
    "    G2 = np.diagflat(RGB_w2 / RGB_we * XYZ_we[1] / XYZ_w2[1] * D2 + 1. - D2)\n",
    "\n",
    "    transform = CAT_INVERSE_CAT16 * G2 * G1 * CAT_CAT16\n",
    "\n",
    "    XYZ_c = colour.utilities.dot_vector(transform, XYZ)\n",
    "\n",
    "    return from_range_100(XYZ_c)"
   ]
  },
  {
   "source": [
    "### Viewing environment\n",
    "\n",
    "This next section defines the `ViewingEnvironment` structure, which will be a parameter to many of the color-conversion functions that follow. Its fields are as follows:\n",
    "\n",
    "* `rgb_colourspace`: The RGB colourspace that we're targeting, most likely sRGB. This is an instance of the `colour.RGB_Colourspace` type.\n",
    "* `ambient_illuminance`: The illuminance level of the environment surrounding the screen, in lux.\n",
    "* `ambient_lightness`: A CIE1976 $L^*$ value giving the average lightness of the environment surrounding the screen.\n",
    "* `white_screen_luminance`: The luminance of a screen filled with `#ffffff`, in cd/m^2.\n",
    "* `background_lightness`: A CIE1976 $L^*$ value giving the expected average lightness of the image displayed on the screen.\n",
    "* `glare`: The percentage of ambient light reflected by a black LCD screen.\n",
    "* `leakage`: The percentage of light from the monitor backlight that escapes through an LCD displaying `#000000`.\n",
    "\n",
    "`ambient_lightness`, `background_lightness`, `glare`, and `leakage` have a scale of $[0,100]$ if `colour-science` is configured for `Scale-Reference` and a scale of $[0,1]$ if configured for `Scale-1`. They are implemented as magic attributes that accept and return values appropriate to whatever scale is in use. *E.g.,* if you set `ambient_lightness` to `50` while Scale-Reference is in use and then you switch to Scale-1, future field accesses will return `0.5`."
   ],
   "cell_type": "markdown",
   "metadata": {}
  },
  {
   "cell_type": "code",
   "execution_count": 45,
   "metadata": {},
   "outputs": [],
   "source": [
    "class ViewingEnvironment:\n",
    "    def __init__(self, rgb_colourspace, ambient_whitepoint, ambient_illuminance, ambient_lightness, simulated_whitepoint, simulated_ambient_illuminance, simulated_ambient_lightness, white_screen_luminance, background_lightness, glare, leakage):\n",
    "        self.rgb_colourspace = rgb_colourspace\n",
    "        self.ambient_whitepoint = ambient_whitepoint\n",
    "        self.ambient_illuminance = ambient_illuminance\n",
    "        self._ambient_lightness = to_domain_100(ambient_lightness)\n",
    "        self.simulated_whitepoint = simulated_whitepoint\n",
    "        self.simulated_ambient_illuminance = simulated_ambient_illuminance\n",
    "        self._simulated_ambient_lightness = to_domain_100(simulated_ambient_lightness)\n",
    "        self.white_screen_luminance = white_screen_luminance\n",
    "        self._background_lightness = to_domain_100(background_lightness)\n",
    "        self._glare = to_domain_100(glare)\n",
    "        self._leakage = to_domain_100(leakage)\n",
    "    \n",
    "    def __setattr__(self, name, value):\n",
    "        if name == \"ambient_lightness\":\n",
    "            object.__setattr__(self, \"_ambient_lightness\", to_domain_100(value))\n",
    "        elif name == \"simulated_ambient_lightness\":\n",
    "            object.__setattr__(self, \"_simulated_ambient_lightness\", to_domain_100(value))    \n",
    "        elif name == \"background_lightness\":\n",
    "            object.__setattr__(self, \"_background_lightness\", to_domain_100(value))\n",
    "        elif name == \"glare\":\n",
    "            object.__setattr__(self, \"_glare\", to_domain_100(value))\n",
    "        elif name == \"leakage\":\n",
    "            object.__setattr__(self, \"_leakage\", to_domain_100(value))\n",
    "        else:\n",
    "            object.__setattr__(self, name, value)\n",
    "    \n",
    "    def __getattribute__(self, name):\n",
    "        if name == \"ambient_lightness\":\n",
    "            return from_range_100(object.__getattribute__(self, \"_ambient_lightness\").copy())\n",
    "        if name == \"simulated_ambient_lightness\":\n",
    "            return from_range_100(object.__getattribute__(self, \"_simulated_ambient_lightness\").copy())    \n",
    "        elif name == \"background_lightness\":\n",
    "            return from_range_100(object.__getattribute__(self, \"_background_lightness\").copy())\n",
    "        elif name == \"glare\":\n",
    "            return from_range_100(object.__getattribute__(self, \"_glare\").copy())\n",
    "        elif name == \"leakage\":\n",
    "            return from_range_100(object.__getattribute__(self, \"_leakage\").copy())\n",
    "        else:\n",
    "            return object.__getattribute__(self, name)"
   ]
  },
  {
   "source": [
    "### Interpolation of viewing conditions\n",
    "\n",
    "CAM16 models the incomplete adaptation that occurs when viewing a screen that is much brighter than its surrounding environment. Luo and Li define *surround ratio* as the luminance ratio of a white object in the surround to a white screen. They provide three sets of parameters appropriate to surround ratios of 0, 0.15, or >=0.2 and recommend\n",
    "linearly interpolating between them. This function implements that interpolation. We modify the definition of surround ratio to be based on grays instead of whites: that is, we scale the numerator according `ambient_lightness` and the denominator according to `background_lightness`. The original recommendation assumes these lightnesses are equal and in this case our definitions become equivalant."
   ],
   "cell_type": "markdown",
   "metadata": {}
  },
  {
   "cell_type": "code",
   "execution_count": 46,
   "metadata": {},
   "outputs": [],
   "source": [
    "def CAM16_surround_ratio_to_conditions(surround_ratio):\n",
    "    if surround_ratio >= 0.2:\n",
    "        return colour.CAM16_VIEWING_CONDITIONS['Average']\n",
    "\n",
    "    average = colour.CAM16_VIEWING_CONDITIONS['Average']\n",
    "    dim = colour.CAM16_VIEWING_CONDITIONS['Dim']\n",
    "    dark = colour.CAM16_VIEWING_CONDITIONS['Dark']\n",
    "    \n",
    "    if surround_ratio >= 0.15:\n",
    "        F = dim.F + (average.F - dim.F) * (surround_ratio - 0.15)/0.05\n",
    "        c = dim.c + (average.c - dim.c) * (surround_ratio - 0.15)/0.05\n",
    "        N_c = dim.N_c + (average.N_c - dim.N_c) * (surround_ratio - 0.15)/0.05\n",
    "    else:\n",
    "        F = dark.F + (dim.F - dark.F) * surround_ratio/0.15\n",
    "        c = dark.c + (dim.c - dark.c) * surround_ratio/0.15\n",
    "        N_c = dark.N_c + (dim.N_c - dark.N_c) * surround_ratio/0.15\n",
    "    \n",
    "    return colour.appearance.CIECAM02_InductionFactors(F=F, c=c, N_c=N_c)"
   ]
  },
  {
   "cell_type": "code",
   "execution_count": 47,
   "metadata": {},
   "outputs": [],
   "source": [
    "def CAM16_viewing_conditions(view):\n",
    "    surround_gray = view.ambient_illuminance / np.pi * colour.luminance(view.ambient_lightness)\n",
    "    device_gray = view.white_screen_luminance * colour.luminance(view.background_lightness)\n",
    "    surround_ratio = surround_gray / device_gray\n",
    "\n",
    "    return CAM16_surround_ratio_to_conditions(surround_ratio)"
   ]
  },
  {
   "cell_type": "code",
   "execution_count": 48,
   "metadata": {},
   "outputs": [],
   "source": [
    "def flare(view):\n",
    "    glare = (colour.xy_to_XYZ(view.ambient_whitepoint) * 100.) * \\\n",
    "        view.ambient_illuminance / np.pi * (to_domain_100(view.glare) / 100.) / \\\n",
    "        view.white_screen_luminance\n",
    "    leakage = (colour.xy_to_XYZ(view.rgb_colourspace.whitepoint) * 100) * \\\n",
    "        (to_domain_100(view.leakage) / 100.)\n",
    "    return from_range_100(glare + leakage)\n"
   ]
  },
  {
   "source": [
    "### HEX -> RGB -> XYZ -> J'M'h"
   ],
   "cell_type": "markdown",
   "metadata": {}
  },
  {
   "cell_type": "code",
   "execution_count": 49,
   "metadata": {},
   "outputs": [],
   "source": [
    "def HEX_to_RGB(HEX):\n",
    "    return colour.notation.HEX_to_RGB(HEX)"
   ]
  },
  {
   "cell_type": "code",
   "execution_count": 50,
   "metadata": {},
   "outputs": [],
   "source": [
    "def RGB_to_XYZ(RGB, view):\n",
    "    XYZ = from_range_100(\n",
    "        colour.RGB_to_XYZ(\n",
    "            RGB,\n",
    "            view.rgb_colourspace.whitepoint,\n",
    "            None,\n",
    "            view.rgb_colourspace.RGB_to_XYZ_matrix,\n",
    "            None,\n",
    "            view.rgb_colourspace.cctf_decoding\n",
    "        ) * 100.\n",
    "    )\n",
    "\n",
    "    XYZ += flare(view)\n",
    "\n",
    "    return chromatic_adaptation_CAT16(\n",
    "        XYZ,\n",
    "        colour.utilities.from_range_100(colour.xy_to_XYZ(view.rgb_colourspace.whitepoint) * 100.) + flare(view),\n",
    "        colour.utilities.from_range_100(colour.xy_to_XYZ(view.simulated_whitepoint) * 100.),\n",
    "        view.ambient_illuminance / np.pi * to_domain_100(colour.luminance(view.ambient_lightness)) / 100.,\n",
    "        view.simulated_ambient_illuminance / np.pi * to_domain_100(colour.luminance(view.simulated_ambient_lightness)) / 100.,\n",
    "        CAM16_viewing_conditions(view))"
   ]
  },
  {
   "cell_type": "code",
   "execution_count": 51,
   "metadata": {},
   "outputs": [],
   "source": [
    "def XYZ_to_JpMph(XYZ, view):\n",
    "    cam16 = colour.XYZ_to_CAM16(\n",
    "        XYZ,\n",
    "        RGB_to_XYZ([1.,1.,1.], view),\n",
    "        view.simulated_ambient_illuminance / np.pi * to_domain_100(colour.luminance(view.simulated_ambient_lightness)) / 100.,\n",
    "        to_domain_100(colour.luminance(view.background_lightness)))\n",
    "\n",
    "    J = to_domain_100(cam16.J)\n",
    "    M = to_domain_100(cam16.M)\n",
    "    Q = to_domain_100(cam16.Q)\n",
    "\n",
    "    Jp = (1.7 * J)/(1 + 0.007 * J) \n",
    "    Mp = np.log(1. + 0.0228 * M) / 0.0228\n",
    "\n",
    "    return tstack([from_range_100(Jp), from_range_100(Mp), cam16.h])"
   ]
  },
  {
   "cell_type": "code",
   "execution_count": 52,
   "metadata": {},
   "outputs": [],
   "source": [
    "def HEX_to_XYZ(HEX, view):\n",
    "    RGB = HEX_to_RGB(HEX)\n",
    "    return RGB_to_XYZ(RGB, view)\n",
    "\n",
    "def HEX_to_JpMph(HEX, view):\n",
    "    XYZ = HEX_to_XYZ(HEX, view)\n",
    "    return XYZ_to_JpMph(XYZ, view)\n",
    "\n",
    "def RGB_to_JpMph(RGB, view):\n",
    "    XYZ = RGB_to_XYZ(RGB, view)\n",
    "    return XYZ_to_JpMph(XYZ, view)"
   ]
  },
  {
   "source": [
    "### J'M'h -> XYZ -> RGB -> HEX"
   ],
   "cell_type": "markdown",
   "metadata": {}
  },
  {
   "cell_type": "code",
   "execution_count": 53,
   "metadata": {},
   "outputs": [],
   "source": [
    "def RGB_valid(RGB):\n",
    "    return np.all(np.logical_and(np.greater_equal(RGB, 0.), np.less_equal(RGB, 1.)))"
   ]
  },
  {
   "cell_type": "code",
   "execution_count": 54,
   "metadata": {},
   "outputs": [],
   "source": [
    "def JpMph_to_XYZ(JpMph, view):\n",
    "    (Jp, Mp, h) = tsplit(JpMph)\n",
    "    Jp = to_domain_100(Jp)\n",
    "    Mp = to_domain_100(Mp)\n",
    "\n",
    "    J = from_range_100(Jp / (1.7 - 0.007*Jp))\n",
    "    M = from_range_100((np.exp(0.0228 * Mp) - 1.) / 0.0228)\n",
    "\n",
    "    cam16 = colour.CAM16_Specification(J=J, M=M, h=h)\n",
    "    return colour.CAM16_to_XYZ(\n",
    "        cam16,\n",
    "        RGB_to_XYZ([1,1,1], view),\n",
    "        view.simulated_ambient_illuminance / np.pi * to_domain_100(colour.luminance(view.simulated_ambient_lightness)) / 100.,\n",
    "        to_domain_100(colour.luminance(view.background_lightness)))\n",
    "\n",
    "def XYZ_to_RGB(XYZ, view):\n",
    "    XYZ = chromatic_adaptation_CAT16(\n",
    "        XYZ,\n",
    "        colour.utilities.from_range_100(colour.xy_to_XYZ(view.simulated_whitepoint) * 100.),\n",
    "        colour.utilities.from_range_100(colour.xy_to_XYZ(view.rgb_colourspace.whitepoint) * 100.) + flare(view),\n",
    "        view.simulated_ambient_illuminance / np.pi * to_domain_100(colour.luminance(view.simulated_ambient_lightness)) / 100.,\n",
    "        view.ambient_illuminance / np.pi * to_domain_100(colour.luminance(view.ambient_lightness)) / 100.,\n",
    "        surround2=CAM16_viewing_conditions(view))\n",
    "\n",
    "    XYZ -= flare(view)\n",
    "\n",
    "    return colour.XYZ_to_RGB(\n",
    "        to_domain_100(XYZ) / 100.,\n",
    "        None,\n",
    "        view.rgb_colourspace.whitepoint,\n",
    "        view.rgb_colourspace.XYZ_to_RGB_matrix,\n",
    "        None,\n",
    "        view.rgb_colourspace.cctf_encoding)\n",
    "\n",
    "def RGB_to_HEX(RGB):\n",
    "    if not RGB_valid(RGB):\n",
    "        warnings.warn(\"Clipping out-of-bounds RGB values\")\n",
    "        RGB = np.clip(RGB, 0., 1.)\n",
    "    return colour.notation.RGB_to_HEX(RGB)"
   ]
  },
  {
   "cell_type": "code",
   "execution_count": 55,
   "metadata": {},
   "outputs": [],
   "source": [
    "def JpMph_to_RGB(JpMph, view):\n",
    "    XYZ = JpMph_to_XYZ(JpMph, view)\n",
    "    return XYZ_to_RGB(XYZ, view)\n",
    "\n",
    "def JpMph_to_HEX(JpMph, view):\n",
    "    RGB = JpMph_to_RGB(JpMph, view)\n",
    "    return RGB_to_HEX(RGB)\n",
    "\n",
    "def XYZ_to_HEX(XYZ, view):\n",
    "    RGB = XYZ_to_RGB(XYZ, view)\n",
    "    return RGB_to_HEX(RGB)"
   ]
  },
  {
   "source": [
    "### Additional color metrics"
   ],
   "cell_type": "markdown",
   "metadata": {}
  },
  {
   "source": [
    "Contrast ratio, factoring in the relative luminance of a blank screen (flare) due to ambient light reflection and backlight leakage. This aligns the WCAG definition of contrast ratio iff these factors come out to 0.05."
   ],
   "cell_type": "markdown",
   "metadata": {}
  },
  {
   "cell_type": "code",
   "execution_count": 56,
   "metadata": {},
   "outputs": [],
   "source": [
    "def contrast_ratio(XYZ1, XYZ2, view):\n",
    "    _, Y1, _ = tsplit(to_domain_100(XYZ1))\n",
    "    _, Y2, _ = tsplit(to_domain_100(XYZ2))\n",
    "\n",
    "    Ymax = np.maximum(Y1, Y2)\n",
    "    Ymin = np.minimum(Y1, Y2)\n",
    "\n",
    "    return  Ymax/Ymin"
   ]
  },
  {
   "source": [
    "Compute hue angle from hue quadrature. Having this function is a little overkill because we're only going to end up calling it with the four cardinal hues."
   ],
   "cell_type": "markdown",
   "metadata": {}
  },
  {
   "cell_type": "code",
   "execution_count": 57,
   "metadata": {},
   "outputs": [],
   "source": [
    "def quadrature_to_hue(H):\n",
    "    H = to_domain_100(H) % 400.\n",
    "    hues = np.array([20.14, 90.00, 164.25, 237.53, 380.14])\n",
    "    eccentricities = np.array([0.8, 0.7, 1.0, 1.2, 0.8])\n",
    "    i = np.floor(H / 100.).astype(int)\n",
    "\n",
    "    h_i = hues[i]\n",
    "    h_j = hues[i+1]\n",
    "    e_i = eccentricities[i]\n",
    "    e_j = eccentricities[i+1]\n",
    "    H_i = 100. * i\n",
    "\n",
    "    h = ((H - H_i) * (e_j*h_i - e_i*h_j) - 100.*h_i*e_j)/((H - H_i) * (e_j-e_i) - 100.*e_j)\n",
    "    return from_range_degrees(h % 360.)\n",
    "\n",
    "def hue_to_quadrature(h):\n",
    "    H = colour.appearance.ciecam02.hue_quadrature(to_domain_degrees(h))\n",
    "    return from_range_100(H)\n",
    "\n",
    "def warmness(H):\n",
    "    H = to_domain_100(H) % 400.\n",
    "    if H < 100:\n",
    "        return H/100.\n",
    "    elif H < 300:\n",
    "        return (200-H)/100.\n",
    "    else:\n",
    "        return (H-400.)/100."
   ]
  },
  {
   "source": [
    "### Utilities for displaying color swatches"
   ],
   "cell_type": "markdown",
   "metadata": {}
  },
  {
   "cell_type": "code",
   "execution_count": 58,
   "metadata": {},
   "outputs": [],
   "source": [
    "def display_RGB(RGB):\n",
    "    RGB = np.array(RGB)\n",
    "    if not RGB_valid(RGB):\n",
    "        warnings.warn(\"Clipping out-of-bounds RGB values\")\n",
    "        RGB = np.clip(RGB, 0., 1.)\n",
    "    swatches = [ colour.plotting.ColourSwatch(RGB=col) for col in RGB]\n",
    "    colour.plotting.plot_multi_colour_swatches(swatches)\n",
    "\n",
    "def display_HEX(HEX):\n",
    "    display_RGB(HEX_to_RGB(HEX))\n",
    "\n",
    "def display_XYZ(XYZ, view):\n",
    "    display_RGB(XYZ_to_RGB(XYZ, view))\n",
    "\n",
    "def display_JpMph(JpMph, view):\n",
    "    display_RGB(JpMph_to_RGB(JpMph, view))"
   ]
  },
  {
   "source": [
    "### Boundary search"
   ],
   "cell_type": "markdown",
   "metadata": {}
  },
  {
   "cell_type": "code",
   "execution_count": 59,
   "metadata": {},
   "outputs": [],
   "source": [
    "def binary_search(a, b, threshold, pred):\n",
    "    if b < a:\n",
    "        (a,b) = (b,a)\n",
    "    \n",
    "    if pred(a) == pred(b):\n",
    "        return None\n",
    "\n",
    "    if pred(b):\n",
    "        pred_neg = True\n",
    "        my_pred = lambda x: not pred(x)\n",
    "    else:\n",
    "        pred_neg = False\n",
    "        my_pred = pred\n",
    "\n",
    "    while b-a > threshold:\n",
    "        cur = (a+b)/2\n",
    "        if my_pred(cur):\n",
    "            a = cur\n",
    "        else:\n",
    "            b = cur\n",
    "    if pred_neg:\n",
    "        return b\n",
    "    else:\n",
    "        return a"
   ]
  },
  {
   "cell_type": "code",
   "execution_count": 60,
   "metadata": {},
   "outputs": [],
   "source": [
    "def RGB_valid(RGB):\n",
    "    return np.all(np.logical_and(np.greater_equal(RGB, 0.), np.less_equal(RGB, 1.)))"
   ]
  },
  {
   "cell_type": "code",
   "execution_count": 61,
   "metadata": {},
   "outputs": [],
   "source": [
    "def find_colourfulness_limit(Jp, h, view):\n",
    "    return binary_search(0., 1., 0.000001, lambda Mp: RGB_valid(JpMph_to_RGB([Jp, Mp, h], view)))"
   ]
  },
  {
   "cell_type": "code",
   "execution_count": 62,
   "metadata": {},
   "outputs": [],
   "source": [
    "def find_saturation_limit(Jp, h, view):\n",
    "    return find_colourfulness_limit(Jp, h, view) / np.sqrt(Jp)"
   ]
  },
  {
   "cell_type": "code",
   "execution_count": 63,
   "metadata": {},
   "outputs": [],
   "source": [
    "def _decolor(JpMph, view):\n",
    "    if RGB_valid(JpMph_to_RGB(JpMph, view)):\n",
    "        return JpMph.copy()\n",
    "    else:\n",
    "        return np.array([JpMph[0], find_colourfulness_limit(JpMph[0], JpMph[2], view), JpMph[2]])\n",
    "\n",
    "decolor = np.vectorize(_decolor, excluded=['view'], signature='(3),()->(3)')"
   ]
  },
  {
   "source": [
    "## Light Theme\n",
    "\n",
    "We're ready to start developing our light theme. From here on we're done developing our function library, so we'll switch to Scale-1 and assume it from here on."
   ],
   "cell_type": "markdown",
   "metadata": {}
  },
  {
   "cell_type": "code",
   "execution_count": 64,
   "metadata": {},
   "outputs": [],
   "source": [
    "colour.set_domain_range_scale('1')"
   ]
  },
  {
   "source": [
    "We'll start with our seven neutral colors. Denote their relative luminances by $Y_0 \\ldots Y_6$, their corresponding CIE1976 lightnesses by $L^*_0 \\ldots L^*_6$, and their corresponding CAM16-UCS lightnesses, viewed against a background of $Y_5$, by $J'_0 \\ldots J'_6$.\n",
    "\n",
    "* $Y_0 = 0.05$, *i.e.,* the blackest black we can get away with if we want to be able to encode for an environment with 5% flare. This corresponds to an $L^*$ of about 26.7%.\n",
    "\n",
    "* $L^*_5 = 0.92$. This is our main background color, and 92% is the lightness of good-quality book paper when it hasn't been artificially lightened by florescent dye.\n",
    "\n",
    "* $L^*_2 = 0.35$.  This our main foreground color, which we want to resemble black ink. Black inks typcially have an $L^*$ of 25–35%. We'll go with 35% to give ourselves more breathing room to make $Y_1$ easily distinct from both $Y_0$ and $Y_2$.\n",
    "\n",
    "* $J'_6 = J'_5 + 0.05$, so our emphasized background appears 5% lighter than our regular background.\n",
    "\n",
    "* $J'_1 = J'_0 + 0.05$, for similar behavior from our inverse backgrounds (we're still assuming adaptation to the light background color since we expect this to dominant the display).\n",
    "\n",
    "* $Y_4 = Y_1 Y_5 Y^{-1}_2$, giving our inverse scheme the same contrast ratio as our regular scheme.\n",
    "\n",
    "* $Y_3 = \\sqrt{Y_1 Y_5}$, giving it equal contrast with the regular and inverse backgrounds.\n",
    "\n",
    "Before we go on to compute these, though, we need define our viewing environment because it's needed for converting in and out of CAM16-UCS space to obtain our $J'$ values.\n",
    "\n",
    "* Our colorspace is sRGB, the standard for computer monitors and televisions.\n",
    "* Our ambient whitepoint is D55, for mid-morning daylight through a window.\n",
    "* Our ambient illuminance is 200 lux, on the dimmer side of what you get in a modern office building.\n",
    "* Our ambient lightness is 50%, a good default assumption.\n",
    "* Our simulated illuminant is D50, which resembles horizon light.\n",
    "* Our simulated ambient illuminance is 1000 lux, like an overcast day.\n",
    "* Our simulated ambient lightness is 50% again.\n",
    "* Our screen luminance is 250 cd/m^2, well-matched to a 200 lux environment and a common maximum setting for low-end LCDs.\n",
    "* Our background lightness is $L^*_5$ or  92%.\n",
    "* Glare is 8.5%, per <http://www.sid.org/Portals/sid/Upper%20MidWest%20Chapter/PDF%20and%20Images/SID%202015%20TLM.pdf>.\n",
    "* Leakage is 0.1%, corresponding to the 1:1000 contrast ratio you get from a low-end LCD.\n",
    "\n",
    "If you adjust these values, be careful not to set the ambient illuminance too much brighter relative to the screen luminance. If flare exceeds 5%, this will push the black values out of bounds, because your screen is so washed-out by glare that we can't darken our colors enough to compensate. You might also encounter problems if you choose an extremely warm ambient illuminant such as A (tungsten bulb) or FL4 (warm white flourescent). We won't be able to remove enough red from our RGB values to make up for the excess of it that these bulbs shed."
   ],
   "cell_type": "markdown",
   "metadata": {}
  },
  {
   "cell_type": "code",
   "execution_count": 65,
   "metadata": {},
   "outputs": [],
   "source": [
    "LIGHT = ViewingEnvironment(\n",
    "    rgb_colourspace=colour.RGB_COLOURSPACES['sRGB'],\n",
    "    ambient_whitepoint=colour.ILLUMINANTS['CIE 1931 2 Degree Standard Observer']['D55'],\n",
    "    ambient_illuminance=200.,\n",
    "    ambient_lightness=0.5,\n",
    "    simulated_whitepoint=colour.ILLUMINANTS['CIE 1931 2 Degree Standard Observer']['D50'],\n",
    "    simulated_ambient_illuminance=1000.,\n",
    "    simulated_ambient_lightness=0.5,\n",
    "    white_screen_luminance=250.,\n",
    "    background_lightness=0.92,\n",
    "    glare=0.085,\n",
    "    leakage=0.001\n",
    ")"
   ]
  },
  {
   "source": [
    "We'll never produce any colors such that $\\frac{J'}{\\sqrt{M'}}$ is greater than the following cap. In sRGB we take what we can get and the cap never limits us, but we want to avoid overdoing it if we're targeting a broader gamut."
   ],
   "cell_type": "markdown",
   "metadata": {}
  },
  {
   "cell_type": "code",
   "execution_count": 66,
   "metadata": {},
   "outputs": [],
   "source": [
    "LIGHT_saturation_cap = 0.35\n",
    "\n",
    "def LIGHT_find_satuaration_limit(Jps, hs):\n",
    "    return np.min( [ find_colourfulness_limit(Jp, h, LIGHT) / np.sqrt(Jp) for (Jp,h) in zip(Jps,hs) ] + [LIGHT_saturation_cap] )"
   ]
  },
  {
   "cell_type": "code",
   "execution_count": 67,
   "metadata": {},
   "outputs": [],
   "source": [
    "# First fill in the three that are directly determined, using zero as a placehold for the rest. \n",
    "LIGHT_Ys = np.array([ 0.05, 0., colour.luminance(0.35), 0., 0., colour.luminance(0.92), 0. ])\n",
    "\n",
    "LIGHT_Ys[1] =  \\\n",
    "    JpMph_to_XYZ(\n",
    "        XYZ_to_JpMph(colour.xyY_to_XYZ([LIGHT.simulated_whitepoint[0], LIGHT.simulated_whitepoint[1], LIGHT_Ys[0]]), LIGHT) + [0.05, 0, 0],\n",
    "        LIGHT\n",
    "    )[0]\n",
    "\n",
    "LIGHT_Ys[6] =  \\\n",
    "    JpMph_to_XYZ(\n",
    "        XYZ_to_JpMph(colour.xyY_to_XYZ([LIGHT.simulated_whitepoint[0], LIGHT.simulated_whitepoint[1], LIGHT_Ys[5]]), LIGHT) + [0.05, 0, 0],\n",
    "        LIGHT\n",
    "    )[0]\n",
    "\n",
    "LIGHT_Ys[4] = LIGHT_Ys[1] * LIGHT_Ys[5] / LIGHT_Ys[2]\n",
    "LIGHT_Ys[3] = np.sqrt(LIGHT_Ys[1] * LIGHT_Ys[5])"
   ]
  },
  {
   "source": [
    "That settles our $Y$. For $X$ and $Z$, we'll make our neutrals perfectly netural when viewed in our simulated D50 setting. But due to incomplete adaptation, they'll come out subtly warm when we encode into D65 for screen vieweing."
   ],
   "cell_type": "markdown",
   "metadata": {}
  },
  {
   "cell_type": "code",
   "execution_count": 68,
   "metadata": {},
   "outputs": [
    {
     "output_type": "display_data",
     "data": {
      "text/plain": "<Figure size 432x288 with 1 Axes>",
      "image/svg+xml": "<?xml version=\"1.0\" encoding=\"utf-8\" standalone=\"no\"?>\n<!DOCTYPE svg PUBLIC \"-//W3C//DTD SVG 1.1//EN\"\n  \"http://www.w3.org/Graphics/SVG/1.1/DTD/svg11.dtd\">\n<!-- Created with matplotlib (https://matplotlib.org/) -->\n<svg height=\"73.028571pt\" version=\"1.1\" viewBox=\"0 0 424.8 73.028571\" width=\"424.8pt\" xmlns=\"http://www.w3.org/2000/svg\" xmlns:xlink=\"http://www.w3.org/1999/xlink\">\n <metadata>\n  <rdf:RDF xmlns:cc=\"http://creativecommons.org/ns#\" xmlns:dc=\"http://purl.org/dc/elements/1.1/\" xmlns:rdf=\"http://www.w3.org/1999/02/22-rdf-syntax-ns#\">\n   <cc:Work>\n    <dc:type rdf:resource=\"http://purl.org/dc/dcmitype/StillImage\"/>\n    <dc:date>1980-01-01T00:00:00+00:00</dc:date>\n    <dc:format>image/svg+xml</dc:format>\n    <dc:creator>\n     <cc:Agent>\n      <dc:title>Matplotlib v3.3.1, https://matplotlib.org/</dc:title>\n     </cc:Agent>\n    </dc:creator>\n   </cc:Work>\n  </rdf:RDF>\n </metadata>\n <defs>\n  <style type=\"text/css\">*{stroke-linecap:butt;stroke-linejoin:round;}</style>\n </defs>\n <g id=\"figure_1\">\n  <g id=\"patch_1\">\n   <path d=\"M 0 73.028571 \nL 424.8 73.028571 \nL 424.8 0 \nL 0 0 \nz\n\" style=\"fill:none;opacity:0;\"/>\n  </g>\n  <g id=\"axes_1\">\n   <g id=\"patch_2\">\n    <path d=\"M 7.2 65.828571 \nL 417.6 65.828571 \nL 417.6 7.2 \nL 7.2 7.2 \nz\n\" style=\"fill:#ffffff;\"/>\n   </g>\n   <g id=\"patch_3\">\n    <path clip-path=\"url(#p00527307e9)\" d=\"M 7.2 65.828571 \nL 65.828571 65.828571 \nL 65.828571 7.2 \nL 7.2 7.2 \nz\n\" style=\"fill:#2f2e2f;stroke:#2f2e2f;stroke-linejoin:miter;\"/>\n   </g>\n   <g id=\"patch_4\">\n    <path clip-path=\"url(#p00527307e9)\" d=\"M 7.2 65.828571 \nL 65.828571 65.828571 \nL 65.828571 7.2 \nz\n\" style=\"fill:#2f2e2f;stroke:#2f2e2f;stroke-linejoin:miter;\"/>\n   </g>\n   <g id=\"patch_5\">\n    <path clip-path=\"url(#p00527307e9)\" d=\"M 65.828571 65.828571 \nL 124.457143 65.828571 \nL 124.457143 7.2 \nL 65.828571 7.2 \nz\n\" style=\"fill:#3e3c3d;stroke:#3e3c3d;stroke-linejoin:miter;\"/>\n   </g>\n   <g id=\"patch_6\">\n    <path clip-path=\"url(#p00527307e9)\" d=\"M 65.828571 65.828571 \nL 124.457143 65.828571 \nL 124.457143 7.2 \nz\n\" style=\"fill:#3e3c3d;stroke:#3e3c3d;stroke-linejoin:miter;\"/>\n   </g>\n   <g id=\"patch_7\">\n    <path clip-path=\"url(#p00527307e9)\" d=\"M 124.457143 65.828571 \nL 183.085714 65.828571 \nL 183.085714 7.2 \nL 124.457143 7.2 \nz\n\" style=\"fill:#484646;stroke:#484646;stroke-linejoin:miter;\"/>\n   </g>\n   <g id=\"patch_8\">\n    <path clip-path=\"url(#p00527307e9)\" d=\"M 124.457143 65.828571 \nL 183.085714 65.828571 \nL 183.085714 7.2 \nz\n\" style=\"fill:#484646;stroke:#484646;stroke-linejoin:miter;\"/>\n   </g>\n   <g id=\"patch_9\">\n    <path clip-path=\"url(#p00527307e9)\" d=\"M 183.085714 65.828571 \nL 241.714286 65.828571 \nL 241.714286 7.2 \nL 183.085714 7.2 \nz\n\" style=\"fill:#827e7d;stroke:#827e7d;stroke-linejoin:miter;\"/>\n   </g>\n   <g id=\"patch_10\">\n    <path clip-path=\"url(#p00527307e9)\" d=\"M 183.085714 65.828571 \nL 241.714286 65.828571 \nL 241.714286 7.2 \nz\n\" style=\"fill:#827e7d;stroke:#827e7d;stroke-linejoin:miter;\"/>\n   </g>\n   <g id=\"patch_11\">\n    <path clip-path=\"url(#p00527307e9)\" d=\"M 241.714286 65.828571 \nL 300.342857 65.828571 \nL 300.342857 7.2 \nL 241.714286 7.2 \nz\n\" style=\"fill:#d5cfcc;stroke:#d5cfcc;stroke-linejoin:miter;\"/>\n   </g>\n   <g id=\"patch_12\">\n    <path clip-path=\"url(#p00527307e9)\" d=\"M 241.714286 65.828571 \nL 300.342857 65.828571 \nL 300.342857 7.2 \nz\n\" style=\"fill:#d5cfcc;stroke:#d5cfcc;stroke-linejoin:miter;\"/>\n   </g>\n   <g id=\"patch_13\">\n    <path clip-path=\"url(#p00527307e9)\" d=\"M 300.342857 65.828571 \nL 358.971429 65.828571 \nL 358.971429 7.2 \nL 300.342857 7.2 \nz\n\" style=\"fill:#ebe4e1;stroke:#ebe4e1;stroke-linejoin:miter;\"/>\n   </g>\n   <g id=\"patch_14\">\n    <path clip-path=\"url(#p00527307e9)\" d=\"M 300.342857 65.828571 \nL 358.971429 65.828571 \nL 358.971429 7.2 \nz\n\" style=\"fill:#ebe4e1;stroke:#ebe4e1;stroke-linejoin:miter;\"/>\n   </g>\n   <g id=\"patch_15\">\n    <path clip-path=\"url(#p00527307e9)\" d=\"M 358.971429 65.828571 \nL 417.6 65.828571 \nL 417.6 7.2 \nL 358.971429 7.2 \nz\n\" style=\"fill:#f5eeea;stroke:#f5eeea;stroke-linejoin:miter;\"/>\n   </g>\n   <g id=\"patch_16\">\n    <path clip-path=\"url(#p00527307e9)\" d=\"M 358.971429 65.828571 \nL 417.6 65.828571 \nL 417.6 7.2 \nz\n\" style=\"fill:#f5eeea;stroke:#f5eeea;stroke-linejoin:miter;\"/>\n   </g>\n   <g id=\"matplotlib.axis_1\">\n    <g id=\"xtick_1\"/>\n    <g id=\"xtick_2\"/>\n    <g id=\"xtick_3\"/>\n    <g id=\"xtick_4\"/>\n    <g id=\"xtick_5\"/>\n    <g id=\"xtick_6\"/>\n    <g id=\"xtick_7\"/>\n    <g id=\"xtick_8\"/>\n   </g>\n   <g id=\"matplotlib.axis_2\">\n    <g id=\"ytick_1\"/>\n    <g id=\"ytick_2\"/>\n    <g id=\"ytick_3\"/>\n   </g>\n   <g id=\"patch_17\">\n    <path d=\"M 7.2 65.828571 \nL 7.2 7.2 \n\" style=\"fill:none;stroke:#000000;stroke-linecap:square;stroke-linejoin:miter;stroke-width:0.8;\"/>\n   </g>\n   <g id=\"patch_18\">\n    <path d=\"M 417.6 65.828571 \nL 417.6 7.2 \n\" style=\"fill:none;stroke:#000000;stroke-linecap:square;stroke-linejoin:miter;stroke-width:0.8;\"/>\n   </g>\n   <g id=\"patch_19\">\n    <path d=\"M 7.2 65.828571 \nL 417.6 65.828571 \n\" style=\"fill:none;stroke:#000000;stroke-linecap:square;stroke-linejoin:miter;stroke-width:0.8;\"/>\n   </g>\n   <g id=\"patch_20\">\n    <path d=\"M 7.2 7.2 \nL 417.6 7.2 \n\" style=\"fill:none;stroke:#000000;stroke-linecap:square;stroke-linejoin:miter;stroke-width:0.8;\"/>\n   </g>\n  </g>\n </g>\n <defs>\n  <clipPath id=\"p00527307e9\">\n   <rect height=\"58.628571\" width=\"410.4\" x=\"7.2\" y=\"7.2\"/>\n  </clipPath>\n </defs>\n</svg>\n",
      "image/png": "[encoded data removed]"
     },
     "metadata": {}
    },
    {
     "output_type": "execute_result",
     "data": {
      "text/plain": [
       "array(['#2e2d2f', '#3d3c3d', '#484646', '#827e7d', '#d5cecb', '#eae3e0',\n",
       "       '#f5edea'], dtype=object)"
      ]
     },
     "metadata": {},
     "execution_count": 68
    }
   ],
   "source": [
    "LIGHT_neutral_XYZs = \\\n",
    "    [colour.xyY_to_XYZ([\n",
    "        LIGHT.simulated_whitepoint[0],\n",
    "        LIGHT.simulated_whitepoint[1],\n",
    "        Y]) \n",
    "        for Y in LIGHT_Ys]\n",
    "\n",
    "LIGHT_neutral_colors = XYZ_to_JpMph(LIGHT_neutral_XYZs, LIGHT)\n",
    "LIGHT_Jps = LIGHT_neutral_colors[...,0]\n",
    "\n",
    "display_JpMph(LIGHT_neutral_colors, LIGHT)\n",
    "\n",
    "JpMph_to_HEX(LIGHT_neutral_colors, LIGHT)"
   ]
  },
  {
   "source": [
    "Next we're going pick the hues of our foreground colors. These will be six hues at regular 60° steps around the CAM16-UCS color wheel. To choose our starting point, we take note of the common complaint that the sRGB gamut is very limited in the area of cyan. We arrange things such that when things get encoded back into sRGB at the end, we straddle that nadir as distantly as possible."
   ],
   "cell_type": "markdown",
   "metadata": {}
  },
  {
   "cell_type": "code",
   "execution_count": 69,
   "metadata": {},
   "outputs": [
    {
     "output_type": "display_data",
     "data": {
      "text/plain": "<Figure size 432x288 with 1 Axes>",
      "image/svg+xml": "<?xml version=\"1.0\" encoding=\"utf-8\" standalone=\"no\"?>\n<!DOCTYPE svg PUBLIC \"-//W3C//DTD SVG 1.1//EN\"\n  \"http://www.w3.org/Graphics/SVG/1.1/DTD/svg11.dtd\">\n<!-- Created with matplotlib (https://matplotlib.org/) -->\n<svg height=\"82.8pt\" version=\"1.1\" viewBox=\"0 0 424.8 82.8\" width=\"424.8pt\" xmlns=\"http://www.w3.org/2000/svg\" xmlns:xlink=\"http://www.w3.org/1999/xlink\">\n <metadata>\n  <rdf:RDF xmlns:cc=\"http://creativecommons.org/ns#\" xmlns:dc=\"http://purl.org/dc/elements/1.1/\" xmlns:rdf=\"http://www.w3.org/1999/02/22-rdf-syntax-ns#\">\n   <cc:Work>\n    <dc:type rdf:resource=\"http://purl.org/dc/dcmitype/StillImage\"/>\n    <dc:date>1980-01-01T00:00:00+00:00</dc:date>\n    <dc:format>image/svg+xml</dc:format>\n    <dc:creator>\n     <cc:Agent>\n      <dc:title>Matplotlib v3.3.1, https://matplotlib.org/</dc:title>\n     </cc:Agent>\n    </dc:creator>\n   </cc:Work>\n  </rdf:RDF>\n </metadata>\n <defs>\n  <style type=\"text/css\">*{stroke-linecap:butt;stroke-linejoin:round;}</style>\n </defs>\n <g id=\"figure_1\">\n  <g id=\"patch_1\">\n   <path d=\"M 0 82.8 \nL 424.8 82.8 \nL 424.8 0 \nL 0 0 \nz\n\" style=\"fill:none;opacity:0;\"/>\n  </g>\n  <g id=\"axes_1\">\n   <g id=\"patch_2\">\n    <path d=\"M 7.2 75.6 \nL 417.6 75.6 \nL 417.6 7.2 \nL 7.2 7.2 \nz\n\" style=\"fill:#ffffff;\"/>\n   </g>\n   <g id=\"patch_3\">\n    <path clip-path=\"url(#paf0b9006dc)\" d=\"M 7.2 75.6 \nL 75.6 75.6 \nL 75.6 7.2 \nL 7.2 7.2 \nz\n\" style=\"fill:#8b4a2c;stroke:#8b4a2c;stroke-linejoin:miter;\"/>\n   </g>\n   <g id=\"patch_4\">\n    <path clip-path=\"url(#paf0b9006dc)\" d=\"M 7.2 75.6 \nL 75.6 75.6 \nL 75.6 7.2 \nz\n\" style=\"fill:#8b4a2c;stroke:#8b4a2c;stroke-linejoin:miter;\"/>\n   </g>\n   <g id=\"patch_5\">\n    <path clip-path=\"url(#paf0b9006dc)\" d=\"M 75.6 75.6 \nL 144 75.6 \nL 144 7.2 \nL 75.6 7.2 \nz\n\" style=\"fill:#7f6800;stroke:#7f6800;stroke-linejoin:miter;\"/>\n   </g>\n   <g id=\"patch_6\">\n    <path clip-path=\"url(#paf0b9006dc)\" d=\"M 75.6 75.6 \nL 144 75.6 \nL 144 7.2 \nz\n\" style=\"fill:#7f6800;stroke:#7f6800;stroke-linejoin:miter;\"/>\n   </g>\n   <g id=\"patch_7\">\n    <path clip-path=\"url(#paf0b9006dc)\" d=\"M 144 75.6 \nL 212.4 75.6 \nL 212.4 7.2 \nL 144 7.2 \nz\n\" style=\"fill:#3b6a39;stroke:#3b6a39;stroke-linejoin:miter;\"/>\n   </g>\n   <g id=\"patch_8\">\n    <path clip-path=\"url(#paf0b9006dc)\" d=\"M 144 75.6 \nL 212.4 75.6 \nL 212.4 7.2 \nz\n\" style=\"fill:#3b6a39;stroke:#3b6a39;stroke-linejoin:miter;\"/>\n   </g>\n   <g id=\"patch_9\">\n    <path clip-path=\"url(#paf0b9006dc)\" d=\"M 212.4 75.6 \nL 280.8 75.6 \nL 280.8 7.2 \nL 212.4 7.2 \nz\n\" style=\"fill:#124d71;stroke:#124d71;stroke-linejoin:miter;\"/>\n   </g>\n   <g id=\"patch_10\">\n    <path clip-path=\"url(#paf0b9006dc)\" d=\"M 212.4 75.6 \nL 280.8 75.6 \nL 280.8 7.2 \nz\n\" style=\"fill:#124d71;stroke:#124d71;stroke-linejoin:miter;\"/>\n   </g>\n   <g id=\"patch_11\">\n    <path clip-path=\"url(#paf0b9006dc)\" d=\"M 280.8 75.6 \nL 349.2 75.6 \nL 349.2 7.2 \nL 280.8 7.2 \nz\n\" style=\"fill:#4f447a;stroke:#4f447a;stroke-linejoin:miter;\"/>\n   </g>\n   <g id=\"patch_12\">\n    <path clip-path=\"url(#paf0b9006dc)\" d=\"M 280.8 75.6 \nL 349.2 75.6 \nL 349.2 7.2 \nz\n\" style=\"fill:#4f447a;stroke:#4f447a;stroke-linejoin:miter;\"/>\n   </g>\n   <g id=\"patch_13\">\n    <path clip-path=\"url(#paf0b9006dc)\" d=\"M 349.2 75.6 \nL 417.6 75.6 \nL 417.6 7.2 \nL 349.2 7.2 \nz\n\" style=\"fill:#783f62;stroke:#783f62;stroke-linejoin:miter;\"/>\n   </g>\n   <g id=\"patch_14\">\n    <path clip-path=\"url(#paf0b9006dc)\" d=\"M 349.2 75.6 \nL 417.6 75.6 \nL 417.6 7.2 \nz\n\" style=\"fill:#783f62;stroke:#783f62;stroke-linejoin:miter;\"/>\n   </g>\n   <g id=\"matplotlib.axis_1\">\n    <g id=\"xtick_1\"/>\n    <g id=\"xtick_2\"/>\n    <g id=\"xtick_3\"/>\n    <g id=\"xtick_4\"/>\n    <g id=\"xtick_5\"/>\n    <g id=\"xtick_6\"/>\n    <g id=\"xtick_7\"/>\n   </g>\n   <g id=\"matplotlib.axis_2\">\n    <g id=\"ytick_1\"/>\n    <g id=\"ytick_2\"/>\n    <g id=\"ytick_3\"/>\n   </g>\n   <g id=\"patch_15\">\n    <path d=\"M 7.2 75.6 \nL 7.2 7.2 \n\" style=\"fill:none;stroke:#000000;stroke-linecap:square;stroke-linejoin:miter;stroke-width:0.8;\"/>\n   </g>\n   <g id=\"patch_16\">\n    <path d=\"M 417.6 75.6 \nL 417.6 7.2 \n\" style=\"fill:none;stroke:#000000;stroke-linecap:square;stroke-linejoin:miter;stroke-width:0.8;\"/>\n   </g>\n   <g id=\"patch_17\">\n    <path d=\"M 7.2 75.6 \nL 417.6 75.6 \n\" style=\"fill:none;stroke:#000000;stroke-linecap:square;stroke-linejoin:miter;stroke-width:0.8;\"/>\n   </g>\n   <g id=\"patch_18\">\n    <path d=\"M 7.2 7.2 \nL 417.6 7.2 \n\" style=\"fill:none;stroke:#000000;stroke-linecap:square;stroke-linejoin:miter;stroke-width:0.8;\"/>\n   </g>\n  </g>\n </g>\n <defs>\n  <clipPath id=\"paf0b9006dc\">\n   <rect height=\"68.4\" width=\"410.4\" x=\"7.2\" y=\"7.2\"/>\n  </clipPath>\n </defs>\n</svg>\n",
      "image/png": "[encoded data removed]"
     },
     "metadata": {}
    }
   ],
   "source": [
    "LIGHT_bad_color_XYZ = HEX_to_XYZ('#00ffff', LIGHT)\n",
    "\n",
    "LIGHT_bad_hue = XYZ_to_JpMph(LIGHT_bad_color_XYZ, LIGHT)[2]\n",
    "LIGHT_fg_hues = np.array([ (LIGHT_bad_hue + h/7.) % 1. for h in [ -3, -2, -1, 1, 2, 3] ])\n",
    "\n",
    "#LIGHT_fg_hues = np.array([ (LIGHT_bad_hue + h/360.) % 1. for h in [ -148, -94, -40, 40, 94, 148] ])\n",
    "\n",
    "LIGHT_fg_min_Jp = XYZ_to_JpMph(LIGHT_neutral_XYZs[2], LIGHT)[0]\n",
    "LIGHT_fg_max_Jp = XYZ_to_JpMph(LIGHT_neutral_XYZs[5]/4.8, LIGHT)[0]\n",
    "\n",
    "LIGHT_fg_vivid_Jps = np.array([  \n",
    "    (LIGHT_fg_max_Jp + LIGHT_fg_min_Jp)/2. +\n",
    "    (LIGHT_fg_max_Jp - LIGHT_fg_min_Jp)/2. *\n",
    "    warmness(hue_to_quadrature(h))\n",
    "    for h in LIGHT_fg_hues\n",
    "])\n",
    "\n",
    "LIGHT_fg_vivid_saturation_limit = LIGHT_find_satuaration_limit(LIGHT_fg_vivid_Jps, LIGHT_fg_hues)\n",
    "LIGHT_fg_vivid_Mps = np.array([ np.sqrt(Jp) * LIGHT_fg_vivid_saturation_limit for  Jp in LIGHT_fg_vivid_Jps ])\n",
    "LIGHT_fg_vivid_colors = np.array(list(zip(LIGHT_fg_vivid_Jps, LIGHT_fg_vivid_Mps, LIGHT_fg_hues)))\n",
    "\n",
    "display_JpMph(LIGHT_fg_vivid_colors, LIGHT)"
   ]
  },
  {
   "cell_type": "code",
   "execution_count": 70,
   "metadata": {},
   "outputs": [
    {
     "output_type": "display_data",
     "data": {
      "text/plain": "<Figure size 432x288 with 1 Axes>",
      "image/svg+xml": "<?xml version=\"1.0\" encoding=\"utf-8\" standalone=\"no\"?>\n<!DOCTYPE svg PUBLIC \"-//W3C//DTD SVG 1.1//EN\"\n  \"http://www.w3.org/Graphics/SVG/1.1/DTD/svg11.dtd\">\n<!-- Created with matplotlib (https://matplotlib.org/) -->\n<svg height=\"82.8pt\" version=\"1.1\" viewBox=\"0 0 424.8 82.8\" width=\"424.8pt\" xmlns=\"http://www.w3.org/2000/svg\" xmlns:xlink=\"http://www.w3.org/1999/xlink\">\n <metadata>\n  <rdf:RDF xmlns:cc=\"http://creativecommons.org/ns#\" xmlns:dc=\"http://purl.org/dc/elements/1.1/\" xmlns:rdf=\"http://www.w3.org/1999/02/22-rdf-syntax-ns#\">\n   <cc:Work>\n    <dc:type rdf:resource=\"http://purl.org/dc/dcmitype/StillImage\"/>\n    <dc:date>1980-01-01T00:00:00+00:00</dc:date>\n    <dc:format>image/svg+xml</dc:format>\n    <dc:creator>\n     <cc:Agent>\n      <dc:title>Matplotlib v3.3.1, https://matplotlib.org/</dc:title>\n     </cc:Agent>\n    </dc:creator>\n   </cc:Work>\n  </rdf:RDF>\n </metadata>\n <defs>\n  <style type=\"text/css\">*{stroke-linecap:butt;stroke-linejoin:round;}</style>\n </defs>\n <g id=\"figure_1\">\n  <g id=\"patch_1\">\n   <path d=\"M 0 82.8 \nL 424.8 82.8 \nL 424.8 0 \nL 0 0 \nz\n\" style=\"fill:none;opacity:0;\"/>\n  </g>\n  <g id=\"axes_1\">\n   <g id=\"patch_2\">\n    <path d=\"M 7.2 75.6 \nL 417.6 75.6 \nL 417.6 7.2 \nL 7.2 7.2 \nz\n\" style=\"fill:#ffffff;\"/>\n   </g>\n   <g id=\"patch_3\">\n    <path clip-path=\"url(#pf14bf218d1)\" d=\"M 7.2 75.6 \nL 75.6 75.6 \nL 75.6 7.2 \nL 7.2 7.2 \nz\n\" style=\"fill:#886051;stroke:#886051;stroke-linejoin:miter;\"/>\n   </g>\n   <g id=\"patch_4\">\n    <path clip-path=\"url(#pf14bf218d1)\" d=\"M 7.2 75.6 \nL 75.6 75.6 \nL 75.6 7.2 \nz\n\" style=\"fill:#886051;stroke:#886051;stroke-linejoin:miter;\"/>\n   </g>\n   <g id=\"patch_5\">\n    <path clip-path=\"url(#pf14bf218d1)\" d=\"M 75.6 75.6 \nL 144 75.6 \nL 144 7.2 \nL 75.6 7.2 \nz\n\" style=\"fill:#776a43;stroke:#776a43;stroke-linejoin:miter;\"/>\n   </g>\n   <g id=\"patch_6\">\n    <path clip-path=\"url(#pf14bf218d1)\" d=\"M 75.6 75.6 \nL 144 75.6 \nL 144 7.2 \nz\n\" style=\"fill:#776a43;stroke:#776a43;stroke-linejoin:miter;\"/>\n   </g>\n   <g id=\"patch_7\">\n    <path clip-path=\"url(#pf14bf218d1)\" d=\"M 144 75.6 \nL 212.4 75.6 \nL 212.4 7.2 \nL 144 7.2 \nz\n\" style=\"fill:#5a7259;stroke:#5a7259;stroke-linejoin:miter;\"/>\n   </g>\n   <g id=\"patch_8\">\n    <path clip-path=\"url(#pf14bf218d1)\" d=\"M 144 75.6 \nL 212.4 75.6 \nL 212.4 7.2 \nz\n\" style=\"fill:#5a7259;stroke:#5a7259;stroke-linejoin:miter;\"/>\n   </g>\n   <g id=\"patch_9\">\n    <path clip-path=\"url(#pf14bf218d1)\" d=\"M 212.4 75.6 \nL 280.8 75.6 \nL 280.8 7.2 \nL 212.4 7.2 \nz\n\" style=\"fill:#566e85;stroke:#566e85;stroke-linejoin:miter;\"/>\n   </g>\n   <g id=\"patch_10\">\n    <path clip-path=\"url(#pf14bf218d1)\" d=\"M 212.4 75.6 \nL 280.8 75.6 \nL 280.8 7.2 \nz\n\" style=\"fill:#566e85;stroke:#566e85;stroke-linejoin:miter;\"/>\n   </g>\n   <g id=\"patch_11\">\n    <path clip-path=\"url(#pf14bf218d1)\" d=\"M 280.8 75.6 \nL 349.2 75.6 \nL 349.2 7.2 \nL 280.8 7.2 \nz\n\" style=\"fill:#6c6686;stroke:#6c6686;stroke-linejoin:miter;\"/>\n   </g>\n   <g id=\"patch_12\">\n    <path clip-path=\"url(#pf14bf218d1)\" d=\"M 280.8 75.6 \nL 349.2 75.6 \nL 349.2 7.2 \nz\n\" style=\"fill:#6c6686;stroke:#6c6686;stroke-linejoin:miter;\"/>\n   </g>\n   <g id=\"patch_13\">\n    <path clip-path=\"url(#pf14bf218d1)\" d=\"M 349.2 75.6 \nL 417.6 75.6 \nL 417.6 7.2 \nL 349.2 7.2 \nz\n\" style=\"fill:#815f73;stroke:#815f73;stroke-linejoin:miter;\"/>\n   </g>\n   <g id=\"patch_14\">\n    <path clip-path=\"url(#pf14bf218d1)\" d=\"M 349.2 75.6 \nL 417.6 75.6 \nL 417.6 7.2 \nz\n\" style=\"fill:#815f73;stroke:#815f73;stroke-linejoin:miter;\"/>\n   </g>\n   <g id=\"matplotlib.axis_1\">\n    <g id=\"xtick_1\"/>\n    <g id=\"xtick_2\"/>\n    <g id=\"xtick_3\"/>\n    <g id=\"xtick_4\"/>\n    <g id=\"xtick_5\"/>\n    <g id=\"xtick_6\"/>\n    <g id=\"xtick_7\"/>\n   </g>\n   <g id=\"matplotlib.axis_2\">\n    <g id=\"ytick_1\"/>\n    <g id=\"ytick_2\"/>\n    <g id=\"ytick_3\"/>\n   </g>\n   <g id=\"patch_15\">\n    <path d=\"M 7.2 75.6 \nL 7.2 7.2 \n\" style=\"fill:none;stroke:#000000;stroke-linecap:square;stroke-linejoin:miter;stroke-width:0.8;\"/>\n   </g>\n   <g id=\"patch_16\">\n    <path d=\"M 417.6 75.6 \nL 417.6 7.2 \n\" style=\"fill:none;stroke:#000000;stroke-linecap:square;stroke-linejoin:miter;stroke-width:0.8;\"/>\n   </g>\n   <g id=\"patch_17\">\n    <path d=\"M 7.2 75.6 \nL 417.6 75.6 \n\" style=\"fill:none;stroke:#000000;stroke-linecap:square;stroke-linejoin:miter;stroke-width:0.8;\"/>\n   </g>\n   <g id=\"patch_18\">\n    <path d=\"M 7.2 7.2 \nL 417.6 7.2 \n\" style=\"fill:none;stroke:#000000;stroke-linecap:square;stroke-linejoin:miter;stroke-width:0.8;\"/>\n   </g>\n  </g>\n </g>\n <defs>\n  <clipPath id=\"pf14bf218d1\">\n   <rect height=\"68.4\" width=\"410.4\" x=\"7.2\" y=\"7.2\"/>\n  </clipPath>\n </defs>\n</svg>\n",
      "image/png": "[encoded data removed]"
     },
     "metadata": {}
    }
   ],
   "source": [
    "LIGHT_fg_soft_Jp = LIGHT_fg_max_Jp\n",
    "LIGHT_fg_soft_Mp = np.sqrt(LIGHT_fg_soft_Jp) * LIGHT_fg_vivid_saturation_limit * 0.6\n",
    "LIGHT_fg_soft_colors = np.array([[LIGHT_fg_soft_Jp, LIGHT_fg_soft_Mp, h] for h in LIGHT_fg_hues])\n",
    "\n",
    "display_JpMph(LIGHT_fg_soft_colors, LIGHT)"
   ]
  },
  {
   "cell_type": "code",
   "execution_count": 71,
   "metadata": {},
   "outputs": [
    {
     "output_type": "display_data",
     "data": {
      "text/plain": "<Figure size 432x288 with 1 Axes>",
      "image/svg+xml": "<?xml version=\"1.0\" encoding=\"utf-8\" standalone=\"no\"?>\n<!DOCTYPE svg PUBLIC \"-//W3C//DTD SVG 1.1//EN\"\n  \"http://www.w3.org/Graphics/SVG/1.1/DTD/svg11.dtd\">\n<!-- Created with matplotlib (https://matplotlib.org/) -->\n<svg height=\"82.8pt\" version=\"1.1\" viewBox=\"0 0 424.8 82.8\" width=\"424.8pt\" xmlns=\"http://www.w3.org/2000/svg\" xmlns:xlink=\"http://www.w3.org/1999/xlink\">\n <metadata>\n  <rdf:RDF xmlns:cc=\"http://creativecommons.org/ns#\" xmlns:dc=\"http://purl.org/dc/elements/1.1/\" xmlns:rdf=\"http://www.w3.org/1999/02/22-rdf-syntax-ns#\">\n   <cc:Work>\n    <dc:type rdf:resource=\"http://purl.org/dc/dcmitype/StillImage\"/>\n    <dc:date>1980-01-01T00:00:00+00:00</dc:date>\n    <dc:format>image/svg+xml</dc:format>\n    <dc:creator>\n     <cc:Agent>\n      <dc:title>Matplotlib v3.3.1, https://matplotlib.org/</dc:title>\n     </cc:Agent>\n    </dc:creator>\n   </cc:Work>\n  </rdf:RDF>\n </metadata>\n <defs>\n  <style type=\"text/css\">*{stroke-linecap:butt;stroke-linejoin:round;}</style>\n </defs>\n <g id=\"figure_1\">\n  <g id=\"patch_1\">\n   <path d=\"M 0 82.8 \nL 424.8 82.8 \nL 424.8 0 \nL 0 0 \nz\n\" style=\"fill:none;opacity:0;\"/>\n  </g>\n  <g id=\"axes_1\">\n   <g id=\"patch_2\">\n    <path d=\"M 7.2 75.6 \nL 417.6 75.6 \nL 417.6 7.2 \nL 7.2 7.2 \nz\n\" style=\"fill:#ffffff;\"/>\n   </g>\n   <g id=\"patch_3\">\n    <path clip-path=\"url(#p2121e2aab6)\" d=\"M 7.2 75.6 \nL 75.6 75.6 \nL 75.6 7.2 \nL 7.2 7.2 \nz\n\" style=\"fill:#ff9f78;stroke:#ff9f78;stroke-linejoin:miter;\"/>\n   </g>\n   <g id=\"patch_4\">\n    <path clip-path=\"url(#p2121e2aab6)\" d=\"M 7.2 75.6 \nL 75.6 75.6 \nL 75.6 7.2 \nz\n\" style=\"fill:#ff9f78;stroke:#ff9f78;stroke-linejoin:miter;\"/>\n   </g>\n   <g id=\"patch_5\">\n    <path clip-path=\"url(#p2121e2aab6)\" d=\"M 75.6 75.6 \nL 144 75.6 \nL 144 7.2 \nL 75.6 7.2 \nz\n\" style=\"fill:#efcc5b;stroke:#efcc5b;stroke-linejoin:miter;\"/>\n   </g>\n   <g id=\"patch_6\">\n    <path clip-path=\"url(#p2121e2aab6)\" d=\"M 75.6 75.6 \nL 144 75.6 \nL 144 7.2 \nz\n\" style=\"fill:#efcc5b;stroke:#efcc5b;stroke-linejoin:miter;\"/>\n   </g>\n   <g id=\"patch_7\">\n    <path clip-path=\"url(#p2121e2aab6)\" d=\"M 144 75.6 \nL 212.4 75.6 \nL 212.4 7.2 \nL 144 7.2 \nz\n\" style=\"fill:#8ecc88;stroke:#8ecc88;stroke-linejoin:miter;\"/>\n   </g>\n   <g id=\"patch_8\">\n    <path clip-path=\"url(#p2121e2aab6)\" d=\"M 144 75.6 \nL 212.4 75.6 \nL 212.4 7.2 \nz\n\" style=\"fill:#8ecc88;stroke:#8ecc88;stroke-linejoin:miter;\"/>\n   </g>\n   <g id=\"patch_9\">\n    <path clip-path=\"url(#p2121e2aab6)\" d=\"M 212.4 75.6 \nL 280.8 75.6 \nL 280.8 7.2 \nL 212.4 7.2 \nz\n\" style=\"fill:#639fd1;stroke:#639fd1;stroke-linejoin:miter;\"/>\n   </g>\n   <g id=\"patch_10\">\n    <path clip-path=\"url(#p2121e2aab6)\" d=\"M 212.4 75.6 \nL 280.8 75.6 \nL 280.8 7.2 \nz\n\" style=\"fill:#639fd1;stroke:#639fd1;stroke-linejoin:miter;\"/>\n   </g>\n   <g id=\"patch_11\">\n    <path clip-path=\"url(#p2121e2aab6)\" d=\"M 280.8 75.6 \nL 349.2 75.6 \nL 349.2 7.2 \nL 280.8 7.2 \nz\n\" style=\"fill:#a494de;stroke:#a494de;stroke-linejoin:miter;\"/>\n   </g>\n   <g id=\"patch_12\">\n    <path clip-path=\"url(#p2121e2aab6)\" d=\"M 280.8 75.6 \nL 349.2 75.6 \nL 349.2 7.2 \nz\n\" style=\"fill:#a494de;stroke:#a494de;stroke-linejoin:miter;\"/>\n   </g>\n   <g id=\"patch_13\">\n    <path clip-path=\"url(#p2121e2aab6)\" d=\"M 349.2 75.6 \nL 417.6 75.6 \nL 417.6 7.2 \nL 349.2 7.2 \nz\n\" style=\"fill:#e08fbd;stroke:#e08fbd;stroke-linejoin:miter;\"/>\n   </g>\n   <g id=\"patch_14\">\n    <path clip-path=\"url(#p2121e2aab6)\" d=\"M 349.2 75.6 \nL 417.6 75.6 \nL 417.6 7.2 \nz\n\" style=\"fill:#e08fbd;stroke:#e08fbd;stroke-linejoin:miter;\"/>\n   </g>\n   <g id=\"matplotlib.axis_1\">\n    <g id=\"xtick_1\"/>\n    <g id=\"xtick_2\"/>\n    <g id=\"xtick_3\"/>\n    <g id=\"xtick_4\"/>\n    <g id=\"xtick_5\"/>\n    <g id=\"xtick_6\"/>\n    <g id=\"xtick_7\"/>\n   </g>\n   <g id=\"matplotlib.axis_2\">\n    <g id=\"ytick_1\"/>\n    <g id=\"ytick_2\"/>\n    <g id=\"ytick_3\"/>\n   </g>\n   <g id=\"patch_15\">\n    <path d=\"M 7.2 75.6 \nL 7.2 7.2 \n\" style=\"fill:none;stroke:#000000;stroke-linecap:square;stroke-linejoin:miter;stroke-width:0.8;\"/>\n   </g>\n   <g id=\"patch_16\">\n    <path d=\"M 417.6 75.6 \nL 417.6 7.2 \n\" style=\"fill:none;stroke:#000000;stroke-linecap:square;stroke-linejoin:miter;stroke-width:0.8;\"/>\n   </g>\n   <g id=\"patch_17\">\n    <path d=\"M 7.2 75.6 \nL 417.6 75.6 \n\" style=\"fill:none;stroke:#000000;stroke-linecap:square;stroke-linejoin:miter;stroke-width:0.8;\"/>\n   </g>\n   <g id=\"patch_18\">\n    <path d=\"M 7.2 7.2 \nL 417.6 7.2 \n\" style=\"fill:none;stroke:#000000;stroke-linecap:square;stroke-linejoin:miter;stroke-width:0.8;\"/>\n   </g>\n  </g>\n </g>\n <defs>\n  <clipPath id=\"p2121e2aab6\">\n   <rect height=\"68.4\" width=\"410.4\" x=\"7.2\" y=\"7.2\"/>\n  </clipPath>\n </defs>\n</svg>\n",
      "image/png": "[encoded data removed]"
     },
     "metadata": {}
    }
   ],
   "source": [
    "LIGHT_inverse_fg_min_Jp = XYZ_to_JpMph(LIGHT_neutral_XYZs[1]*4.8, LIGHT)[0]\n",
    "LIGHT_inverse_fg_max_Jp = XYZ_to_JpMph(LIGHT_neutral_XYZs[4], LIGHT)[0]\n",
    "\n",
    "LIGHT_inverse_fg_vivid_Jps = np.array([  \n",
    "    (LIGHT_inverse_fg_max_Jp + LIGHT_inverse_fg_min_Jp)/2. +\n",
    "    (LIGHT_inverse_fg_max_Jp - LIGHT_inverse_fg_min_Jp)/2. *\n",
    "    warmness(hue_to_quadrature(h))\n",
    "    for h in LIGHT_fg_hues\n",
    "])\n",
    "\n",
    "LIGHT_inverse_fg_vivid_saturation_limit = LIGHT_find_satuaration_limit(LIGHT_inverse_fg_vivid_Jps, LIGHT_fg_hues)\n",
    "LIGHT_inverse_fg_vivid_Mps = np.array([ np.sqrt(Jp) * LIGHT_inverse_fg_vivid_saturation_limit for  Jp in LIGHT_inverse_fg_vivid_Jps ])\n",
    "LIGHT_inverse_fg_vivid_colors = np.array(list(zip(LIGHT_inverse_fg_vivid_Jps, LIGHT_inverse_fg_vivid_Mps, LIGHT_fg_hues)))\n",
    "\n",
    "display_JpMph(LIGHT_inverse_fg_vivid_colors, LIGHT)\n"
   ]
  },
  {
   "cell_type": "code",
   "execution_count": 72,
   "metadata": {},
   "outputs": [
    {
     "output_type": "display_data",
     "data": {
      "text/plain": "<Figure size 432x288 with 1 Axes>",
      "image/svg+xml": "<?xml version=\"1.0\" encoding=\"utf-8\" standalone=\"no\"?>\n<!DOCTYPE svg PUBLIC \"-//W3C//DTD SVG 1.1//EN\"\n  \"http://www.w3.org/Graphics/SVG/1.1/DTD/svg11.dtd\">\n<!-- Created with matplotlib (https://matplotlib.org/) -->\n<svg height=\"82.8pt\" version=\"1.1\" viewBox=\"0 0 424.8 82.8\" width=\"424.8pt\" xmlns=\"http://www.w3.org/2000/svg\" xmlns:xlink=\"http://www.w3.org/1999/xlink\">\n <metadata>\n  <rdf:RDF xmlns:cc=\"http://creativecommons.org/ns#\" xmlns:dc=\"http://purl.org/dc/elements/1.1/\" xmlns:rdf=\"http://www.w3.org/1999/02/22-rdf-syntax-ns#\">\n   <cc:Work>\n    <dc:type rdf:resource=\"http://purl.org/dc/dcmitype/StillImage\"/>\n    <dc:date>1980-01-01T00:00:00+00:00</dc:date>\n    <dc:format>image/svg+xml</dc:format>\n    <dc:creator>\n     <cc:Agent>\n      <dc:title>Matplotlib v3.3.1, https://matplotlib.org/</dc:title>\n     </cc:Agent>\n    </dc:creator>\n   </cc:Work>\n  </rdf:RDF>\n </metadata>\n <defs>\n  <style type=\"text/css\">*{stroke-linecap:butt;stroke-linejoin:round;}</style>\n </defs>\n <g id=\"figure_1\">\n  <g id=\"patch_1\">\n   <path d=\"M 0 82.8 \nL 424.8 82.8 \nL 424.8 0 \nL 0 0 \nz\n\" style=\"fill:none;opacity:0;\"/>\n  </g>\n  <g id=\"axes_1\">\n   <g id=\"patch_2\">\n    <path d=\"M 7.2 75.6 \nL 417.6 75.6 \nL 417.6 7.2 \nL 7.2 7.2 \nz\n\" style=\"fill:#ffffff;\"/>\n   </g>\n   <g id=\"patch_3\">\n    <path clip-path=\"url(#pe9e25c2897)\" d=\"M 7.2 75.6 \nL 75.6 75.6 \nL 75.6 7.2 \nL 7.2 7.2 \nz\n\" style=\"fill:#683824;stroke:#683824;stroke-linejoin:miter;\"/>\n   </g>\n   <g id=\"patch_4\">\n    <path clip-path=\"url(#pe9e25c2897)\" d=\"M 7.2 75.6 \nL 75.6 75.6 \nL 75.6 7.2 \nz\n\" style=\"fill:#683824;stroke:#683824;stroke-linejoin:miter;\"/>\n   </g>\n   <g id=\"patch_5\">\n    <path clip-path=\"url(#pe9e25c2897)\" d=\"M 75.6 75.6 \nL 144 75.6 \nL 144 7.2 \nL 75.6 7.2 \nz\n\" style=\"fill:#554600;stroke:#554600;stroke-linejoin:miter;\"/>\n   </g>\n   <g id=\"patch_6\">\n    <path clip-path=\"url(#pe9e25c2897)\" d=\"M 75.6 75.6 \nL 144 75.6 \nL 144 7.2 \nz\n\" style=\"fill:#554600;stroke:#554600;stroke-linejoin:miter;\"/>\n   </g>\n   <g id=\"patch_7\">\n    <path clip-path=\"url(#pe9e25c2897)\" d=\"M 144 75.6 \nL 212.4 75.6 \nL 212.4 7.2 \nL 144 7.2 \nz\n\" style=\"fill:#2e502e;stroke:#2e502e;stroke-linejoin:miter;\"/>\n   </g>\n   <g id=\"patch_8\">\n    <path clip-path=\"url(#pe9e25c2897)\" d=\"M 144 75.6 \nL 212.4 75.6 \nL 212.4 7.2 \nz\n\" style=\"fill:#2e502e;stroke:#2e502e;stroke-linejoin:miter;\"/>\n   </g>\n   <g id=\"patch_9\">\n    <path clip-path=\"url(#pe9e25c2897)\" d=\"M 212.4 75.6 \nL 280.8 75.6 \nL 280.8 7.2 \nL 212.4 7.2 \nz\n\" style=\"fill:#234b69;stroke:#234b69;stroke-linejoin:miter;\"/>\n   </g>\n   <g id=\"patch_10\">\n    <path clip-path=\"url(#pe9e25c2897)\" d=\"M 212.4 75.6 \nL 280.8 75.6 \nL 280.8 7.2 \nz\n\" style=\"fill:#234b69;stroke:#234b69;stroke-linejoin:miter;\"/>\n   </g>\n   <g id=\"patch_11\">\n    <path clip-path=\"url(#pe9e25c2897)\" d=\"M 280.8 75.6 \nL 349.2 75.6 \nL 349.2 7.2 \nL 280.8 7.2 \nz\n\" style=\"fill:#484069;stroke:#484069;stroke-linejoin:miter;\"/>\n   </g>\n   <g id=\"patch_12\">\n    <path clip-path=\"url(#pe9e25c2897)\" d=\"M 280.8 75.6 \nL 349.2 75.6 \nL 349.2 7.2 \nz\n\" style=\"fill:#484069;stroke:#484069;stroke-linejoin:miter;\"/>\n   </g>\n   <g id=\"patch_13\">\n    <path clip-path=\"url(#pe9e25c2897)\" d=\"M 349.2 75.6 \nL 417.6 75.6 \nL 417.6 7.2 \nL 349.2 7.2 \nz\n\" style=\"fill:#613651;stroke:#613651;stroke-linejoin:miter;\"/>\n   </g>\n   <g id=\"patch_14\">\n    <path clip-path=\"url(#pe9e25c2897)\" d=\"M 349.2 75.6 \nL 417.6 75.6 \nL 417.6 7.2 \nz\n\" style=\"fill:#613651;stroke:#613651;stroke-linejoin:miter;\"/>\n   </g>\n   <g id=\"matplotlib.axis_1\">\n    <g id=\"xtick_1\"/>\n    <g id=\"xtick_2\"/>\n    <g id=\"xtick_3\"/>\n    <g id=\"xtick_4\"/>\n    <g id=\"xtick_5\"/>\n    <g id=\"xtick_6\"/>\n    <g id=\"xtick_7\"/>\n   </g>\n   <g id=\"matplotlib.axis_2\">\n    <g id=\"ytick_1\"/>\n    <g id=\"ytick_2\"/>\n    <g id=\"ytick_3\"/>\n   </g>\n   <g id=\"patch_15\">\n    <path d=\"M 7.2 75.6 \nL 7.2 7.2 \n\" style=\"fill:none;stroke:#000000;stroke-linecap:square;stroke-linejoin:miter;stroke-width:0.8;\"/>\n   </g>\n   <g id=\"patch_16\">\n    <path d=\"M 417.6 75.6 \nL 417.6 7.2 \n\" style=\"fill:none;stroke:#000000;stroke-linecap:square;stroke-linejoin:miter;stroke-width:0.8;\"/>\n   </g>\n   <g id=\"patch_17\">\n    <path d=\"M 7.2 75.6 \nL 417.6 75.6 \n\" style=\"fill:none;stroke:#000000;stroke-linecap:square;stroke-linejoin:miter;stroke-width:0.8;\"/>\n   </g>\n   <g id=\"patch_18\">\n    <path d=\"M 7.2 7.2 \nL 417.6 7.2 \n\" style=\"fill:none;stroke:#000000;stroke-linecap:square;stroke-linejoin:miter;stroke-width:0.8;\"/>\n   </g>\n  </g>\n </g>\n <defs>\n  <clipPath id=\"pe9e25c2897\">\n   <rect height=\"68.4\" width=\"410.4\" x=\"7.2\" y=\"7.2\"/>\n  </clipPath>\n </defs>\n</svg>\n",
      "image/png": "[encoded data removed]"
     },
     "metadata": {}
    },
    {
     "output_type": "display_data",
     "data": {
      "text/plain": "<Figure size 432x288 with 1 Axes>",
      "image/svg+xml": "<?xml version=\"1.0\" encoding=\"utf-8\" standalone=\"no\"?>\n<!DOCTYPE svg PUBLIC \"-//W3C//DTD SVG 1.1//EN\"\n  \"http://www.w3.org/Graphics/SVG/1.1/DTD/svg11.dtd\">\n<!-- Created with matplotlib (https://matplotlib.org/) -->\n<svg height=\"82.8pt\" version=\"1.1\" viewBox=\"0 0 424.8 82.8\" width=\"424.8pt\" xmlns=\"http://www.w3.org/2000/svg\" xmlns:xlink=\"http://www.w3.org/1999/xlink\">\n <metadata>\n  <rdf:RDF xmlns:cc=\"http://creativecommons.org/ns#\" xmlns:dc=\"http://purl.org/dc/elements/1.1/\" xmlns:rdf=\"http://www.w3.org/1999/02/22-rdf-syntax-ns#\">\n   <cc:Work>\n    <dc:type rdf:resource=\"http://purl.org/dc/dcmitype/StillImage\"/>\n    <dc:date>1980-01-01T00:00:00+00:00</dc:date>\n    <dc:format>image/svg+xml</dc:format>\n    <dc:creator>\n     <cc:Agent>\n      <dc:title>Matplotlib v3.3.1, https://matplotlib.org/</dc:title>\n     </cc:Agent>\n    </dc:creator>\n   </cc:Work>\n  </rdf:RDF>\n </metadata>\n <defs>\n  <style type=\"text/css\">*{stroke-linecap:butt;stroke-linejoin:round;}</style>\n </defs>\n <g id=\"figure_1\">\n  <g id=\"patch_1\">\n   <path d=\"M 0 82.8 \nL 424.8 82.8 \nL 424.8 0 \nL 0 0 \nz\n\" style=\"fill:none;opacity:0;\"/>\n  </g>\n  <g id=\"axes_1\">\n   <g id=\"patch_2\">\n    <path d=\"M 7.2 75.6 \nL 417.6 75.6 \nL 417.6 7.2 \nL 7.2 7.2 \nz\n\" style=\"fill:#ffffff;\"/>\n   </g>\n   <g id=\"patch_3\">\n    <path clip-path=\"url(#pfdbb6fc6d1)\" d=\"M 7.2 75.6 \nL 75.6 75.6 \nL 75.6 7.2 \nL 7.2 7.2 \nz\n\" style=\"fill:#ffc0a8;stroke:#ffc0a8;stroke-linejoin:miter;\"/>\n   </g>\n   <g id=\"patch_4\">\n    <path clip-path=\"url(#pfdbb6fc6d1)\" d=\"M 7.2 75.6 \nL 75.6 75.6 \nL 75.6 7.2 \nz\n\" style=\"fill:#ffc0a8;stroke:#ffc0a8;stroke-linejoin:miter;\"/>\n   </g>\n   <g id=\"patch_5\">\n    <path clip-path=\"url(#pfdbb6fc6d1)\" d=\"M 75.6 75.6 \nL 144 75.6 \nL 144 7.2 \nL 75.6 7.2 \nz\n\" style=\"fill:#e4cf93;stroke:#e4cf93;stroke-linejoin:miter;\"/>\n   </g>\n   <g id=\"patch_6\">\n    <path clip-path=\"url(#pfdbb6fc6d1)\" d=\"M 75.6 75.6 \nL 144 75.6 \nL 144 7.2 \nz\n\" style=\"fill:#e4cf93;stroke:#e4cf93;stroke-linejoin:miter;\"/>\n   </g>\n   <g id=\"patch_7\">\n    <path clip-path=\"url(#pfdbb6fc6d1)\" d=\"M 144 75.6 \nL 212.4 75.6 \nL 212.4 7.2 \nL 144 7.2 \nz\n\" style=\"fill:#b8dcb3;stroke:#b8dcb3;stroke-linejoin:miter;\"/>\n   </g>\n   <g id=\"patch_8\">\n    <path clip-path=\"url(#pfdbb6fc6d1)\" d=\"M 144 75.6 \nL 212.4 75.6 \nL 212.4 7.2 \nz\n\" style=\"fill:#b8dcb3;stroke:#b8dcb3;stroke-linejoin:miter;\"/>\n   </g>\n   <g id=\"patch_9\">\n    <path clip-path=\"url(#pfdbb6fc6d1)\" d=\"M 212.4 75.6 \nL 280.8 75.6 \nL 280.8 7.2 \nL 212.4 7.2 \nz\n\" style=\"fill:#b2d5f8;stroke:#b2d5f8;stroke-linejoin:miter;\"/>\n   </g>\n   <g id=\"patch_10\">\n    <path clip-path=\"url(#pfdbb6fc6d1)\" d=\"M 212.4 75.6 \nL 280.8 75.6 \nL 280.8 7.2 \nz\n\" style=\"fill:#b2d5f8;stroke:#b2d5f8;stroke-linejoin:miter;\"/>\n   </g>\n   <g id=\"patch_11\">\n    <path clip-path=\"url(#pfdbb6fc6d1)\" d=\"M 280.8 75.6 \nL 349.2 75.6 \nL 349.2 7.2 \nL 280.8 7.2 \nz\n\" style=\"fill:#d3c9f9;stroke:#d3c9f9;stroke-linejoin:miter;\"/>\n   </g>\n   <g id=\"patch_12\">\n    <path clip-path=\"url(#pfdbb6fc6d1)\" d=\"M 280.8 75.6 \nL 349.2 75.6 \nL 349.2 7.2 \nz\n\" style=\"fill:#d3c9f9;stroke:#d3c9f9;stroke-linejoin:miter;\"/>\n   </g>\n   <g id=\"patch_13\">\n    <path clip-path=\"url(#pfdbb6fc6d1)\" d=\"M 349.2 75.6 \nL 417.6 75.6 \nL 417.6 7.2 \nL 349.2 7.2 \nz\n\" style=\"fill:#f4bedc;stroke:#f4bedc;stroke-linejoin:miter;\"/>\n   </g>\n   <g id=\"patch_14\">\n    <path clip-path=\"url(#pfdbb6fc6d1)\" d=\"M 349.2 75.6 \nL 417.6 75.6 \nL 417.6 7.2 \nz\n\" style=\"fill:#f4bedc;stroke:#f4bedc;stroke-linejoin:miter;\"/>\n   </g>\n   <g id=\"matplotlib.axis_1\">\n    <g id=\"xtick_1\"/>\n    <g id=\"xtick_2\"/>\n    <g id=\"xtick_3\"/>\n    <g id=\"xtick_4\"/>\n    <g id=\"xtick_5\"/>\n    <g id=\"xtick_6\"/>\n    <g id=\"xtick_7\"/>\n   </g>\n   <g id=\"matplotlib.axis_2\">\n    <g id=\"ytick_1\"/>\n    <g id=\"ytick_2\"/>\n    <g id=\"ytick_3\"/>\n   </g>\n   <g id=\"patch_15\">\n    <path d=\"M 7.2 75.6 \nL 7.2 7.2 \n\" style=\"fill:none;stroke:#000000;stroke-linecap:square;stroke-linejoin:miter;stroke-width:0.8;\"/>\n   </g>\n   <g id=\"patch_16\">\n    <path d=\"M 417.6 75.6 \nL 417.6 7.2 \n\" style=\"fill:none;stroke:#000000;stroke-linecap:square;stroke-linejoin:miter;stroke-width:0.8;\"/>\n   </g>\n   <g id=\"patch_17\">\n    <path d=\"M 7.2 75.6 \nL 417.6 75.6 \n\" style=\"fill:none;stroke:#000000;stroke-linecap:square;stroke-linejoin:miter;stroke-width:0.8;\"/>\n   </g>\n   <g id=\"patch_18\">\n    <path d=\"M 7.2 7.2 \nL 417.6 7.2 \n\" style=\"fill:none;stroke:#000000;stroke-linecap:square;stroke-linejoin:miter;stroke-width:0.8;\"/>\n   </g>\n  </g>\n </g>\n <defs>\n  <clipPath id=\"pfdbb6fc6d1\">\n   <rect height=\"68.4\" width=\"410.4\" x=\"7.2\" y=\"7.2\"/>\n  </clipPath>\n </defs>\n</svg>\n",
      "image/png": "[encoded data removed]"
     },
     "metadata": {}
    }
   ],
   "source": [
    "LIGHT_hc_Jp = XYZ_to_JpMph(LIGHT_neutral_XYZs[2], LIGHT)[0]\n",
    "LIGHT_hc_Mp = np.min([ find_colourfulness_limit(LIGHT_hc_Jp, h, LIGHT) for h in LIGHT_fg_hues ])\n",
    "LIGHT_hc_colors = np.array([ (LIGHT_hc_Jp, LIGHT_hc_Mp, h) for h in LIGHT_fg_hues  ])\n",
    "\n",
    "LIGHT_inverse_hc_Jp = XYZ_to_JpMph(LIGHT_neutral_XYZs[4], LIGHT)[0]\n",
    "LIGHT_inverse_hc_Mp = np.min([ find_colourfulness_limit(LIGHT_inverse_hc_Jp, h, LIGHT) for h in LIGHT_fg_hues ])\n",
    "LIGHT_inverse_hc_colors = np.array([ (LIGHT_inverse_hc_Jp, LIGHT_inverse_hc_Mp, h) for h in LIGHT_fg_hues ])\n",
    "\n",
    "display_JpMph(LIGHT_hc_colors, LIGHT)\n",
    "display_JpMph(LIGHT_inverse_hc_colors, LIGHT)"
   ]
  },
  {
   "cell_type": "code",
   "execution_count": 73,
   "metadata": {},
   "outputs": [
    {
     "output_type": "display_data",
     "data": {
      "text/plain": "<Figure size 432x288 with 1 Axes>",
      "image/svg+xml": "<?xml version=\"1.0\" encoding=\"utf-8\" standalone=\"no\"?>\n<!DOCTYPE svg PUBLIC \"-//W3C//DTD SVG 1.1//EN\"\n  \"http://www.w3.org/Graphics/SVG/1.1/DTD/svg11.dtd\">\n<!-- Created with matplotlib (https://matplotlib.org/) -->\n<svg height=\"82.8pt\" version=\"1.1\" viewBox=\"0 0 424.8 82.8\" width=\"424.8pt\" xmlns=\"http://www.w3.org/2000/svg\" xmlns:xlink=\"http://www.w3.org/1999/xlink\">\n <metadata>\n  <rdf:RDF xmlns:cc=\"http://creativecommons.org/ns#\" xmlns:dc=\"http://purl.org/dc/elements/1.1/\" xmlns:rdf=\"http://www.w3.org/1999/02/22-rdf-syntax-ns#\">\n   <cc:Work>\n    <dc:type rdf:resource=\"http://purl.org/dc/dcmitype/StillImage\"/>\n    <dc:date>1980-01-01T00:00:00+00:00</dc:date>\n    <dc:format>image/svg+xml</dc:format>\n    <dc:creator>\n     <cc:Agent>\n      <dc:title>Matplotlib v3.3.1, https://matplotlib.org/</dc:title>\n     </cc:Agent>\n    </dc:creator>\n   </cc:Work>\n  </rdf:RDF>\n </metadata>\n <defs>\n  <style type=\"text/css\">*{stroke-linecap:butt;stroke-linejoin:round;}</style>\n </defs>\n <g id=\"figure_1\">\n  <g id=\"patch_1\">\n   <path d=\"M 0 82.8 \nL 424.8 82.8 \nL 424.8 0 \nL 0 0 \nz\n\" style=\"fill:none;opacity:0;\"/>\n  </g>\n  <g id=\"axes_1\">\n   <g id=\"patch_2\">\n    <path d=\"M 7.2 75.6 \nL 417.6 75.6 \nL 417.6 7.2 \nL 7.2 7.2 \nz\n\" style=\"fill:#ffffff;\"/>\n   </g>\n   <g id=\"patch_3\">\n    <path clip-path=\"url(#p89c2f8a32b)\" d=\"M 7.2 75.6 \nL 75.6 75.6 \nL 75.6 7.2 \nL 7.2 7.2 \nz\n\" style=\"fill:#783c1f;stroke:#783c1f;stroke-linejoin:miter;\"/>\n   </g>\n   <g id=\"patch_4\">\n    <path clip-path=\"url(#p89c2f8a32b)\" d=\"M 7.2 75.6 \nL 75.6 75.6 \nL 75.6 7.2 \nz\n\" style=\"fill:#783c1f;stroke:#783c1f;stroke-linejoin:miter;\"/>\n   </g>\n   <g id=\"patch_5\">\n    <path clip-path=\"url(#p89c2f8a32b)\" d=\"M 75.6 75.6 \nL 144 75.6 \nL 144 7.2 \nL 75.6 7.2 \nz\n\" style=\"fill:#8f750b;stroke:#8f750b;stroke-linejoin:miter;\"/>\n   </g>\n   <g id=\"patch_6\">\n    <path clip-path=\"url(#p89c2f8a32b)\" d=\"M 75.6 75.6 \nL 144 75.6 \nL 144 7.2 \nz\n\" style=\"fill:#8f750b;stroke:#8f750b;stroke-linejoin:miter;\"/>\n   </g>\n   <g id=\"patch_7\">\n    <path clip-path=\"url(#p89c2f8a32b)\" d=\"M 144 75.6 \nL 212.4 75.6 \nL 212.4 7.2 \nL 144 7.2 \nz\n\" style=\"fill:#497d46;stroke:#497d46;stroke-linejoin:miter;\"/>\n   </g>\n   <g id=\"patch_8\">\n    <path clip-path=\"url(#p89c2f8a32b)\" d=\"M 144 75.6 \nL 212.4 75.6 \nL 212.4 7.2 \nz\n\" style=\"fill:#497d46;stroke:#497d46;stroke-linejoin:miter;\"/>\n   </g>\n   <g id=\"patch_9\">\n    <path clip-path=\"url(#p89c2f8a32b)\" d=\"M 212.4 75.6 \nL 280.8 75.6 \nL 280.8 7.2 \nL 212.4 7.2 \nz\n\" style=\"fill:#3778a9;stroke:#3778a9;stroke-linejoin:miter;\"/>\n   </g>\n   <g id=\"patch_10\">\n    <path clip-path=\"url(#p89c2f8a32b)\" d=\"M 212.4 75.6 \nL 280.8 75.6 \nL 280.8 7.2 \nz\n\" style=\"fill:#3778a9;stroke:#3778a9;stroke-linejoin:miter;\"/>\n   </g>\n   <g id=\"patch_11\">\n    <path clip-path=\"url(#p89c2f8a32b)\" d=\"M 280.8 75.6 \nL 349.2 75.6 \nL 349.2 7.2 \nL 280.8 7.2 \nz\n\" style=\"fill:#3f3566;stroke:#3f3566;stroke-linejoin:miter;\"/>\n   </g>\n   <g id=\"patch_12\">\n    <path clip-path=\"url(#p89c2f8a32b)\" d=\"M 280.8 75.6 \nL 349.2 75.6 \nL 349.2 7.2 \nz\n\" style=\"fill:#3f3566;stroke:#3f3566;stroke-linejoin:miter;\"/>\n   </g>\n   <g id=\"patch_13\">\n    <path clip-path=\"url(#p89c2f8a32b)\" d=\"M 349.2 75.6 \nL 417.6 75.6 \nL 417.6 7.2 \nL 349.2 7.2 \nz\n\" style=\"fill:#793f62;stroke:#793f62;stroke-linejoin:miter;\"/>\n   </g>\n   <g id=\"patch_14\">\n    <path clip-path=\"url(#p89c2f8a32b)\" d=\"M 349.2 75.6 \nL 417.6 75.6 \nL 417.6 7.2 \nz\n\" style=\"fill:#793f62;stroke:#793f62;stroke-linejoin:miter;\"/>\n   </g>\n   <g id=\"matplotlib.axis_1\">\n    <g id=\"xtick_1\"/>\n    <g id=\"xtick_2\"/>\n    <g id=\"xtick_3\"/>\n    <g id=\"xtick_4\"/>\n    <g id=\"xtick_5\"/>\n    <g id=\"xtick_6\"/>\n    <g id=\"xtick_7\"/>\n   </g>\n   <g id=\"matplotlib.axis_2\">\n    <g id=\"ytick_1\"/>\n    <g id=\"ytick_2\"/>\n    <g id=\"ytick_3\"/>\n   </g>\n   <g id=\"patch_15\">\n    <path d=\"M 7.2 75.6 \nL 7.2 7.2 \n\" style=\"fill:none;stroke:#000000;stroke-linecap:square;stroke-linejoin:miter;stroke-width:0.8;\"/>\n   </g>\n   <g id=\"patch_16\">\n    <path d=\"M 417.6 75.6 \nL 417.6 7.2 \n\" style=\"fill:none;stroke:#000000;stroke-linecap:square;stroke-linejoin:miter;stroke-width:0.8;\"/>\n   </g>\n   <g id=\"patch_17\">\n    <path d=\"M 7.2 75.6 \nL 417.6 75.6 \n\" style=\"fill:none;stroke:#000000;stroke-linecap:square;stroke-linejoin:miter;stroke-width:0.8;\"/>\n   </g>\n   <g id=\"patch_18\">\n    <path d=\"M 7.2 7.2 \nL 417.6 7.2 \n\" style=\"fill:none;stroke:#000000;stroke-linecap:square;stroke-linejoin:miter;stroke-width:0.8;\"/>\n   </g>\n  </g>\n </g>\n <defs>\n  <clipPath id=\"p89c2f8a32b\">\n   <rect height=\"68.4\" width=\"410.4\" x=\"7.2\" y=\"7.2\"/>\n  </clipPath>\n </defs>\n</svg>\n",
      "image/png": "[encoded data removed]"
     },
     "metadata": {}
    },
    {
     "output_type": "display_data",
     "data": {
      "text/plain": "<Figure size 432x288 with 1 Axes>",
      "image/svg+xml": "<?xml version=\"1.0\" encoding=\"utf-8\" standalone=\"no\"?>\n<!DOCTYPE svg PUBLIC \"-//W3C//DTD SVG 1.1//EN\"\n  \"http://www.w3.org/Graphics/SVG/1.1/DTD/svg11.dtd\">\n<!-- Created with matplotlib (https://matplotlib.org/) -->\n<svg height=\"82.8pt\" version=\"1.1\" viewBox=\"0 0 424.8 82.8\" width=\"424.8pt\" xmlns=\"http://www.w3.org/2000/svg\" xmlns:xlink=\"http://www.w3.org/1999/xlink\">\n <metadata>\n  <rdf:RDF xmlns:cc=\"http://creativecommons.org/ns#\" xmlns:dc=\"http://purl.org/dc/elements/1.1/\" xmlns:rdf=\"http://www.w3.org/1999/02/22-rdf-syntax-ns#\">\n   <cc:Work>\n    <dc:type rdf:resource=\"http://purl.org/dc/dcmitype/StillImage\"/>\n    <dc:date>1980-01-01T00:00:00+00:00</dc:date>\n    <dc:format>image/svg+xml</dc:format>\n    <dc:creator>\n     <cc:Agent>\n      <dc:title>Matplotlib v3.3.1, https://matplotlib.org/</dc:title>\n     </cc:Agent>\n    </dc:creator>\n   </cc:Work>\n  </rdf:RDF>\n </metadata>\n <defs>\n  <style type=\"text/css\">*{stroke-linecap:butt;stroke-linejoin:round;}</style>\n </defs>\n <g id=\"figure_1\">\n  <g id=\"patch_1\">\n   <path d=\"M 0 82.8 \nL 424.8 82.8 \nL 424.8 0 \nL 0 0 \nz\n\" style=\"fill:none;opacity:0;\"/>\n  </g>\n  <g id=\"axes_1\">\n   <g id=\"patch_2\">\n    <path d=\"M 7.2 75.6 \nL 417.6 75.6 \nL 417.6 7.2 \nL 7.2 7.2 \nz\n\" style=\"fill:#ffffff;\"/>\n   </g>\n   <g id=\"patch_3\">\n    <path clip-path=\"url(#p70d152a49a)\" d=\"M 7.2 75.6 \nL 75.6 75.6 \nL 75.6 7.2 \nL 7.2 7.2 \nz\n\" style=\"fill:#b06240;stroke:#b06240;stroke-linejoin:miter;\"/>\n   </g>\n   <g id=\"patch_4\">\n    <path clip-path=\"url(#p70d152a49a)\" d=\"M 7.2 75.6 \nL 75.6 75.6 \nL 75.6 7.2 \nz\n\" style=\"fill:#b06240;stroke:#b06240;stroke-linejoin:miter;\"/>\n   </g>\n   <g id=\"patch_5\">\n    <path clip-path=\"url(#p70d152a49a)\" d=\"M 75.6 75.6 \nL 144 75.6 \nL 144 7.2 \nL 75.6 7.2 \nz\n\" style=\"fill:#dcb735;stroke:#dcb735;stroke-linejoin:miter;\"/>\n   </g>\n   <g id=\"patch_6\">\n    <path clip-path=\"url(#p70d152a49a)\" d=\"M 75.6 75.6 \nL 144 75.6 \nL 144 7.2 \nz\n\" style=\"fill:#dcb735;stroke:#dcb735;stroke-linejoin:miter;\"/>\n   </g>\n   <g id=\"patch_7\">\n    <path clip-path=\"url(#p70d152a49a)\" d=\"M 144 75.6 \nL 212.4 75.6 \nL 212.4 7.2 \nL 144 7.2 \nz\n\" style=\"fill:#7bc175;stroke:#7bc175;stroke-linejoin:miter;\"/>\n   </g>\n   <g id=\"patch_8\">\n    <path clip-path=\"url(#p70d152a49a)\" d=\"M 144 75.6 \nL 212.4 75.6 \nL 212.4 7.2 \nz\n\" style=\"fill:#7bc175;stroke:#7bc175;stroke-linejoin:miter;\"/>\n   </g>\n   <g id=\"patch_9\">\n    <path clip-path=\"url(#p70d152a49a)\" d=\"M 212.4 75.6 \nL 280.8 75.6 \nL 280.8 7.2 \nL 212.4 7.2 \nz\n\" style=\"fill:#64baff;stroke:#64baff;stroke-linejoin:miter;\"/>\n   </g>\n   <g id=\"patch_10\">\n    <path clip-path=\"url(#p70d152a49a)\" d=\"M 212.4 75.6 \nL 280.8 75.6 \nL 280.8 7.2 \nz\n\" style=\"fill:#64baff;stroke:#64baff;stroke-linejoin:miter;\"/>\n   </g>\n   <g id=\"patch_11\">\n    <path clip-path=\"url(#p70d152a49a)\" d=\"M 280.8 75.6 \nL 349.2 75.6 \nL 349.2 7.2 \nL 280.8 7.2 \nz\n\" style=\"fill:#5c4f89;stroke:#5c4f89;stroke-linejoin:miter;\"/>\n   </g>\n   <g id=\"patch_12\">\n    <path clip-path=\"url(#p70d152a49a)\" d=\"M 280.8 75.6 \nL 349.2 75.6 \nL 349.2 7.2 \nz\n\" style=\"fill:#5c4f89;stroke:#5c4f89;stroke-linejoin:miter;\"/>\n   </g>\n   <g id=\"patch_13\">\n    <path clip-path=\"url(#p70d152a49a)\" d=\"M 349.2 75.6 \nL 417.6 75.6 \nL 417.6 7.2 \nL 349.2 7.2 \nz\n\" style=\"fill:#b56895;stroke:#b56895;stroke-linejoin:miter;\"/>\n   </g>\n   <g id=\"patch_14\">\n    <path clip-path=\"url(#p70d152a49a)\" d=\"M 349.2 75.6 \nL 417.6 75.6 \nL 417.6 7.2 \nz\n\" style=\"fill:#b56895;stroke:#b56895;stroke-linejoin:miter;\"/>\n   </g>\n   <g id=\"matplotlib.axis_1\">\n    <g id=\"xtick_1\"/>\n    <g id=\"xtick_2\"/>\n    <g id=\"xtick_3\"/>\n    <g id=\"xtick_4\"/>\n    <g id=\"xtick_5\"/>\n    <g id=\"xtick_6\"/>\n    <g id=\"xtick_7\"/>\n   </g>\n   <g id=\"matplotlib.axis_2\">\n    <g id=\"ytick_1\"/>\n    <g id=\"ytick_2\"/>\n    <g id=\"ytick_3\"/>\n   </g>\n   <g id=\"patch_15\">\n    <path d=\"M 7.2 75.6 \nL 7.2 7.2 \n\" style=\"fill:none;stroke:#000000;stroke-linecap:square;stroke-linejoin:miter;stroke-width:0.8;\"/>\n   </g>\n   <g id=\"patch_16\">\n    <path d=\"M 417.6 75.6 \nL 417.6 7.2 \n\" style=\"fill:none;stroke:#000000;stroke-linecap:square;stroke-linejoin:miter;stroke-width:0.8;\"/>\n   </g>\n   <g id=\"patch_17\">\n    <path d=\"M 7.2 75.6 \nL 417.6 75.6 \n\" style=\"fill:none;stroke:#000000;stroke-linecap:square;stroke-linejoin:miter;stroke-width:0.8;\"/>\n   </g>\n   <g id=\"patch_18\">\n    <path d=\"M 7.2 7.2 \nL 417.6 7.2 \n\" style=\"fill:none;stroke:#000000;stroke-linecap:square;stroke-linejoin:miter;stroke-width:0.8;\"/>\n   </g>\n  </g>\n </g>\n <defs>\n  <clipPath id=\"p70d152a49a\">\n   <rect height=\"68.4\" width=\"410.4\" x=\"7.2\" y=\"7.2\"/>\n  </clipPath>\n </defs>\n</svg>\n",
      "image/png": "[encoded data removed]"
     },
     "metadata": {}
    }
   ],
   "source": [
    "LIGHT_classic_terminal_contrast_range = \\\n",
    "    HEX_to_XYZ('#ffffff', LIGHT)[1] / HEX_to_XYZ('#000000', LIGHT)[1]\n",
    "\n",
    "LIGHT_classic_terminal_high_logYs = np.log(HEX_to_XYZ(['#ff0000', '#ffff00', '#00ff00', '#00ffff', '#0000ff', '#ff00ff'], LIGHT)[...,1])\n",
    "LIGHT_classic_terminal_low_logYs = np.log(HEX_to_XYZ(['#800000', '#808000', '#008000', '#008080', '#000080', '#800080'], LIGHT)[...,1])\n",
    "\n",
    "LIGHT_classic_terminal_logWhite = np.log(HEX_to_XYZ('#ffffff', LIGHT)[1])\n",
    "LIGHT_classic_terminal_logBlack = np.log(HEX_to_XYZ('#000000', LIGHT)[1])\n",
    "\n",
    "LIGHT_terminal_logWhite = np.log(LIGHT_Ys[5]/1.5)\n",
    "LIGHT_terminal_logBlack = np.log(LIGHT_Ys[0])\n",
    "\n",
    "LIGHT_terminal_high_Ys = np.exp(\n",
    "    (LIGHT_classic_terminal_high_logYs - LIGHT_classic_terminal_logBlack) / \\\n",
    "    (LIGHT_classic_terminal_logWhite - LIGHT_classic_terminal_logBlack) * \\\n",
    "    (LIGHT_terminal_logWhite - LIGHT_terminal_logBlack) + LIGHT_terminal_logBlack\n",
    ")\n",
    "\n",
    "LIGHT_terminal_low_Ys = np.exp(\n",
    "    (LIGHT_classic_terminal_low_logYs - LIGHT_classic_terminal_logBlack) / \\\n",
    "    (LIGHT_classic_terminal_logWhite - LIGHT_classic_terminal_logBlack) * \\\n",
    "    (LIGHT_terminal_logWhite - LIGHT_terminal_logBlack) + LIGHT_terminal_logBlack\n",
    ")\n",
    "\n",
    "LIGHT_terminal_high_Jps = XYZ_to_JpMph(colour.xyY_to_XYZ([\n",
    "        (LIGHT.simulated_whitepoint[0], LIGHT.simulated_whitepoint[1], Y)\n",
    "        for Y in LIGHT_terminal_high_Ys\n",
    "    ]),\n",
    "    LIGHT\n",
    ")[...,0]\n",
    "\n",
    "LIGHT_terminal_low_Jps = XYZ_to_JpMph(colour.xyY_to_XYZ([\n",
    "        (LIGHT.simulated_whitepoint[0], LIGHT.simulated_whitepoint[1], Y)\n",
    "        for Y in LIGHT_terminal_low_Ys\n",
    "    ]),\n",
    "    LIGHT\n",
    ")[...,0]\n",
    "\n",
    "\n",
    "LIGHT_terminal_saturation_limit = LIGHT_find_satuaration_limit(\n",
    "    np.concatenate([LIGHT_terminal_low_Jps, LIGHT_terminal_high_Jps]),\n",
    "    np.concatenate([LIGHT_fg_hues, LIGHT_fg_hues])\n",
    ")\n",
    "\n",
    "LIGHT_terminal_high_Mps = [ \n",
    "    np.sqrt(Jp) * LIGHT_terminal_saturation_limit\n",
    "    for  Jp in LIGHT_terminal_high_Jps\n",
    "]\n",
    "\n",
    "LIGHT_terminal_low_Mps = [ \n",
    "    np.sqrt(Jp) * LIGHT_terminal_saturation_limit\n",
    "    for  Jp in LIGHT_terminal_low_Jps\n",
    "]\n",
    "\n",
    "LIGHT_terminal_high_colors = list(zip(\n",
    "    LIGHT_terminal_high_Jps,\n",
    "    LIGHT_terminal_high_Mps,\n",
    "    LIGHT_fg_hues\n",
    "))\n",
    "\n",
    "LIGHT_terminal_low_colors = list(zip(\n",
    "    LIGHT_terminal_low_Jps,\n",
    "    LIGHT_terminal_low_Mps,\n",
    "    LIGHT_fg_hues\n",
    "))\n",
    "\n",
    "display_JpMph(LIGHT_terminal_low_colors, LIGHT)\n",
    "display_JpMph(LIGHT_terminal_high_colors, LIGHT)"
   ]
  },
  {
   "cell_type": "code",
   "execution_count": 74,
   "metadata": {},
   "outputs": [
    {
     "output_type": "display_data",
     "data": {
      "text/plain": "<Figure size 432x288 with 1 Axes>",
      "image/svg+xml": "<?xml version=\"1.0\" encoding=\"utf-8\" standalone=\"no\"?>\n<!DOCTYPE svg PUBLIC \"-//W3C//DTD SVG 1.1//EN\"\n  \"http://www.w3.org/Graphics/SVG/1.1/DTD/svg11.dtd\">\n<!-- Created with matplotlib (https://matplotlib.org/) -->\n<svg height=\"82.8pt\" version=\"1.1\" viewBox=\"0 0 424.8 82.8\" width=\"424.8pt\" xmlns=\"http://www.w3.org/2000/svg\" xmlns:xlink=\"http://www.w3.org/1999/xlink\">\n <metadata>\n  <rdf:RDF xmlns:cc=\"http://creativecommons.org/ns#\" xmlns:dc=\"http://purl.org/dc/elements/1.1/\" xmlns:rdf=\"http://www.w3.org/1999/02/22-rdf-syntax-ns#\">\n   <cc:Work>\n    <dc:type rdf:resource=\"http://purl.org/dc/dcmitype/StillImage\"/>\n    <dc:date>1980-01-01T00:00:00+00:00</dc:date>\n    <dc:format>image/svg+xml</dc:format>\n    <dc:creator>\n     <cc:Agent>\n      <dc:title>Matplotlib v3.3.1, https://matplotlib.org/</dc:title>\n     </cc:Agent>\n    </dc:creator>\n   </cc:Work>\n  </rdf:RDF>\n </metadata>\n <defs>\n  <style type=\"text/css\">*{stroke-linecap:butt;stroke-linejoin:round;}</style>\n </defs>\n <g id=\"figure_1\">\n  <g id=\"patch_1\">\n   <path d=\"M 0 82.8 \nL 424.8 82.8 \nL 424.8 0 \nL 0 0 \nz\n\" style=\"fill:none;opacity:0;\"/>\n  </g>\n  <g id=\"axes_1\">\n   <g id=\"patch_2\">\n    <path d=\"M 7.2 75.6 \nL 417.6 75.6 \nL 417.6 7.2 \nL 7.2 7.2 \nz\n\" style=\"fill:#ffffff;\"/>\n   </g>\n   <g id=\"patch_3\">\n    <path clip-path=\"url(#p29d61d6dba)\" d=\"M 7.2 75.6 \nL 75.6 75.6 \nL 75.6 7.2 \nL 7.2 7.2 \nz\n\" style=\"fill:#b86364;stroke:#b86364;stroke-linejoin:miter;\"/>\n   </g>\n   <g id=\"patch_4\">\n    <path clip-path=\"url(#p29d61d6dba)\" d=\"M 7.2 75.6 \nL 75.6 75.6 \nL 75.6 7.2 \nz\n\" style=\"fill:#b86364;stroke:#b86364;stroke-linejoin:miter;\"/>\n   </g>\n   <g id=\"patch_5\">\n    <path clip-path=\"url(#p29d61d6dba)\" d=\"M 75.6 75.6 \nL 144 75.6 \nL 144 7.2 \nL 75.6 7.2 \nz\n\" style=\"fill:#9a7c18;stroke:#9a7c18;stroke-linejoin:miter;\"/>\n   </g>\n   <g id=\"patch_6\">\n    <path clip-path=\"url(#p29d61d6dba)\" d=\"M 75.6 75.6 \nL 144 75.6 \nL 144 7.2 \nz\n\" style=\"fill:#9a7c18;stroke:#9a7c18;stroke-linejoin:miter;\"/>\n   </g>\n   <g id=\"patch_7\">\n    <path clip-path=\"url(#p29d61d6dba)\" d=\"M 144 75.6 \nL 212.4 75.6 \nL 212.4 7.2 \nL 144 7.2 \nz\n\" style=\"fill:#3a926f;stroke:#3a926f;stroke-linejoin:miter;\"/>\n   </g>\n   <g id=\"patch_8\">\n    <path clip-path=\"url(#p29d61d6dba)\" d=\"M 144 75.6 \nL 212.4 75.6 \nL 212.4 7.2 \nz\n\" style=\"fill:#3a926f;stroke:#3a926f;stroke-linejoin:miter;\"/>\n   </g>\n   <g id=\"patch_9\">\n    <path clip-path=\"url(#p29d61d6dba)\" d=\"M 212.4 75.6 \nL 280.8 75.6 \nL 280.8 7.2 \nL 212.4 7.2 \nz\n\" style=\"fill:#3889b4;stroke:#3889b4;stroke-linejoin:miter;\"/>\n   </g>\n   <g id=\"patch_10\">\n    <path clip-path=\"url(#p29d61d6dba)\" d=\"M 212.4 75.6 \nL 280.8 75.6 \nL 280.8 7.2 \nz\n\" style=\"fill:#3889b4;stroke:#3889b4;stroke-linejoin:miter;\"/>\n   </g>\n   <g id=\"patch_11\">\n    <path clip-path=\"url(#p29d61d6dba)\" d=\"M 280.8 75.6 \nL 349.2 75.6 \nL 349.2 7.2 \nL 280.8 7.2 \nz\n\" style=\"fill:#004d6c;stroke:#004d6c;stroke-linejoin:miter;\"/>\n   </g>\n   <g id=\"patch_12\">\n    <path clip-path=\"url(#p29d61d6dba)\" d=\"M 280.8 75.6 \nL 349.2 75.6 \nL 349.2 7.2 \nz\n\" style=\"fill:#004d6c;stroke:#004d6c;stroke-linejoin:miter;\"/>\n   </g>\n   <g id=\"patch_13\">\n    <path clip-path=\"url(#p29d61d6dba)\" d=\"M 349.2 75.6 \nL 417.6 75.6 \nL 417.6 7.2 \nL 349.2 7.2 \nz\n\" style=\"fill:#f7cb46;stroke:#f7cb46;stroke-linejoin:miter;\"/>\n   </g>\n   <g id=\"patch_14\">\n    <path clip-path=\"url(#p29d61d6dba)\" d=\"M 349.2 75.6 \nL 417.6 75.6 \nL 417.6 7.2 \nz\n\" style=\"fill:#f7cb46;stroke:#f7cb46;stroke-linejoin:miter;\"/>\n   </g>\n   <g id=\"matplotlib.axis_1\">\n    <g id=\"xtick_1\"/>\n    <g id=\"xtick_2\"/>\n    <g id=\"xtick_3\"/>\n    <g id=\"xtick_4\"/>\n    <g id=\"xtick_5\"/>\n    <g id=\"xtick_6\"/>\n    <g id=\"xtick_7\"/>\n   </g>\n   <g id=\"matplotlib.axis_2\">\n    <g id=\"ytick_1\"/>\n    <g id=\"ytick_2\"/>\n    <g id=\"ytick_3\"/>\n   </g>\n   <g id=\"patch_15\">\n    <path d=\"M 7.2 75.6 \nL 7.2 7.2 \n\" style=\"fill:none;stroke:#000000;stroke-linecap:square;stroke-linejoin:miter;stroke-width:0.8;\"/>\n   </g>\n   <g id=\"patch_16\">\n    <path d=\"M 417.6 75.6 \nL 417.6 7.2 \n\" style=\"fill:none;stroke:#000000;stroke-linecap:square;stroke-linejoin:miter;stroke-width:0.8;\"/>\n   </g>\n   <g id=\"patch_17\">\n    <path d=\"M 7.2 75.6 \nL 417.6 75.6 \n\" style=\"fill:none;stroke:#000000;stroke-linecap:square;stroke-linejoin:miter;stroke-width:0.8;\"/>\n   </g>\n   <g id=\"patch_18\">\n    <path d=\"M 7.2 7.2 \nL 417.6 7.2 \n\" style=\"fill:none;stroke:#000000;stroke-linecap:square;stroke-linejoin:miter;stroke-width:0.8;\"/>\n   </g>\n  </g>\n </g>\n <defs>\n  <clipPath id=\"p29d61d6dba\">\n   <rect height=\"68.4\" width=\"410.4\" x=\"7.2\" y=\"7.2\"/>\n  </clipPath>\n </defs>\n</svg>\n",
      "image/png": "[encoded data removed]"
     },
     "metadata": {}
    }
   ],
   "source": [
    "LIGHT_bg_hues = np.array([quadrature_to_hue(H) for H in [0,1,2,3,3,1] ])\n",
    "LIGHT_bg_Jps = np.array([ LIGHT_Jps[i] for i in [3,3,3,3,2,4] ])\n",
    "LIGHT_bg_saturation_limit = LIGHT_find_satuaration_limit(LIGHT_bg_Jps, LIGHT_bg_hues)\n",
    "LIGHT_bg_Mps = np.array([ np.sqrt(Jp) * LIGHT_bg_saturation_limit for Jp in LIGHT_bg_Jps])\n",
    "LIGHT_bg_colors = np.array(list(zip(LIGHT_bg_Jps, LIGHT_bg_Mps, LIGHT_bg_hues)))\n",
    "\n",
    "display_JpMph(LIGHT_bg_colors, LIGHT)"
   ]
  },
  {
   "source": [
    "## Dark Theme"
   ],
   "cell_type": "markdown",
   "metadata": {}
  },
  {
   "source": [
    "Night sky spectral composition via <https://lavinia.as.arizona.edu/~minimaestro/MAESTRO/Construction/References/200076.web.pdf>"
   ],
   "cell_type": "markdown",
   "metadata": {}
  },
  {
   "cell_type": "code",
   "execution_count": 75,
   "metadata": {},
   "outputs": [],
   "source": [
    "def ab_mag(m):\n",
    "    return np.float_power(10., np.array(m) * -0.4)\n",
    "\n",
    "night_sky_spectrum = (colour.sd_gaussian(445,94) * ab_mag(22.39) + \\\n",
    "    colour.sd_gaussian(551, 88) * ab_mag(21.19) + \\\n",
    "    colour.sd_gaussian(425, 3) * ab_mag(22.48) + \\\n",
    "    colour.sd_gaussian(455, 3) * ab_mag(22.18) + \\\n",
    "    colour.sd_gaussian(515, 3) * ab_mag(21.92)).normalise()\n",
    "\n",
    "night_sky_xy = colour.XYZ_to_xy(\n",
    "    colour.sd_to_XYZ_integration(night_sky_spectrum, colour.CMFS['CIE 1931 2 Degree Standard Observer'])\n",
    ")"
   ]
  },
  {
   "cell_type": "code",
   "execution_count": 76,
   "metadata": {},
   "outputs": [],
   "source": [
    "DARK = ViewingEnvironment(\n",
    "    rgb_colourspace=colour.RGB_COLOURSPACES['sRGB'],\n",
    "    ambient_whitepoint=colour.ILLUMINANTS['CIE 1931 2 Degree Standard Observer']['LED-B2'],\n",
    "    ambient_illuminance=32.,\n",
    "    ambient_lightness=0.5,\n",
    "    simulated_whitepoint=colour.CCT_to_xy(4100),\n",
    "    simulated_ambient_illuminance=0.05,\n",
    "    simulated_ambient_lightness=0.5,\n",
    "    white_screen_luminance=80.,\n",
    "    background_lightness=None,\n",
    "    glare=0.085,\n",
    "    leakage=0.001\n",
    ")\n",
    "\n",
    "def DARK_set_background_lightness():\n",
    "    def bgdiff(Yb):\n",
    "        XYZ1 = colour.xyY_to_XYZ((night_sky_xy[0], night_sky_xy[1], 0.05))\n",
    "        XYZ2 = colour.xyY_to_XYZ((night_sky_xy[0], night_sky_xy[1], Yb))\n",
    "        DARK.background_lightness = colour.colorimetry.lightness_CIE1976(Yb)\n",
    "        return XYZ_to_JpMph(XYZ2, DARK)[0] - XYZ_to_JpMph(XYZ1, DARK)[0]\n",
    "    DARK.background_lightness = colour.colorimetry.lightness_CIE1976(binary_search(0., 1., 0.0001, lambda Yb: bgdiff(Yb) < 0.05))\n",
    "DARK_set_background_lightness()"
   ]
  },
  {
   "cell_type": "code",
   "execution_count": 77,
   "metadata": {},
   "outputs": [],
   "source": [
    "DARK_saturation_cap = 0.35\n",
    "\n",
    "def DARK_find_satuaration_limit(Jps, hs):\n",
    "    return np.min( [ find_colourfulness_limit(Jp, h, DARK) / np.sqrt(Jp) for (Jp,h) in zip(Jps,hs) ] + [DARK_saturation_cap] )"
   ]
  },
  {
   "cell_type": "code",
   "execution_count": 78,
   "metadata": {},
   "outputs": [],
   "source": [
    "DARK_Ys = np.array([ 0.05, colour.luminance(DARK.background_lightness), 0., 0., 0., 0., 0.])\n",
    "\n",
    "DARK_Ys[4] = LIGHT_Ys[4] * LIGHT_Ys[1]/DARK_Ys[1]\n",
    "DARK_Ys[5] = LIGHT_Ys[5] * LIGHT_Ys[1]/DARK_Ys[1]\n",
    "DARK_Ys[2] = DARK_Ys[1] * DARK_Ys[5] / DARK_Ys[4]\n",
    "DARK_Ys[3] = np.sqrt(DARK_Ys[1] * DARK_Ys[5])\n",
    "DARK_Ys[6] = JpMph_to_XYZ(\n",
    "        XYZ_to_JpMph(colour.xyY_to_XYZ([DARK.simulated_whitepoint[0], DARK.simulated_whitepoint[1], DARK_Ys[5]]), DARK) + [0.05, 0, 0],\n",
    "        DARK\n",
    "    )[0]"
   ]
  },
  {
   "cell_type": "code",
   "execution_count": 79,
   "metadata": {},
   "outputs": [
    {
     "output_type": "display_data",
     "data": {
      "text/plain": "<Figure size 432x288 with 1 Axes>",
      "image/svg+xml": "<?xml version=\"1.0\" encoding=\"utf-8\" standalone=\"no\"?>\n<!DOCTYPE svg PUBLIC \"-//W3C//DTD SVG 1.1//EN\"\n  \"http://www.w3.org/Graphics/SVG/1.1/DTD/svg11.dtd\">\n<!-- Created with matplotlib (https://matplotlib.org/) -->\n<svg height=\"73.028571pt\" version=\"1.1\" viewBox=\"0 0 424.8 73.028571\" width=\"424.8pt\" xmlns=\"http://www.w3.org/2000/svg\" xmlns:xlink=\"http://www.w3.org/1999/xlink\">\n <metadata>\n  <rdf:RDF xmlns:cc=\"http://creativecommons.org/ns#\" xmlns:dc=\"http://purl.org/dc/elements/1.1/\" xmlns:rdf=\"http://www.w3.org/1999/02/22-rdf-syntax-ns#\">\n   <cc:Work>\n    <dc:type rdf:resource=\"http://purl.org/dc/dcmitype/StillImage\"/>\n    <dc:date>1980-01-01T00:00:00+00:00</dc:date>\n    <dc:format>image/svg+xml</dc:format>\n    <dc:creator>\n     <cc:Agent>\n      <dc:title>Matplotlib v3.3.1, https://matplotlib.org/</dc:title>\n     </cc:Agent>\n    </dc:creator>\n   </cc:Work>\n  </rdf:RDF>\n </metadata>\n <defs>\n  <style type=\"text/css\">*{stroke-linecap:butt;stroke-linejoin:round;}</style>\n </defs>\n <g id=\"figure_1\">\n  <g id=\"patch_1\">\n   <path d=\"M 0 73.028571 \nL 424.8 73.028571 \nL 424.8 0 \nL 0 0 \nz\n\" style=\"fill:none;opacity:0;\"/>\n  </g>\n  <g id=\"axes_1\">\n   <g id=\"patch_2\">\n    <path d=\"M 7.2 65.828571 \nL 417.6 65.828571 \nL 417.6 7.2 \nL 7.2 7.2 \nz\n\" style=\"fill:#ffffff;\"/>\n   </g>\n   <g id=\"patch_3\">\n    <path clip-path=\"url(#pef46d77e35)\" d=\"M 7.2 65.828571 \nL 65.828571 65.828571 \nL 65.828571 7.2 \nL 7.2 7.2 \nz\n\" style=\"fill:#263941;stroke:#263941;stroke-linejoin:miter;\"/>\n   </g>\n   <g id=\"patch_4\">\n    <path clip-path=\"url(#pef46d77e35)\" d=\"M 7.2 65.828571 \nL 65.828571 65.828571 \nL 65.828571 7.2 \nz\n\" style=\"fill:#263941;stroke:#263941;stroke-linejoin:miter;\"/>\n   </g>\n   <g id=\"patch_5\">\n    <path clip-path=\"url(#pef46d77e35)\" d=\"M 65.828571 65.828571 \nL 124.457143 65.828571 \nL 124.457143 7.2 \nL 65.828571 7.2 \nz\n\" style=\"fill:#36464e;stroke:#36464e;stroke-linejoin:miter;\"/>\n   </g>\n   <g id=\"patch_6\">\n    <path clip-path=\"url(#pef46d77e35)\" d=\"M 65.828571 65.828571 \nL 124.457143 65.828571 \nL 124.457143 7.2 \nz\n\" style=\"fill:#36464e;stroke:#36464e;stroke-linejoin:miter;\"/>\n   </g>\n   <g id=\"patch_7\">\n    <path clip-path=\"url(#pef46d77e35)\" d=\"M 124.457143 65.828571 \nL 183.085714 65.828571 \nL 183.085714 7.2 \nL 124.457143 7.2 \nz\n\" style=\"fill:#404f56;stroke:#404f56;stroke-linejoin:miter;\"/>\n   </g>\n   <g id=\"patch_8\">\n    <path clip-path=\"url(#pef46d77e35)\" d=\"M 124.457143 65.828571 \nL 183.085714 65.828571 \nL 183.085714 7.2 \nz\n\" style=\"fill:#404f56;stroke:#404f56;stroke-linejoin:miter;\"/>\n   </g>\n   <g id=\"patch_9\">\n    <path clip-path=\"url(#pef46d77e35)\" d=\"M 183.085714 65.828571 \nL 241.714286 65.828571 \nL 241.714286 7.2 \nL 183.085714 7.2 \nz\n\" style=\"fill:#78828a;stroke:#78828a;stroke-linejoin:miter;\"/>\n   </g>\n   <g id=\"patch_10\">\n    <path clip-path=\"url(#pef46d77e35)\" d=\"M 183.085714 65.828571 \nL 241.714286 65.828571 \nL 241.714286 7.2 \nz\n\" style=\"fill:#78828a;stroke:#78828a;stroke-linejoin:miter;\"/>\n   </g>\n   <g id=\"patch_11\">\n    <path clip-path=\"url(#pef46d77e35)\" d=\"M 241.714286 65.828571 \nL 300.342857 65.828571 \nL 300.342857 7.2 \nL 241.714286 7.2 \nz\n\" style=\"fill:#caced8;stroke:#caced8;stroke-linejoin:miter;\"/>\n   </g>\n   <g id=\"patch_12\">\n    <path clip-path=\"url(#pef46d77e35)\" d=\"M 241.714286 65.828571 \nL 300.342857 65.828571 \nL 300.342857 7.2 \nz\n\" style=\"fill:#caced8;stroke:#caced8;stroke-linejoin:miter;\"/>\n   </g>\n   <g id=\"patch_13\">\n    <path clip-path=\"url(#pef46d77e35)\" d=\"M 300.342857 65.828571 \nL 358.971429 65.828571 \nL 358.971429 7.2 \nL 300.342857 7.2 \nz\n\" style=\"fill:#dfe2ed;stroke:#dfe2ed;stroke-linejoin:miter;\"/>\n   </g>\n   <g id=\"patch_14\">\n    <path clip-path=\"url(#pef46d77e35)\" d=\"M 300.342857 65.828571 \nL 358.971429 65.828571 \nL 358.971429 7.2 \nz\n\" style=\"fill:#dfe2ed;stroke:#dfe2ed;stroke-linejoin:miter;\"/>\n   </g>\n   <g id=\"patch_15\">\n    <path clip-path=\"url(#pef46d77e35)\" d=\"M 358.971429 65.828571 \nL 417.6 65.828571 \nL 417.6 7.2 \nL 358.971429 7.2 \nz\n\" style=\"fill:#f1f3fe;stroke:#f1f3fe;stroke-linejoin:miter;\"/>\n   </g>\n   <g id=\"patch_16\">\n    <path clip-path=\"url(#pef46d77e35)\" d=\"M 358.971429 65.828571 \nL 417.6 65.828571 \nL 417.6 7.2 \nz\n\" style=\"fill:#f1f3fe;stroke:#f1f3fe;stroke-linejoin:miter;\"/>\n   </g>\n   <g id=\"matplotlib.axis_1\">\n    <g id=\"xtick_1\"/>\n    <g id=\"xtick_2\"/>\n    <g id=\"xtick_3\"/>\n    <g id=\"xtick_4\"/>\n    <g id=\"xtick_5\"/>\n    <g id=\"xtick_6\"/>\n    <g id=\"xtick_7\"/>\n    <g id=\"xtick_8\"/>\n   </g>\n   <g id=\"matplotlib.axis_2\">\n    <g id=\"ytick_1\"/>\n    <g id=\"ytick_2\"/>\n    <g id=\"ytick_3\"/>\n   </g>\n   <g id=\"patch_17\">\n    <path d=\"M 7.2 65.828571 \nL 7.2 7.2 \n\" style=\"fill:none;stroke:#000000;stroke-linecap:square;stroke-linejoin:miter;stroke-width:0.8;\"/>\n   </g>\n   <g id=\"patch_18\">\n    <path d=\"M 417.6 65.828571 \nL 417.6 7.2 \n\" style=\"fill:none;stroke:#000000;stroke-linecap:square;stroke-linejoin:miter;stroke-width:0.8;\"/>\n   </g>\n   <g id=\"patch_19\">\n    <path d=\"M 7.2 65.828571 \nL 417.6 65.828571 \n\" style=\"fill:none;stroke:#000000;stroke-linecap:square;stroke-linejoin:miter;stroke-width:0.8;\"/>\n   </g>\n   <g id=\"patch_20\">\n    <path d=\"M 7.2 7.2 \nL 417.6 7.2 \n\" style=\"fill:none;stroke:#000000;stroke-linecap:square;stroke-linejoin:miter;stroke-width:0.8;\"/>\n   </g>\n  </g>\n </g>\n <defs>\n  <clipPath id=\"pef46d77e35\">\n   <rect height=\"58.628571\" width=\"410.4\" x=\"7.2\" y=\"7.2\"/>\n  </clipPath>\n </defs>\n</svg>\n",
      "image/png": "[encoded data removed]"
     },
     "metadata": {}
    },
    {
     "output_type": "execute_result",
     "data": {
      "text/plain": [
       "array(['#263941', '#35454d', '#3f4e56', '#78828a', '#c9ced8', '#dfe2ec',\n",
       "       '#f1f3fe'], dtype=object)"
      ]
     },
     "metadata": {},
     "execution_count": 79
    }
   ],
   "source": [
    "DARK_neutral_colors = XYZ_to_JpMph([colour.xyY_to_XYZ([night_sky_xy[0], night_sky_xy[1], Y]) for Y in DARK_Ys], DARK)\n",
    "for i in range(7):\n",
    "    DARK_neutral_colors[i][1] *= 1 - np.sqrt(DARK_neutral_colors[i][0])\n",
    "\n",
    "\n",
    "DARK_Jps = DARK_neutral_colors[...,0]\n",
    "DARK_neutral_XYZs = JpMph_to_XYZ(DARK_neutral_colors, DARK)\n",
    "display_JpMph(DARK_neutral_colors, DARK)\n",
    "\n",
    "JpMph_to_HEX(DARK_neutral_colors, DARK)"
   ]
  },
  {
   "cell_type": "code",
   "execution_count": 80,
   "metadata": {},
   "outputs": [
    {
     "output_type": "display_data",
     "data": {
      "text/plain": "<Figure size 432x288 with 1 Axes>",
      "image/svg+xml": "<?xml version=\"1.0\" encoding=\"utf-8\" standalone=\"no\"?>\n<!DOCTYPE svg PUBLIC \"-//W3C//DTD SVG 1.1//EN\"\n  \"http://www.w3.org/Graphics/SVG/1.1/DTD/svg11.dtd\">\n<!-- Created with matplotlib (https://matplotlib.org/) -->\n<svg height=\"82.8pt\" version=\"1.1\" viewBox=\"0 0 424.8 82.8\" width=\"424.8pt\" xmlns=\"http://www.w3.org/2000/svg\" xmlns:xlink=\"http://www.w3.org/1999/xlink\">\n <metadata>\n  <rdf:RDF xmlns:cc=\"http://creativecommons.org/ns#\" xmlns:dc=\"http://purl.org/dc/elements/1.1/\" xmlns:rdf=\"http://www.w3.org/1999/02/22-rdf-syntax-ns#\">\n   <cc:Work>\n    <dc:type rdf:resource=\"http://purl.org/dc/dcmitype/StillImage\"/>\n    <dc:date>1980-01-01T00:00:00+00:00</dc:date>\n    <dc:format>image/svg+xml</dc:format>\n    <dc:creator>\n     <cc:Agent>\n      <dc:title>Matplotlib v3.3.1, https://matplotlib.org/</dc:title>\n     </cc:Agent>\n    </dc:creator>\n   </cc:Work>\n  </rdf:RDF>\n </metadata>\n <defs>\n  <style type=\"text/css\">*{stroke-linecap:butt;stroke-linejoin:round;}</style>\n </defs>\n <g id=\"figure_1\">\n  <g id=\"patch_1\">\n   <path d=\"M 0 82.8 \nL 424.8 82.8 \nL 424.8 0 \nL 0 0 \nz\n\" style=\"fill:none;opacity:0;\"/>\n  </g>\n  <g id=\"axes_1\">\n   <g id=\"patch_2\">\n    <path d=\"M 7.2 75.6 \nL 417.6 75.6 \nL 417.6 7.2 \nL 7.2 7.2 \nz\n\" style=\"fill:#ffffff;\"/>\n   </g>\n   <g id=\"patch_3\">\n    <path clip-path=\"url(#p3b4c50be9b)\" d=\"M 7.2 75.6 \nL 75.6 75.6 \nL 75.6 7.2 \nL 7.2 7.2 \nz\n\" style=\"fill:#ff9a7b;stroke:#ff9a7b;stroke-linejoin:miter;\"/>\n   </g>\n   <g id=\"patch_4\">\n    <path clip-path=\"url(#p3b4c50be9b)\" d=\"M 7.2 75.6 \nL 75.6 75.6 \nL 75.6 7.2 \nz\n\" style=\"fill:#ff9a7b;stroke:#ff9a7b;stroke-linejoin:miter;\"/>\n   </g>\n   <g id=\"patch_5\">\n    <path clip-path=\"url(#p3b4c50be9b)\" d=\"M 75.6 75.6 \nL 144 75.6 \nL 144 7.2 \nL 75.6 7.2 \nz\n\" style=\"fill:#f1ca59;stroke:#f1ca59;stroke-linejoin:miter;\"/>\n   </g>\n   <g id=\"patch_6\">\n    <path clip-path=\"url(#p3b4c50be9b)\" d=\"M 75.6 75.6 \nL 144 75.6 \nL 144 7.2 \nz\n\" style=\"fill:#f1ca59;stroke:#f1ca59;stroke-linejoin:miter;\"/>\n   </g>\n   <g id=\"patch_7\">\n    <path clip-path=\"url(#p3b4c50be9b)\" d=\"M 144 75.6 \nL 212.4 75.6 \nL 212.4 7.2 \nL 144 7.2 \nz\n\" style=\"fill:#8acc86;stroke:#8acc86;stroke-linejoin:miter;\"/>\n   </g>\n   <g id=\"patch_8\">\n    <path clip-path=\"url(#p3b4c50be9b)\" d=\"M 144 75.6 \nL 212.4 75.6 \nL 212.4 7.2 \nz\n\" style=\"fill:#8acc86;stroke:#8acc86;stroke-linejoin:miter;\"/>\n   </g>\n   <g id=\"patch_9\">\n    <path clip-path=\"url(#p3b4c50be9b)\" d=\"M 212.4 75.6 \nL 280.8 75.6 \nL 280.8 7.2 \nL 212.4 7.2 \nz\n\" style=\"fill:#53a1de;stroke:#53a1de;stroke-linejoin:miter;\"/>\n   </g>\n   <g id=\"patch_10\">\n    <path clip-path=\"url(#p3b4c50be9b)\" d=\"M 212.4 75.6 \nL 280.8 75.6 \nL 280.8 7.2 \nz\n\" style=\"fill:#53a1de;stroke:#53a1de;stroke-linejoin:miter;\"/>\n   </g>\n   <g id=\"patch_11\">\n    <path clip-path=\"url(#p3b4c50be9b)\" d=\"M 280.8 75.6 \nL 349.2 75.6 \nL 349.2 7.2 \nL 280.8 7.2 \nz\n\" style=\"fill:#9f94ec;stroke:#9f94ec;stroke-linejoin:miter;\"/>\n   </g>\n   <g id=\"patch_12\">\n    <path clip-path=\"url(#p3b4c50be9b)\" d=\"M 280.8 75.6 \nL 349.2 75.6 \nL 349.2 7.2 \nz\n\" style=\"fill:#9f94ec;stroke:#9f94ec;stroke-linejoin:miter;\"/>\n   </g>\n   <g id=\"patch_13\">\n    <path clip-path=\"url(#p3b4c50be9b)\" d=\"M 349.2 75.6 \nL 417.6 75.6 \nL 417.6 7.2 \nL 349.2 7.2 \nz\n\" style=\"fill:#df8cc7;stroke:#df8cc7;stroke-linejoin:miter;\"/>\n   </g>\n   <g id=\"patch_14\">\n    <path clip-path=\"url(#p3b4c50be9b)\" d=\"M 349.2 75.6 \nL 417.6 75.6 \nL 417.6 7.2 \nz\n\" style=\"fill:#df8cc7;stroke:#df8cc7;stroke-linejoin:miter;\"/>\n   </g>\n   <g id=\"matplotlib.axis_1\">\n    <g id=\"xtick_1\"/>\n    <g id=\"xtick_2\"/>\n    <g id=\"xtick_3\"/>\n    <g id=\"xtick_4\"/>\n    <g id=\"xtick_5\"/>\n    <g id=\"xtick_6\"/>\n    <g id=\"xtick_7\"/>\n   </g>\n   <g id=\"matplotlib.axis_2\">\n    <g id=\"ytick_1\"/>\n    <g id=\"ytick_2\"/>\n    <g id=\"ytick_3\"/>\n   </g>\n   <g id=\"patch_15\">\n    <path d=\"M 7.2 75.6 \nL 7.2 7.2 \n\" style=\"fill:none;stroke:#000000;stroke-linecap:square;stroke-linejoin:miter;stroke-width:0.8;\"/>\n   </g>\n   <g id=\"patch_16\">\n    <path d=\"M 417.6 75.6 \nL 417.6 7.2 \n\" style=\"fill:none;stroke:#000000;stroke-linecap:square;stroke-linejoin:miter;stroke-width:0.8;\"/>\n   </g>\n   <g id=\"patch_17\">\n    <path d=\"M 7.2 75.6 \nL 417.6 75.6 \n\" style=\"fill:none;stroke:#000000;stroke-linecap:square;stroke-linejoin:miter;stroke-width:0.8;\"/>\n   </g>\n   <g id=\"patch_18\">\n    <path d=\"M 7.2 7.2 \nL 417.6 7.2 \n\" style=\"fill:none;stroke:#000000;stroke-linecap:square;stroke-linejoin:miter;stroke-width:0.8;\"/>\n   </g>\n  </g>\n </g>\n <defs>\n  <clipPath id=\"p3b4c50be9b\">\n   <rect height=\"68.4\" width=\"410.4\" x=\"7.2\" y=\"7.2\"/>\n  </clipPath>\n </defs>\n</svg>\n",
      "image/png": "[encoded data removed]"
     },
     "metadata": {}
    }
   ],
   "source": [
    "DARK_bad_color_XYZ = HEX_to_XYZ('#00ffff', DARK)\n",
    "\n",
    "DARK_bad_hue = XYZ_to_JpMph(DARK_bad_color_XYZ, DARK)[2]\n",
    "\n",
    "DARK_fg_hues = np.array([ (DARK_bad_hue + h/7.) % 1. for h in [ -3, -2, -1, 1, 2, 3] ])\n",
    "\n",
    "DARK_fg_max_Jp = DARK_neutral_colors[4][0]\n",
    "DARK_fg_min_Jp = XYZ_to_JpMph(DARK_neutral_XYZs[1]*4.8, DARK)[0]\n",
    "\n",
    "DARK_fg_vivid_Jps = np.array([  \n",
    "    (DARK_fg_max_Jp + DARK_fg_min_Jp)/2. +\n",
    "    (DARK_fg_max_Jp - DARK_fg_min_Jp)/2. *\n",
    "    warmness(hue_to_quadrature(h))\n",
    "    for h in DARK_fg_hues\n",
    "])\n",
    "\n",
    "DARK_fg_vivid_saturation_limit = DARK_find_satuaration_limit(DARK_fg_vivid_Jps, DARK_fg_hues)\n",
    "DARK_fg_vivid_Mps = np.array([ np.sqrt(Jp) * DARK_fg_vivid_saturation_limit for  Jp in DARK_fg_vivid_Jps ])\n",
    "DARK_fg_vivid_colors = np.array(list(zip(DARK_fg_vivid_Jps, DARK_fg_vivid_Mps, DARK_fg_hues)))\n",
    "\n",
    "display_JpMph(DARK_fg_vivid_colors, DARK)"
   ]
  },
  {
   "cell_type": "code",
   "execution_count": 81,
   "metadata": {},
   "outputs": [
    {
     "output_type": "display_data",
     "data": {
      "text/plain": "<Figure size 432x288 with 1 Axes>",
      "image/svg+xml": "<?xml version=\"1.0\" encoding=\"utf-8\" standalone=\"no\"?>\n<!DOCTYPE svg PUBLIC \"-//W3C//DTD SVG 1.1//EN\"\n  \"http://www.w3.org/Graphics/SVG/1.1/DTD/svg11.dtd\">\n<!-- Created with matplotlib (https://matplotlib.org/) -->\n<svg height=\"82.8pt\" version=\"1.1\" viewBox=\"0 0 424.8 82.8\" width=\"424.8pt\" xmlns=\"http://www.w3.org/2000/svg\" xmlns:xlink=\"http://www.w3.org/1999/xlink\">\n <metadata>\n  <rdf:RDF xmlns:cc=\"http://creativecommons.org/ns#\" xmlns:dc=\"http://purl.org/dc/elements/1.1/\" xmlns:rdf=\"http://www.w3.org/1999/02/22-rdf-syntax-ns#\">\n   <cc:Work>\n    <dc:type rdf:resource=\"http://purl.org/dc/dcmitype/StillImage\"/>\n    <dc:date>1980-01-01T00:00:00+00:00</dc:date>\n    <dc:format>image/svg+xml</dc:format>\n    <dc:creator>\n     <cc:Agent>\n      <dc:title>Matplotlib v3.3.1, https://matplotlib.org/</dc:title>\n     </cc:Agent>\n    </dc:creator>\n   </cc:Work>\n  </rdf:RDF>\n </metadata>\n <defs>\n  <style type=\"text/css\">*{stroke-linecap:butt;stroke-linejoin:round;}</style>\n </defs>\n <g id=\"figure_1\">\n  <g id=\"patch_1\">\n   <path d=\"M 0 82.8 \nL 424.8 82.8 \nL 424.8 0 \nL 0 0 \nz\n\" style=\"fill:none;opacity:0;\"/>\n  </g>\n  <g id=\"axes_1\">\n   <g id=\"patch_2\">\n    <path d=\"M 7.2 75.6 \nL 417.6 75.6 \nL 417.6 7.2 \nL 7.2 7.2 \nz\n\" style=\"fill:#ffffff;\"/>\n   </g>\n   <g id=\"patch_3\">\n    <path clip-path=\"url(#p9c69429c40)\" d=\"M 7.2 75.6 \nL 75.6 75.6 \nL 75.6 7.2 \nL 7.2 7.2 \nz\n\" style=\"fill:#be8a7e;stroke:#be8a7e;stroke-linejoin:miter;\"/>\n   </g>\n   <g id=\"patch_4\">\n    <path clip-path=\"url(#p9c69429c40)\" d=\"M 7.2 75.6 \nL 75.6 75.6 \nL 75.6 7.2 \nz\n\" style=\"fill:#be8a7e;stroke:#be8a7e;stroke-linejoin:miter;\"/>\n   </g>\n   <g id=\"patch_5\">\n    <path clip-path=\"url(#p9c69429c40)\" d=\"M 75.6 75.6 \nL 144 75.6 \nL 144 7.2 \nL 75.6 7.2 \nz\n\" style=\"fill:#a89769;stroke:#a89769;stroke-linejoin:miter;\"/>\n   </g>\n   <g id=\"patch_6\">\n    <path clip-path=\"url(#p9c69429c40)\" d=\"M 75.6 75.6 \nL 144 75.6 \nL 144 7.2 \nz\n\" style=\"fill:#a89769;stroke:#a89769;stroke-linejoin:miter;\"/>\n   </g>\n   <g id=\"patch_7\">\n    <path clip-path=\"url(#p9c69429c40)\" d=\"M 144 75.6 \nL 212.4 75.6 \nL 212.4 7.2 \nL 144 7.2 \nz\n\" style=\"fill:#82a284;stroke:#82a284;stroke-linejoin:miter;\"/>\n   </g>\n   <g id=\"patch_8\">\n    <path clip-path=\"url(#p9c69429c40)\" d=\"M 144 75.6 \nL 212.4 75.6 \nL 212.4 7.2 \nz\n\" style=\"fill:#82a284;stroke:#82a284;stroke-linejoin:miter;\"/>\n   </g>\n   <g id=\"patch_9\">\n    <path clip-path=\"url(#p9c69429c40)\" d=\"M 212.4 75.6 \nL 280.8 75.6 \nL 280.8 7.2 \nL 212.4 7.2 \nz\n\" style=\"fill:#799dc0;stroke:#799dc0;stroke-linejoin:miter;\"/>\n   </g>\n   <g id=\"patch_10\">\n    <path clip-path=\"url(#p9c69429c40)\" d=\"M 212.4 75.6 \nL 280.8 75.6 \nL 280.8 7.2 \nz\n\" style=\"fill:#799dc0;stroke:#799dc0;stroke-linejoin:miter;\"/>\n   </g>\n   <g id=\"patch_11\">\n    <path clip-path=\"url(#p9c69429c40)\" d=\"M 280.8 75.6 \nL 349.2 75.6 \nL 349.2 7.2 \nL 280.8 7.2 \nz\n\" style=\"fill:#9693c2;stroke:#9693c2;stroke-linejoin:miter;\"/>\n   </g>\n   <g id=\"patch_12\">\n    <path clip-path=\"url(#p9c69429c40)\" d=\"M 280.8 75.6 \nL 349.2 75.6 \nL 349.2 7.2 \nz\n\" style=\"fill:#9693c2;stroke:#9693c2;stroke-linejoin:miter;\"/>\n   </g>\n   <g id=\"patch_13\">\n    <path clip-path=\"url(#p9c69429c40)\" d=\"M 349.2 75.6 \nL 417.6 75.6 \nL 417.6 7.2 \nL 349.2 7.2 \nz\n\" style=\"fill:#b38aaa;stroke:#b38aaa;stroke-linejoin:miter;\"/>\n   </g>\n   <g id=\"patch_14\">\n    <path clip-path=\"url(#p9c69429c40)\" d=\"M 349.2 75.6 \nL 417.6 75.6 \nL 417.6 7.2 \nz\n\" style=\"fill:#b38aaa;stroke:#b38aaa;stroke-linejoin:miter;\"/>\n   </g>\n   <g id=\"matplotlib.axis_1\">\n    <g id=\"xtick_1\"/>\n    <g id=\"xtick_2\"/>\n    <g id=\"xtick_3\"/>\n    <g id=\"xtick_4\"/>\n    <g id=\"xtick_5\"/>\n    <g id=\"xtick_6\"/>\n    <g id=\"xtick_7\"/>\n   </g>\n   <g id=\"matplotlib.axis_2\">\n    <g id=\"ytick_1\"/>\n    <g id=\"ytick_2\"/>\n    <g id=\"ytick_3\"/>\n   </g>\n   <g id=\"patch_15\">\n    <path d=\"M 7.2 75.6 \nL 7.2 7.2 \n\" style=\"fill:none;stroke:#000000;stroke-linecap:square;stroke-linejoin:miter;stroke-width:0.8;\"/>\n   </g>\n   <g id=\"patch_16\">\n    <path d=\"M 417.6 75.6 \nL 417.6 7.2 \n\" style=\"fill:none;stroke:#000000;stroke-linecap:square;stroke-linejoin:miter;stroke-width:0.8;\"/>\n   </g>\n   <g id=\"patch_17\">\n    <path d=\"M 7.2 75.6 \nL 417.6 75.6 \n\" style=\"fill:none;stroke:#000000;stroke-linecap:square;stroke-linejoin:miter;stroke-width:0.8;\"/>\n   </g>\n   <g id=\"patch_18\">\n    <path d=\"M 7.2 7.2 \nL 417.6 7.2 \n\" style=\"fill:none;stroke:#000000;stroke-linecap:square;stroke-linejoin:miter;stroke-width:0.8;\"/>\n   </g>\n  </g>\n </g>\n <defs>\n  <clipPath id=\"p9c69429c40\">\n   <rect height=\"68.4\" width=\"410.4\" x=\"7.2\" y=\"7.2\"/>\n  </clipPath>\n </defs>\n</svg>\n",
      "image/png": "[encoded data removed]"
     },
     "metadata": {}
    }
   ],
   "source": [
    "DARK_fg_soft_Jp = DARK_fg_min_Jp\n",
    "DARK_fg_soft_Mp = np.sqrt(DARK_fg_soft_Jp) * DARK_fg_vivid_saturation_limit * 0.6\n",
    "DARK_fg_soft_colors = np.array([[DARK_fg_soft_Jp, DARK_fg_soft_Mp, h] for h in DARK_fg_hues])\n",
    "\n",
    "display_JpMph(DARK_fg_soft_colors, DARK)"
   ]
  },
  {
   "cell_type": "code",
   "execution_count": 82,
   "metadata": {},
   "outputs": [
    {
     "output_type": "display_data",
     "data": {
      "text/plain": "<Figure size 432x288 with 1 Axes>",
      "image/svg+xml": "<?xml version=\"1.0\" encoding=\"utf-8\" standalone=\"no\"?>\n<!DOCTYPE svg PUBLIC \"-//W3C//DTD SVG 1.1//EN\"\n  \"http://www.w3.org/Graphics/SVG/1.1/DTD/svg11.dtd\">\n<!-- Created with matplotlib (https://matplotlib.org/) -->\n<svg height=\"82.8pt\" version=\"1.1\" viewBox=\"0 0 424.8 82.8\" width=\"424.8pt\" xmlns=\"http://www.w3.org/2000/svg\" xmlns:xlink=\"http://www.w3.org/1999/xlink\">\n <metadata>\n  <rdf:RDF xmlns:cc=\"http://creativecommons.org/ns#\" xmlns:dc=\"http://purl.org/dc/elements/1.1/\" xmlns:rdf=\"http://www.w3.org/1999/02/22-rdf-syntax-ns#\">\n   <cc:Work>\n    <dc:type rdf:resource=\"http://purl.org/dc/dcmitype/StillImage\"/>\n    <dc:date>1980-01-01T00:00:00+00:00</dc:date>\n    <dc:format>image/svg+xml</dc:format>\n    <dc:creator>\n     <cc:Agent>\n      <dc:title>Matplotlib v3.3.1, https://matplotlib.org/</dc:title>\n     </cc:Agent>\n    </dc:creator>\n   </cc:Work>\n  </rdf:RDF>\n </metadata>\n <defs>\n  <style type=\"text/css\">*{stroke-linecap:butt;stroke-linejoin:round;}</style>\n </defs>\n <g id=\"figure_1\">\n  <g id=\"patch_1\">\n   <path d=\"M 0 82.8 \nL 424.8 82.8 \nL 424.8 0 \nL 0 0 \nz\n\" style=\"fill:none;opacity:0;\"/>\n  </g>\n  <g id=\"axes_1\">\n   <g id=\"patch_2\">\n    <path d=\"M 7.2 75.6 \nL 417.6 75.6 \nL 417.6 7.2 \nL 7.2 7.2 \nz\n\" style=\"fill:#ffffff;\"/>\n   </g>\n   <g id=\"patch_3\">\n    <path clip-path=\"url(#p8837e46fdd)\" d=\"M 7.2 75.6 \nL 75.6 75.6 \nL 75.6 7.2 \nL 7.2 7.2 \nz\n\" style=\"fill:#8b4c39;stroke:#8b4c39;stroke-linejoin:miter;\"/>\n   </g>\n   <g id=\"patch_4\">\n    <path clip-path=\"url(#p8837e46fdd)\" d=\"M 7.2 75.6 \nL 75.6 75.6 \nL 75.6 7.2 \nz\n\" style=\"fill:#8b4c39;stroke:#8b4c39;stroke-linejoin:miter;\"/>\n   </g>\n   <g id=\"patch_5\">\n    <path clip-path=\"url(#p8837e46fdd)\" d=\"M 75.6 75.6 \nL 144 75.6 \nL 144 7.2 \nL 75.6 7.2 \nz\n\" style=\"fill:#81691d;stroke:#81691d;stroke-linejoin:miter;\"/>\n   </g>\n   <g id=\"patch_6\">\n    <path clip-path=\"url(#p8837e46fdd)\" d=\"M 75.6 75.6 \nL 144 75.6 \nL 144 7.2 \nz\n\" style=\"fill:#81691d;stroke:#81691d;stroke-linejoin:miter;\"/>\n   </g>\n   <g id=\"patch_7\">\n    <path clip-path=\"url(#p8837e46fdd)\" d=\"M 144 75.6 \nL 212.4 75.6 \nL 212.4 7.2 \nL 144 7.2 \nz\n\" style=\"fill:#3b6d40;stroke:#3b6d40;stroke-linejoin:miter;\"/>\n   </g>\n   <g id=\"patch_8\">\n    <path clip-path=\"url(#p8837e46fdd)\" d=\"M 144 75.6 \nL 212.4 75.6 \nL 212.4 7.2 \nz\n\" style=\"fill:#3b6d40;stroke:#3b6d40;stroke-linejoin:miter;\"/>\n   </g>\n   <g id=\"patch_9\">\n    <path clip-path=\"url(#p8837e46fdd)\" d=\"M 212.4 75.6 \nL 280.8 75.6 \nL 280.8 7.2 \nL 212.4 7.2 \nz\n\" style=\"fill:#00527b;stroke:#00527b;stroke-linejoin:miter;\"/>\n   </g>\n   <g id=\"patch_10\">\n    <path clip-path=\"url(#p8837e46fdd)\" d=\"M 212.4 75.6 \nL 280.8 75.6 \nL 280.8 7.2 \nz\n\" style=\"fill:#00527b;stroke:#00527b;stroke-linejoin:miter;\"/>\n   </g>\n   <g id=\"patch_11\">\n    <path clip-path=\"url(#p8837e46fdd)\" d=\"M 280.8 75.6 \nL 349.2 75.6 \nL 349.2 7.2 \nL 280.8 7.2 \nz\n\" style=\"fill:#4d4984;stroke:#4d4984;stroke-linejoin:miter;\"/>\n   </g>\n   <g id=\"patch_12\">\n    <path clip-path=\"url(#p8837e46fdd)\" d=\"M 280.8 75.6 \nL 349.2 75.6 \nL 349.2 7.2 \nz\n\" style=\"fill:#4d4984;stroke:#4d4984;stroke-linejoin:miter;\"/>\n   </g>\n   <g id=\"patch_13\">\n    <path clip-path=\"url(#p8837e46fdd)\" d=\"M 349.2 75.6 \nL 417.6 75.6 \nL 417.6 7.2 \nL 349.2 7.2 \nz\n\" style=\"fill:#77436c;stroke:#77436c;stroke-linejoin:miter;\"/>\n   </g>\n   <g id=\"patch_14\">\n    <path clip-path=\"url(#p8837e46fdd)\" d=\"M 349.2 75.6 \nL 417.6 75.6 \nL 417.6 7.2 \nz\n\" style=\"fill:#77436c;stroke:#77436c;stroke-linejoin:miter;\"/>\n   </g>\n   <g id=\"matplotlib.axis_1\">\n    <g id=\"xtick_1\"/>\n    <g id=\"xtick_2\"/>\n    <g id=\"xtick_3\"/>\n    <g id=\"xtick_4\"/>\n    <g id=\"xtick_5\"/>\n    <g id=\"xtick_6\"/>\n    <g id=\"xtick_7\"/>\n   </g>\n   <g id=\"matplotlib.axis_2\">\n    <g id=\"ytick_1\"/>\n    <g id=\"ytick_2\"/>\n    <g id=\"ytick_3\"/>\n   </g>\n   <g id=\"patch_15\">\n    <path d=\"M 7.2 75.6 \nL 7.2 7.2 \n\" style=\"fill:none;stroke:#000000;stroke-linecap:square;stroke-linejoin:miter;stroke-width:0.8;\"/>\n   </g>\n   <g id=\"patch_16\">\n    <path d=\"M 417.6 75.6 \nL 417.6 7.2 \n\" style=\"fill:none;stroke:#000000;stroke-linecap:square;stroke-linejoin:miter;stroke-width:0.8;\"/>\n   </g>\n   <g id=\"patch_17\">\n    <path d=\"M 7.2 75.6 \nL 417.6 75.6 \n\" style=\"fill:none;stroke:#000000;stroke-linecap:square;stroke-linejoin:miter;stroke-width:0.8;\"/>\n   </g>\n   <g id=\"patch_18\">\n    <path d=\"M 7.2 7.2 \nL 417.6 7.2 \n\" style=\"fill:none;stroke:#000000;stroke-linecap:square;stroke-linejoin:miter;stroke-width:0.8;\"/>\n   </g>\n  </g>\n </g>\n <defs>\n  <clipPath id=\"p8837e46fdd\">\n   <rect height=\"68.4\" width=\"410.4\" x=\"7.2\" y=\"7.2\"/>\n  </clipPath>\n </defs>\n</svg>\n",
      "image/png": "[encoded data removed]"
     },
     "metadata": {}
    }
   ],
   "source": [
    "DARK_inverse_fg_min_Jp = XYZ_to_JpMph(DARK_neutral_XYZs[2], DARK)[0]\n",
    "DARK_inverse_fg_max_Jp = XYZ_to_JpMph(DARK_neutral_XYZs[5]/4.8, DARK)[0]\n",
    "\n",
    "DARK_inverse_fg_vivid_Jps = np.array([  \n",
    "    (DARK_inverse_fg_max_Jp + DARK_inverse_fg_min_Jp)/2. +\n",
    "    (DARK_inverse_fg_max_Jp - DARK_inverse_fg_min_Jp)/2. *\n",
    "    warmness(hue_to_quadrature(h))\n",
    "    for h in DARK_fg_hues\n",
    "])\n",
    "\n",
    "DARK_inverse_fg_vivid_saturation_limit = DARK_find_satuaration_limit(DARK_inverse_fg_vivid_Jps, DARK_fg_hues)\n",
    "DARK_inverse_fg_vivid_Mps = np.array([ np.sqrt(Jp) * DARK_inverse_fg_vivid_saturation_limit for  Jp in DARK_inverse_fg_vivid_Jps ])\n",
    "DARK_inverse_fg_vivid_colors = np.array(list(zip(DARK_inverse_fg_vivid_Jps, DARK_inverse_fg_vivid_Mps, DARK_fg_hues)))\n",
    "\n",
    "display_JpMph(DARK_inverse_fg_vivid_colors, DARK)"
   ]
  },
  {
   "cell_type": "code",
   "execution_count": 83,
   "metadata": {},
   "outputs": [
    {
     "output_type": "display_data",
     "data": {
      "text/plain": "<Figure size 432x288 with 1 Axes>",
      "image/svg+xml": "<?xml version=\"1.0\" encoding=\"utf-8\" standalone=\"no\"?>\n<!DOCTYPE svg PUBLIC \"-//W3C//DTD SVG 1.1//EN\"\n  \"http://www.w3.org/Graphics/SVG/1.1/DTD/svg11.dtd\">\n<!-- Created with matplotlib (https://matplotlib.org/) -->\n<svg height=\"82.8pt\" version=\"1.1\" viewBox=\"0 0 424.8 82.8\" width=\"424.8pt\" xmlns=\"http://www.w3.org/2000/svg\" xmlns:xlink=\"http://www.w3.org/1999/xlink\">\n <metadata>\n  <rdf:RDF xmlns:cc=\"http://creativecommons.org/ns#\" xmlns:dc=\"http://purl.org/dc/elements/1.1/\" xmlns:rdf=\"http://www.w3.org/1999/02/22-rdf-syntax-ns#\">\n   <cc:Work>\n    <dc:type rdf:resource=\"http://purl.org/dc/dcmitype/StillImage\"/>\n    <dc:date>1980-01-01T00:00:00+00:00</dc:date>\n    <dc:format>image/svg+xml</dc:format>\n    <dc:creator>\n     <cc:Agent>\n      <dc:title>Matplotlib v3.3.1, https://matplotlib.org/</dc:title>\n     </cc:Agent>\n    </dc:creator>\n   </cc:Work>\n  </rdf:RDF>\n </metadata>\n <defs>\n  <style type=\"text/css\">*{stroke-linecap:butt;stroke-linejoin:round;}</style>\n </defs>\n <g id=\"figure_1\">\n  <g id=\"patch_1\">\n   <path d=\"M 0 82.8 \nL 424.8 82.8 \nL 424.8 0 \nL 0 0 \nz\n\" style=\"fill:none;opacity:0;\"/>\n  </g>\n  <g id=\"axes_1\">\n   <g id=\"patch_2\">\n    <path d=\"M 7.2 75.6 \nL 417.6 75.6 \nL 417.6 7.2 \nL 7.2 7.2 \nz\n\" style=\"fill:#ffffff;\"/>\n   </g>\n   <g id=\"patch_3\">\n    <path clip-path=\"url(#p8b1e03636c)\" d=\"M 7.2 75.6 \nL 75.6 75.6 \nL 75.6 7.2 \nL 7.2 7.2 \nz\n\" style=\"fill:#f9a892;stroke:#f9a892;stroke-linejoin:miter;\"/>\n   </g>\n   <g id=\"patch_4\">\n    <path clip-path=\"url(#p8b1e03636c)\" d=\"M 7.2 75.6 \nL 75.6 75.6 \nL 75.6 7.2 \nz\n\" style=\"fill:#f9a892;stroke:#f9a892;stroke-linejoin:miter;\"/>\n   </g>\n   <g id=\"patch_5\">\n    <path clip-path=\"url(#p8b1e03636c)\" d=\"M 75.6 75.6 \nL 144 75.6 \nL 144 7.2 \nL 75.6 7.2 \nz\n\" style=\"fill:#d9bd70;stroke:#d9bd70;stroke-linejoin:miter;\"/>\n   </g>\n   <g id=\"patch_6\">\n    <path clip-path=\"url(#p8b1e03636c)\" d=\"M 75.6 75.6 \nL 144 75.6 \nL 144 7.2 \nz\n\" style=\"fill:#d9bd70;stroke:#d9bd70;stroke-linejoin:miter;\"/>\n   </g>\n   <g id=\"patch_7\">\n    <path clip-path=\"url(#p8b1e03636c)\" d=\"M 144 75.6 \nL 212.4 75.6 \nL 212.4 7.2 \nL 144 7.2 \nz\n\" style=\"fill:#9dcf9b;stroke:#9dcf9b;stroke-linejoin:miter;\"/>\n   </g>\n   <g id=\"patch_8\">\n    <path clip-path=\"url(#p8b1e03636c)\" d=\"M 144 75.6 \nL 212.4 75.6 \nL 212.4 7.2 \nz\n\" style=\"fill:#9dcf9b;stroke:#9dcf9b;stroke-linejoin:miter;\"/>\n   </g>\n   <g id=\"patch_9\">\n    <path clip-path=\"url(#p8b1e03636c)\" d=\"M 212.4 75.6 \nL 280.8 75.6 \nL 280.8 7.2 \nL 212.4 7.2 \nz\n\" style=\"fill:#8cc6fc;stroke:#8cc6fc;stroke-linejoin:miter;\"/>\n   </g>\n   <g id=\"patch_10\">\n    <path clip-path=\"url(#p8b1e03636c)\" d=\"M 212.4 75.6 \nL 280.8 75.6 \nL 280.8 7.2 \nz\n\" style=\"fill:#8cc6fc;stroke:#8cc6fc;stroke-linejoin:miter;\"/>\n   </g>\n   <g id=\"patch_11\">\n    <path clip-path=\"url(#p8b1e03636c)\" d=\"M 280.8 75.6 \nL 349.2 75.6 \nL 349.2 7.2 \nL 280.8 7.2 \nz\n\" style=\"fill:#beb5ff;stroke:#beb5ff;stroke-linejoin:miter;\"/>\n   </g>\n   <g id=\"patch_12\">\n    <path clip-path=\"url(#p8b1e03636c)\" d=\"M 280.8 75.6 \nL 349.2 75.6 \nL 349.2 7.2 \nz\n\" style=\"fill:#beb5ff;stroke:#beb5ff;stroke-linejoin:miter;\"/>\n   </g>\n   <g id=\"patch_13\">\n    <path clip-path=\"url(#p8b1e03636c)\" d=\"M 349.2 75.6 \nL 417.6 75.6 \nL 417.6 7.2 \nL 349.2 7.2 \nz\n\" style=\"fill:#eaa7d8;stroke:#eaa7d8;stroke-linejoin:miter;\"/>\n   </g>\n   <g id=\"patch_14\">\n    <path clip-path=\"url(#p8b1e03636c)\" d=\"M 349.2 75.6 \nL 417.6 75.6 \nL 417.6 7.2 \nz\n\" style=\"fill:#eaa7d8;stroke:#eaa7d8;stroke-linejoin:miter;\"/>\n   </g>\n   <g id=\"matplotlib.axis_1\">\n    <g id=\"xtick_1\"/>\n    <g id=\"xtick_2\"/>\n    <g id=\"xtick_3\"/>\n    <g id=\"xtick_4\"/>\n    <g id=\"xtick_5\"/>\n    <g id=\"xtick_6\"/>\n    <g id=\"xtick_7\"/>\n   </g>\n   <g id=\"matplotlib.axis_2\">\n    <g id=\"ytick_1\"/>\n    <g id=\"ytick_2\"/>\n    <g id=\"ytick_3\"/>\n   </g>\n   <g id=\"patch_15\">\n    <path d=\"M 7.2 75.6 \nL 7.2 7.2 \n\" style=\"fill:none;stroke:#000000;stroke-linecap:square;stroke-linejoin:miter;stroke-width:0.8;\"/>\n   </g>\n   <g id=\"patch_16\">\n    <path d=\"M 417.6 75.6 \nL 417.6 7.2 \n\" style=\"fill:none;stroke:#000000;stroke-linecap:square;stroke-linejoin:miter;stroke-width:0.8;\"/>\n   </g>\n   <g id=\"patch_17\">\n    <path d=\"M 7.2 75.6 \nL 417.6 75.6 \n\" style=\"fill:none;stroke:#000000;stroke-linecap:square;stroke-linejoin:miter;stroke-width:0.8;\"/>\n   </g>\n   <g id=\"patch_18\">\n    <path d=\"M 7.2 7.2 \nL 417.6 7.2 \n\" style=\"fill:none;stroke:#000000;stroke-linecap:square;stroke-linejoin:miter;stroke-width:0.8;\"/>\n   </g>\n  </g>\n </g>\n <defs>\n  <clipPath id=\"p8b1e03636c\">\n   <rect height=\"68.4\" width=\"410.4\" x=\"7.2\" y=\"7.2\"/>\n  </clipPath>\n </defs>\n</svg>\n",
      "image/png": "[encoded data removed]"
     },
     "metadata": {}
    },
    {
     "output_type": "display_data",
     "data": {
      "text/plain": "<Figure size 432x288 with 1 Axes>",
      "image/svg+xml": "<?xml version=\"1.0\" encoding=\"utf-8\" standalone=\"no\"?>\n<!DOCTYPE svg PUBLIC \"-//W3C//DTD SVG 1.1//EN\"\n  \"http://www.w3.org/Graphics/SVG/1.1/DTD/svg11.dtd\">\n<!-- Created with matplotlib (https://matplotlib.org/) -->\n<svg height=\"82.8pt\" version=\"1.1\" viewBox=\"0 0 424.8 82.8\" width=\"424.8pt\" xmlns=\"http://www.w3.org/2000/svg\" xmlns:xlink=\"http://www.w3.org/1999/xlink\">\n <metadata>\n  <rdf:RDF xmlns:cc=\"http://creativecommons.org/ns#\" xmlns:dc=\"http://purl.org/dc/elements/1.1/\" xmlns:rdf=\"http://www.w3.org/1999/02/22-rdf-syntax-ns#\">\n   <cc:Work>\n    <dc:type rdf:resource=\"http://purl.org/dc/dcmitype/StillImage\"/>\n    <dc:date>1980-01-01T00:00:00+00:00</dc:date>\n    <dc:format>image/svg+xml</dc:format>\n    <dc:creator>\n     <cc:Agent>\n      <dc:title>Matplotlib v3.3.1, https://matplotlib.org/</dc:title>\n     </cc:Agent>\n    </dc:creator>\n   </cc:Work>\n  </rdf:RDF>\n </metadata>\n <defs>\n  <style type=\"text/css\">*{stroke-linecap:butt;stroke-linejoin:round;}</style>\n </defs>\n <g id=\"figure_1\">\n  <g id=\"patch_1\">\n   <path d=\"M 0 82.8 \nL 424.8 82.8 \nL 424.8 0 \nL 0 0 \nz\n\" style=\"fill:none;opacity:0;\"/>\n  </g>\n  <g id=\"axes_1\">\n   <g id=\"patch_2\">\n    <path d=\"M 7.2 75.6 \nL 417.6 75.6 \nL 417.6 7.2 \nL 7.2 7.2 \nz\n\" style=\"fill:#ffffff;\"/>\n   </g>\n   <g id=\"patch_3\">\n    <path clip-path=\"url(#p3a527b9332)\" d=\"M 7.2 75.6 \nL 75.6 75.6 \nL 75.6 7.2 \nL 7.2 7.2 \nz\n\" style=\"fill:#723a2b;stroke:#723a2b;stroke-linejoin:miter;\"/>\n   </g>\n   <g id=\"patch_4\">\n    <path clip-path=\"url(#p3a527b9332)\" d=\"M 7.2 75.6 \nL 75.6 75.6 \nL 75.6 7.2 \nz\n\" style=\"fill:#723a2b;stroke:#723a2b;stroke-linejoin:miter;\"/>\n   </g>\n   <g id=\"patch_5\">\n    <path clip-path=\"url(#p3a527b9332)\" d=\"M 75.6 75.6 \nL 144 75.6 \nL 144 7.2 \nL 75.6 7.2 \nz\n\" style=\"fill:#5c4a04;stroke:#5c4a04;stroke-linejoin:miter;\"/>\n   </g>\n   <g id=\"patch_6\">\n    <path clip-path=\"url(#p3a527b9332)\" d=\"M 75.6 75.6 \nL 144 75.6 \nL 144 7.2 \nz\n\" style=\"fill:#5c4a04;stroke:#5c4a04;stroke-linejoin:miter;\"/>\n   </g>\n   <g id=\"patch_7\">\n    <path clip-path=\"url(#p3a527b9332)\" d=\"M 144 75.6 \nL 212.4 75.6 \nL 212.4 7.2 \nL 144 7.2 \nz\n\" style=\"fill:#275831;stroke:#275831;stroke-linejoin:miter;\"/>\n   </g>\n   <g id=\"patch_8\">\n    <path clip-path=\"url(#p3a527b9332)\" d=\"M 144 75.6 \nL 212.4 75.6 \nL 212.4 7.2 \nz\n\" style=\"fill:#275831;stroke:#275831;stroke-linejoin:miter;\"/>\n   </g>\n   <g id=\"patch_9\">\n    <path clip-path=\"url(#p3a527b9332)\" d=\"M 212.4 75.6 \nL 280.8 75.6 \nL 280.8 7.2 \nL 212.4 7.2 \nz\n\" style=\"fill:#00527b;stroke:#00527b;stroke-linejoin:miter;\"/>\n   </g>\n   <g id=\"patch_10\">\n    <path clip-path=\"url(#p3a527b9332)\" d=\"M 212.4 75.6 \nL 280.8 75.6 \nL 280.8 7.2 \nz\n\" style=\"fill:#00527b;stroke:#00527b;stroke-linejoin:miter;\"/>\n   </g>\n   <g id=\"patch_11\">\n    <path clip-path=\"url(#p3a527b9332)\" d=\"M 280.8 75.6 \nL 349.2 75.6 \nL 349.2 7.2 \nL 280.8 7.2 \nz\n\" style=\"fill:#48447d;stroke:#48447d;stroke-linejoin:miter;\"/>\n   </g>\n   <g id=\"patch_12\">\n    <path clip-path=\"url(#p3a527b9332)\" d=\"M 280.8 75.6 \nL 349.2 75.6 \nL 349.2 7.2 \nz\n\" style=\"fill:#48447d;stroke:#48447d;stroke-linejoin:miter;\"/>\n   </g>\n   <g id=\"patch_13\">\n    <path clip-path=\"url(#p3a527b9332)\" d=\"M 349.2 75.6 \nL 417.6 75.6 \nL 417.6 7.2 \nL 349.2 7.2 \nz\n\" style=\"fill:#69395f;stroke:#69395f;stroke-linejoin:miter;\"/>\n   </g>\n   <g id=\"patch_14\">\n    <path clip-path=\"url(#p3a527b9332)\" d=\"M 349.2 75.6 \nL 417.6 75.6 \nL 417.6 7.2 \nz\n\" style=\"fill:#69395f;stroke:#69395f;stroke-linejoin:miter;\"/>\n   </g>\n   <g id=\"matplotlib.axis_1\">\n    <g id=\"xtick_1\"/>\n    <g id=\"xtick_2\"/>\n    <g id=\"xtick_3\"/>\n    <g id=\"xtick_4\"/>\n    <g id=\"xtick_5\"/>\n    <g id=\"xtick_6\"/>\n    <g id=\"xtick_7\"/>\n   </g>\n   <g id=\"matplotlib.axis_2\">\n    <g id=\"ytick_1\"/>\n    <g id=\"ytick_2\"/>\n    <g id=\"ytick_3\"/>\n   </g>\n   <g id=\"patch_15\">\n    <path d=\"M 7.2 75.6 \nL 7.2 7.2 \n\" style=\"fill:none;stroke:#000000;stroke-linecap:square;stroke-linejoin:miter;stroke-width:0.8;\"/>\n   </g>\n   <g id=\"patch_16\">\n    <path d=\"M 417.6 75.6 \nL 417.6 7.2 \n\" style=\"fill:none;stroke:#000000;stroke-linecap:square;stroke-linejoin:miter;stroke-width:0.8;\"/>\n   </g>\n   <g id=\"patch_17\">\n    <path d=\"M 7.2 75.6 \nL 417.6 75.6 \n\" style=\"fill:none;stroke:#000000;stroke-linecap:square;stroke-linejoin:miter;stroke-width:0.8;\"/>\n   </g>\n   <g id=\"patch_18\">\n    <path d=\"M 7.2 7.2 \nL 417.6 7.2 \n\" style=\"fill:none;stroke:#000000;stroke-linecap:square;stroke-linejoin:miter;stroke-width:0.8;\"/>\n   </g>\n  </g>\n </g>\n <defs>\n  <clipPath id=\"p3a527b9332\">\n   <rect height=\"68.4\" width=\"410.4\" x=\"7.2\" y=\"7.2\"/>\n  </clipPath>\n </defs>\n</svg>\n",
      "image/png": "[encoded data removed]"
     },
     "metadata": {}
    }
   ],
   "source": [
    "DARK_hc_Jp = XYZ_to_JpMph(DARK_neutral_XYZs[4], LIGHT)[0]\n",
    "DARK_hc_Mp = np.min([ find_colourfulness_limit(DARK_hc_Jp, h, DARK) for h in DARK_fg_hues ])\n",
    "DARK_hc_colors = np.array([ (DARK_hc_Jp, DARK_hc_Mp, h) for h in DARK_fg_hues  ])\n",
    "\n",
    "DARK_inverse_hc_Jp = XYZ_to_JpMph(DARK_neutral_XYZs[2], DARK)[0]\n",
    "DARK_inverse_hc_Mp = np.min([ find_colourfulness_limit(DARK_inverse_hc_Jp, h, DARK) for h in DARK_fg_hues ])\n",
    "DARK_inverse_hc_colors = np.array([ (DARK_inverse_hc_Jp, DARK_inverse_hc_Mp, h) for h in DARK_fg_hues ])\n",
    "\n",
    "display_JpMph(DARK_hc_colors, DARK)\n",
    "display_JpMph(DARK_inverse_hc_colors, DARK)"
   ]
  },
  {
   "cell_type": "code",
   "execution_count": 84,
   "metadata": {},
   "outputs": [
    {
     "output_type": "display_data",
     "data": {
      "text/plain": "<Figure size 432x288 with 1 Axes>",
      "image/svg+xml": "<?xml version=\"1.0\" encoding=\"utf-8\" standalone=\"no\"?>\n<!DOCTYPE svg PUBLIC \"-//W3C//DTD SVG 1.1//EN\"\n  \"http://www.w3.org/Graphics/SVG/1.1/DTD/svg11.dtd\">\n<!-- Created with matplotlib (https://matplotlib.org/) -->\n<svg height=\"82.8pt\" version=\"1.1\" viewBox=\"0 0 424.8 82.8\" width=\"424.8pt\" xmlns=\"http://www.w3.org/2000/svg\" xmlns:xlink=\"http://www.w3.org/1999/xlink\">\n <metadata>\n  <rdf:RDF xmlns:cc=\"http://creativecommons.org/ns#\" xmlns:dc=\"http://purl.org/dc/elements/1.1/\" xmlns:rdf=\"http://www.w3.org/1999/02/22-rdf-syntax-ns#\">\n   <cc:Work>\n    <dc:type rdf:resource=\"http://purl.org/dc/dcmitype/StillImage\"/>\n    <dc:date>1980-01-01T00:00:00+00:00</dc:date>\n    <dc:format>image/svg+xml</dc:format>\n    <dc:creator>\n     <cc:Agent>\n      <dc:title>Matplotlib v3.3.1, https://matplotlib.org/</dc:title>\n     </cc:Agent>\n    </dc:creator>\n   </cc:Work>\n  </rdf:RDF>\n </metadata>\n <defs>\n  <style type=\"text/css\">*{stroke-linecap:butt;stroke-linejoin:round;}</style>\n </defs>\n <g id=\"figure_1\">\n  <g id=\"patch_1\">\n   <path d=\"M 0 82.8 \nL 424.8 82.8 \nL 424.8 0 \nL 0 0 \nz\n\" style=\"fill:none;opacity:0;\"/>\n  </g>\n  <g id=\"axes_1\">\n   <g id=\"patch_2\">\n    <path d=\"M 7.2 75.6 \nL 417.6 75.6 \nL 417.6 7.2 \nL 7.2 7.2 \nz\n\" style=\"fill:#ffffff;\"/>\n   </g>\n   <g id=\"patch_3\">\n    <path clip-path=\"url(#p8d2dae70b1)\" d=\"M 7.2 75.6 \nL 75.6 75.6 \nL 75.6 7.2 \nL 7.2 7.2 \nz\n\" style=\"fill:#846560;stroke:#846560;stroke-linejoin:miter;\"/>\n   </g>\n   <g id=\"patch_4\">\n    <path clip-path=\"url(#p8d2dae70b1)\" d=\"M 7.2 75.6 \nL 75.6 75.6 \nL 75.6 7.2 \nz\n\" style=\"fill:#846560;stroke:#846560;stroke-linejoin:miter;\"/>\n   </g>\n   <g id=\"patch_5\">\n    <path clip-path=\"url(#p8d2dae70b1)\" d=\"M 75.6 75.6 \nL 144 75.6 \nL 144 7.2 \nL 75.6 7.2 \nz\n\" style=\"fill:#a79a79;stroke:#a79a79;stroke-linejoin:miter;\"/>\n   </g>\n   <g id=\"patch_6\">\n    <path clip-path=\"url(#p8d2dae70b1)\" d=\"M 75.6 75.6 \nL 144 75.6 \nL 144 7.2 \nz\n\" style=\"fill:#a79a79;stroke:#a79a79;stroke-linejoin:miter;\"/>\n   </g>\n   <g id=\"patch_7\">\n    <path clip-path=\"url(#p8d2dae70b1)\" d=\"M 144 75.6 \nL 212.4 75.6 \nL 212.4 7.2 \nL 144 7.2 \nz\n\" style=\"fill:#809984;stroke:#809984;stroke-linejoin:miter;\"/>\n   </g>\n   <g id=\"patch_8\">\n    <path clip-path=\"url(#p8d2dae70b1)\" d=\"M 144 75.6 \nL 212.4 75.6 \nL 212.4 7.2 \nz\n\" style=\"fill:#809984;stroke:#809984;stroke-linejoin:miter;\"/>\n   </g>\n   <g id=\"patch_9\">\n    <path clip-path=\"url(#p8d2dae70b1)\" d=\"M 212.4 75.6 \nL 280.8 75.6 \nL 280.8 7.2 \nL 212.4 7.2 \nz\n\" style=\"fill:#7e98b4;stroke:#7e98b4;stroke-linejoin:miter;\"/>\n   </g>\n   <g id=\"patch_10\">\n    <path clip-path=\"url(#p8d2dae70b1)\" d=\"M 212.4 75.6 \nL 280.8 75.6 \nL 280.8 7.2 \nz\n\" style=\"fill:#7e98b4;stroke:#7e98b4;stroke-linejoin:miter;\"/>\n   </g>\n   <g id=\"patch_11\">\n    <path clip-path=\"url(#p8d2dae70b1)\" d=\"M 280.8 75.6 \nL 349.2 75.6 \nL 349.2 7.2 \nL 280.8 7.2 \nz\n\" style=\"fill:#555673;stroke:#555673;stroke-linejoin:miter;\"/>\n   </g>\n   <g id=\"patch_12\">\n    <path clip-path=\"url(#p8d2dae70b1)\" d=\"M 280.8 75.6 \nL 349.2 75.6 \nL 349.2 7.2 \nz\n\" style=\"fill:#555673;stroke:#555673;stroke-linejoin:miter;\"/>\n   </g>\n   <g id=\"patch_13\">\n    <path clip-path=\"url(#p8d2dae70b1)\" d=\"M 349.2 75.6 \nL 417.6 75.6 \nL 417.6 7.2 \nL 349.2 7.2 \nz\n\" style=\"fill:#866c83;stroke:#866c83;stroke-linejoin:miter;\"/>\n   </g>\n   <g id=\"patch_14\">\n    <path clip-path=\"url(#p8d2dae70b1)\" d=\"M 349.2 75.6 \nL 417.6 75.6 \nL 417.6 7.2 \nz\n\" style=\"fill:#866c83;stroke:#866c83;stroke-linejoin:miter;\"/>\n   </g>\n   <g id=\"matplotlib.axis_1\">\n    <g id=\"xtick_1\"/>\n    <g id=\"xtick_2\"/>\n    <g id=\"xtick_3\"/>\n    <g id=\"xtick_4\"/>\n    <g id=\"xtick_5\"/>\n    <g id=\"xtick_6\"/>\n    <g id=\"xtick_7\"/>\n   </g>\n   <g id=\"matplotlib.axis_2\">\n    <g id=\"ytick_1\"/>\n    <g id=\"ytick_2\"/>\n    <g id=\"ytick_3\"/>\n   </g>\n   <g id=\"patch_15\">\n    <path d=\"M 7.2 75.6 \nL 7.2 7.2 \n\" style=\"fill:none;stroke:#000000;stroke-linecap:square;stroke-linejoin:miter;stroke-width:0.8;\"/>\n   </g>\n   <g id=\"patch_16\">\n    <path d=\"M 417.6 75.6 \nL 417.6 7.2 \n\" style=\"fill:none;stroke:#000000;stroke-linecap:square;stroke-linejoin:miter;stroke-width:0.8;\"/>\n   </g>\n   <g id=\"patch_17\">\n    <path d=\"M 7.2 75.6 \nL 417.6 75.6 \n\" style=\"fill:none;stroke:#000000;stroke-linecap:square;stroke-linejoin:miter;stroke-width:0.8;\"/>\n   </g>\n   <g id=\"patch_18\">\n    <path d=\"M 7.2 7.2 \nL 417.6 7.2 \n\" style=\"fill:none;stroke:#000000;stroke-linecap:square;stroke-linejoin:miter;stroke-width:0.8;\"/>\n   </g>\n  </g>\n </g>\n <defs>\n  <clipPath id=\"p8d2dae70b1\">\n   <rect height=\"68.4\" width=\"410.4\" x=\"7.2\" y=\"7.2\"/>\n  </clipPath>\n </defs>\n</svg>\n",
      "image/png": "[encoded data removed]"
     },
     "metadata": {}
    },
    {
     "output_type": "display_data",
     "data": {
      "text/plain": "<Figure size 432x288 with 1 Axes>",
      "image/svg+xml": "<?xml version=\"1.0\" encoding=\"utf-8\" standalone=\"no\"?>\n<!DOCTYPE svg PUBLIC \"-//W3C//DTD SVG 1.1//EN\"\n  \"http://www.w3.org/Graphics/SVG/1.1/DTD/svg11.dtd\">\n<!-- Created with matplotlib (https://matplotlib.org/) -->\n<svg height=\"82.8pt\" version=\"1.1\" viewBox=\"0 0 424.8 82.8\" width=\"424.8pt\" xmlns=\"http://www.w3.org/2000/svg\" xmlns:xlink=\"http://www.w3.org/1999/xlink\">\n <metadata>\n  <rdf:RDF xmlns:cc=\"http://creativecommons.org/ns#\" xmlns:dc=\"http://purl.org/dc/elements/1.1/\" xmlns:rdf=\"http://www.w3.org/1999/02/22-rdf-syntax-ns#\">\n   <cc:Work>\n    <dc:type rdf:resource=\"http://purl.org/dc/dcmitype/StillImage\"/>\n    <dc:date>1980-01-01T00:00:00+00:00</dc:date>\n    <dc:format>image/svg+xml</dc:format>\n    <dc:creator>\n     <cc:Agent>\n      <dc:title>Matplotlib v3.3.1, https://matplotlib.org/</dc:title>\n     </cc:Agent>\n    </dc:creator>\n   </cc:Work>\n  </rdf:RDF>\n </metadata>\n <defs>\n  <style type=\"text/css\">*{stroke-linecap:butt;stroke-linejoin:round;}</style>\n </defs>\n <g id=\"figure_1\">\n  <g id=\"patch_1\">\n   <path d=\"M 0 82.8 \nL 424.8 82.8 \nL 424.8 0 \nL 0 0 \nz\n\" style=\"fill:none;opacity:0;\"/>\n  </g>\n  <g id=\"axes_1\">\n   <g id=\"patch_2\">\n    <path d=\"M 7.2 75.6 \nL 417.6 75.6 \nL 417.6 7.2 \nL 7.2 7.2 \nz\n\" style=\"fill:#ffffff;\"/>\n   </g>\n   <g id=\"patch_3\">\n    <path clip-path=\"url(#pa99c21c7b9)\" d=\"M 7.2 75.6 \nL 75.6 75.6 \nL 75.6 7.2 \nL 7.2 7.2 \nz\n\" style=\"fill:#bb928b;stroke:#bb928b;stroke-linejoin:miter;\"/>\n   </g>\n   <g id=\"patch_4\">\n    <path clip-path=\"url(#pa99c21c7b9)\" d=\"M 7.2 75.6 \nL 75.6 75.6 \nL 75.6 7.2 \nz\n\" style=\"fill:#bb928b;stroke:#bb928b;stroke-linejoin:miter;\"/>\n   </g>\n   <g id=\"patch_5\">\n    <path clip-path=\"url(#pa99c21c7b9)\" d=\"M 75.6 75.6 \nL 144 75.6 \nL 144 7.2 \nL 75.6 7.2 \nz\n\" style=\"fill:#f1dfb6;stroke:#f1dfb6;stroke-linejoin:miter;\"/>\n   </g>\n   <g id=\"patch_6\">\n    <path clip-path=\"url(#pa99c21c7b9)\" d=\"M 75.6 75.6 \nL 144 75.6 \nL 144 7.2 \nz\n\" style=\"fill:#f1dfb6;stroke:#f1dfb6;stroke-linejoin:miter;\"/>\n   </g>\n   <g id=\"patch_7\">\n    <path clip-path=\"url(#pa99c21c7b9)\" d=\"M 144 75.6 \nL 212.4 75.6 \nL 212.4 7.2 \nL 144 7.2 \nz\n\" style=\"fill:#bfdcc2;stroke:#bfdcc2;stroke-linejoin:miter;\"/>\n   </g>\n   <g id=\"patch_8\">\n    <path clip-path=\"url(#pa99c21c7b9)\" d=\"M 144 75.6 \nL 212.4 75.6 \nL 212.4 7.2 \nz\n\" style=\"fill:#bfdcc2;stroke:#bfdcc2;stroke-linejoin:miter;\"/>\n   </g>\n   <g id=\"patch_9\">\n    <path clip-path=\"url(#pa99c21c7b9)\" d=\"M 212.4 75.6 \nL 280.8 75.6 \nL 280.8 7.2 \nL 212.4 7.2 \nz\n\" style=\"fill:#bddcff;stroke:#bddcff;stroke-linejoin:miter;\"/>\n   </g>\n   <g id=\"patch_10\">\n    <path clip-path=\"url(#pa99c21c7b9)\" d=\"M 212.4 75.6 \nL 280.8 75.6 \nL 280.8 7.2 \nz\n\" style=\"fill:#bddcff;stroke:#bddcff;stroke-linejoin:miter;\"/>\n   </g>\n   <g id=\"patch_11\">\n    <path clip-path=\"url(#pa99c21c7b9)\" d=\"M 280.8 75.6 \nL 349.2 75.6 \nL 349.2 7.2 \nL 280.8 7.2 \nz\n\" style=\"fill:#777798;stroke:#777798;stroke-linejoin:miter;\"/>\n   </g>\n   <g id=\"patch_12\">\n    <path clip-path=\"url(#pa99c21c7b9)\" d=\"M 280.8 75.6 \nL 349.2 75.6 \nL 349.2 7.2 \nz\n\" style=\"fill:#777798;stroke:#777798;stroke-linejoin:miter;\"/>\n   </g>\n   <g id=\"patch_13\">\n    <path clip-path=\"url(#pa99c21c7b9)\" d=\"M 349.2 75.6 \nL 417.6 75.6 \nL 417.6 7.2 \nL 349.2 7.2 \nz\n\" style=\"fill:#bf9db9;stroke:#bf9db9;stroke-linejoin:miter;\"/>\n   </g>\n   <g id=\"patch_14\">\n    <path clip-path=\"url(#pa99c21c7b9)\" d=\"M 349.2 75.6 \nL 417.6 75.6 \nL 417.6 7.2 \nz\n\" style=\"fill:#bf9db9;stroke:#bf9db9;stroke-linejoin:miter;\"/>\n   </g>\n   <g id=\"matplotlib.axis_1\">\n    <g id=\"xtick_1\"/>\n    <g id=\"xtick_2\"/>\n    <g id=\"xtick_3\"/>\n    <g id=\"xtick_4\"/>\n    <g id=\"xtick_5\"/>\n    <g id=\"xtick_6\"/>\n    <g id=\"xtick_7\"/>\n   </g>\n   <g id=\"matplotlib.axis_2\">\n    <g id=\"ytick_1\"/>\n    <g id=\"ytick_2\"/>\n    <g id=\"ytick_3\"/>\n   </g>\n   <g id=\"patch_15\">\n    <path d=\"M 7.2 75.6 \nL 7.2 7.2 \n\" style=\"fill:none;stroke:#000000;stroke-linecap:square;stroke-linejoin:miter;stroke-width:0.8;\"/>\n   </g>\n   <g id=\"patch_16\">\n    <path d=\"M 417.6 75.6 \nL 417.6 7.2 \n\" style=\"fill:none;stroke:#000000;stroke-linecap:square;stroke-linejoin:miter;stroke-width:0.8;\"/>\n   </g>\n   <g id=\"patch_17\">\n    <path d=\"M 7.2 75.6 \nL 417.6 75.6 \n\" style=\"fill:none;stroke:#000000;stroke-linecap:square;stroke-linejoin:miter;stroke-width:0.8;\"/>\n   </g>\n   <g id=\"patch_18\">\n    <path d=\"M 7.2 7.2 \nL 417.6 7.2 \n\" style=\"fill:none;stroke:#000000;stroke-linecap:square;stroke-linejoin:miter;stroke-width:0.8;\"/>\n   </g>\n  </g>\n </g>\n <defs>\n  <clipPath id=\"pa99c21c7b9\">\n   <rect height=\"68.4\" width=\"410.4\" x=\"7.2\" y=\"7.2\"/>\n  </clipPath>\n </defs>\n</svg>\n",
      "image/png": "[encoded data removed]"
     },
     "metadata": {}
    },
    {
     "output_type": "execute_result",
     "data": {
      "text/plain": [
       "(array(['#84655f', '#a69978', '#809884', '#7d97b3', '#555672', '#856c82'], dtype=object),\n",
       " array(['#ba928b', '#f0dfb5', '#bedbc2', '#bddbfe', '#777697', '#be9db9'], dtype=object))"
      ]
     },
     "metadata": {},
     "execution_count": 84
    }
   ],
   "source": [
    "DARK_classic_terminal_contrast_range = \\\n",
    "    HEX_to_XYZ('#ffffff', DARK)[1] / HEX_to_XYZ('#000000', DARK)[1]\n",
    "\n",
    "DARK_classic_terminal_high_logYs = np.log(HEX_to_XYZ(['#ff0000', '#ffff00', '#00ff00', '#00ffff', '#0000ff', '#ff00ff'], DARK)[...,1])\n",
    "DARK_classic_terminal_low_logYs = np.log(HEX_to_XYZ(['#800000', '#808000', '#008000', '#008080', '#000080', '#800080'], DARK)[...,1])\n",
    "\n",
    "DARK_classic_terminal_logWhite = np.log(HEX_to_XYZ('#ffffff', DARK)[1])\n",
    "DARK_classic_terminal_logBlack = np.log(HEX_to_XYZ('#000000', DARK)[1])\n",
    "\n",
    "DARK_terminal_logWhite = np.log(DARK_Ys[5])\n",
    "DARK_terminal_logBlack = np.log(DARK_Ys[1])\n",
    "\n",
    "DARK_terminal_high_Ys = np.exp(\n",
    "    (DARK_classic_terminal_high_logYs - DARK_classic_terminal_logBlack) / \\\n",
    "    (DARK_classic_terminal_logWhite - DARK_classic_terminal_logBlack) * \\\n",
    "    (DARK_terminal_logWhite - DARK_terminal_logBlack) + DARK_terminal_logBlack\n",
    ")\n",
    "\n",
    "DARK_terminal_low_Ys = np.exp(\n",
    "    (DARK_classic_terminal_low_logYs - DARK_classic_terminal_logBlack) / \\\n",
    "    (DARK_classic_terminal_logWhite - DARK_classic_terminal_logBlack) * \\\n",
    "    (DARK_terminal_logWhite - DARK_terminal_logBlack) + DARK_terminal_logBlack\n",
    ")\n",
    "\n",
    "DARK_terminal_high_Jps = XYZ_to_JpMph(colour.xyY_to_XYZ([\n",
    "        (DARK.simulated_whitepoint[0], DARK.simulated_whitepoint[1], Y)\n",
    "        for Y in DARK_terminal_high_Ys\n",
    "    ]),\n",
    "    DARK\n",
    ")[...,0]\n",
    "\n",
    "DARK_terminal_low_Jps = XYZ_to_JpMph(colour.xyY_to_XYZ([\n",
    "        (DARK.simulated_whitepoint[0], DARK.simulated_whitepoint[1], Y)\n",
    "        for Y in DARK_terminal_low_Ys\n",
    "    ]),\n",
    "    DARK\n",
    ")[...,0]\n",
    "\n",
    "\n",
    "DARK_terminal_saturation_limit = DARK_find_satuaration_limit(\n",
    "    np.concatenate([DARK_terminal_low_Jps, DARK_terminal_high_Jps]),\n",
    "    np.concatenate([DARK_fg_hues, DARK_fg_hues])\n",
    ")\n",
    "\n",
    "DARK_terminal_high_Mps = [ \n",
    "    np.sqrt(Jp) * DARK_terminal_saturation_limit\n",
    "    for  Jp in DARK_terminal_high_Jps\n",
    "]\n",
    "\n",
    "DARK_terminal_low_Mps = [ \n",
    "    np.sqrt(Jp) * DARK_terminal_saturation_limit\n",
    "    for  Jp in DARK_terminal_low_Jps\n",
    "]\n",
    "\n",
    "DARK_terminal_high_colors = list(zip(\n",
    "    DARK_terminal_high_Jps,\n",
    "    DARK_terminal_high_Mps,\n",
    "    DARK_fg_hues\n",
    "))\n",
    "\n",
    "DARK_terminal_low_colors = list(zip(\n",
    "    DARK_terminal_low_Jps,\n",
    "    DARK_terminal_low_Mps,\n",
    "    DARK_fg_hues\n",
    "))\n",
    "\n",
    "display_JpMph(DARK_terminal_low_colors, DARK)\n",
    "display_JpMph(DARK_terminal_high_colors, DARK)\n",
    "\n",
    "(JpMph_to_HEX(DARK_terminal_low_colors, DARK), JpMph_to_HEX(DARK_terminal_high_colors, DARK))"
   ]
  },
  {
   "cell_type": "code",
   "execution_count": 85,
   "metadata": {},
   "outputs": [
    {
     "output_type": "display_data",
     "data": {
      "text/plain": "<Figure size 432x288 with 1 Axes>",
      "image/svg+xml": "<?xml version=\"1.0\" encoding=\"utf-8\" standalone=\"no\"?>\n<!DOCTYPE svg PUBLIC \"-//W3C//DTD SVG 1.1//EN\"\n  \"http://www.w3.org/Graphics/SVG/1.1/DTD/svg11.dtd\">\n<!-- Created with matplotlib (https://matplotlib.org/) -->\n<svg height=\"82.8pt\" version=\"1.1\" viewBox=\"0 0 424.8 82.8\" width=\"424.8pt\" xmlns=\"http://www.w3.org/2000/svg\" xmlns:xlink=\"http://www.w3.org/1999/xlink\">\n <metadata>\n  <rdf:RDF xmlns:cc=\"http://creativecommons.org/ns#\" xmlns:dc=\"http://purl.org/dc/elements/1.1/\" xmlns:rdf=\"http://www.w3.org/1999/02/22-rdf-syntax-ns#\">\n   <cc:Work>\n    <dc:type rdf:resource=\"http://purl.org/dc/dcmitype/StillImage\"/>\n    <dc:date>1980-01-01T00:00:00+00:00</dc:date>\n    <dc:format>image/svg+xml</dc:format>\n    <dc:creator>\n     <cc:Agent>\n      <dc:title>Matplotlib v3.3.1, https://matplotlib.org/</dc:title>\n     </cc:Agent>\n    </dc:creator>\n   </cc:Work>\n  </rdf:RDF>\n </metadata>\n <defs>\n  <style type=\"text/css\">*{stroke-linecap:butt;stroke-linejoin:round;}</style>\n </defs>\n <g id=\"figure_1\">\n  <g id=\"patch_1\">\n   <path d=\"M 0 82.8 \nL 424.8 82.8 \nL 424.8 0 \nL 0 0 \nz\n\" style=\"fill:none;opacity:0;\"/>\n  </g>\n  <g id=\"axes_1\">\n   <g id=\"patch_2\">\n    <path d=\"M 7.2 75.6 \nL 417.6 75.6 \nL 417.6 7.2 \nL 7.2 7.2 \nz\n\" style=\"fill:#ffffff;\"/>\n   </g>\n   <g id=\"patch_3\">\n    <path clip-path=\"url(#p357cf82358)\" d=\"M 7.2 75.6 \nL 75.6 75.6 \nL 75.6 7.2 \nL 7.2 7.2 \nz\n\" style=\"fill:#b3686d;stroke:#b3686d;stroke-linejoin:miter;\"/>\n   </g>\n   <g id=\"patch_4\">\n    <path clip-path=\"url(#p357cf82358)\" d=\"M 7.2 75.6 \nL 75.6 75.6 \nL 75.6 7.2 \nz\n\" style=\"fill:#b3686d;stroke:#b3686d;stroke-linejoin:miter;\"/>\n   </g>\n   <g id=\"patch_5\">\n    <path clip-path=\"url(#p357cf82358)\" d=\"M 75.6 75.6 \nL 144 75.6 \nL 144 7.2 \nL 75.6 7.2 \nz\n\" style=\"fill:#977e33;stroke:#977e33;stroke-linejoin:miter;\"/>\n   </g>\n   <g id=\"patch_6\">\n    <path clip-path=\"url(#p357cf82358)\" d=\"M 75.6 75.6 \nL 144 75.6 \nL 144 7.2 \nz\n\" style=\"fill:#977e33;stroke:#977e33;stroke-linejoin:miter;\"/>\n   </g>\n   <g id=\"patch_7\">\n    <path clip-path=\"url(#p357cf82358)\" d=\"M 144 75.6 \nL 212.4 75.6 \nL 212.4 7.2 \nL 144 7.2 \nz\n\" style=\"fill:#419278;stroke:#419278;stroke-linejoin:miter;\"/>\n   </g>\n   <g id=\"patch_8\">\n    <path clip-path=\"url(#p357cf82358)\" d=\"M 144 75.6 \nL 212.4 75.6 \nL 212.4 7.2 \nz\n\" style=\"fill:#419278;stroke:#419278;stroke-linejoin:miter;\"/>\n   </g>\n   <g id=\"patch_9\">\n    <path clip-path=\"url(#p357cf82358)\" d=\"M 212.4 75.6 \nL 280.8 75.6 \nL 280.8 7.2 \nL 212.4 7.2 \nz\n\" style=\"fill:#4189b6;stroke:#4189b6;stroke-linejoin:miter;\"/>\n   </g>\n   <g id=\"patch_10\">\n    <path clip-path=\"url(#p357cf82358)\" d=\"M 212.4 75.6 \nL 280.8 75.6 \nL 280.8 7.2 \nz\n\" style=\"fill:#4189b6;stroke:#4189b6;stroke-linejoin:miter;\"/>\n   </g>\n   <g id=\"patch_11\">\n    <path clip-path=\"url(#p357cf82358)\" d=\"M 280.8 75.6 \nL 349.2 75.6 \nL 349.2 7.2 \nL 280.8 7.2 \nz\n\" style=\"fill:#005376;stroke:#005376;stroke-linejoin:miter;\"/>\n   </g>\n   <g id=\"patch_12\">\n    <path clip-path=\"url(#p357cf82358)\" d=\"M 280.8 75.6 \nL 349.2 75.6 \nL 349.2 7.2 \nz\n\" style=\"fill:#005376;stroke:#005376;stroke-linejoin:miter;\"/>\n   </g>\n   <g id=\"patch_13\">\n    <path clip-path=\"url(#p357cf82358)\" d=\"M 349.2 75.6 \nL 417.6 75.6 \nL 417.6 7.2 \nL 349.2 7.2 \nz\n\" style=\"fill:#edcb67;stroke:#edcb67;stroke-linejoin:miter;\"/>\n   </g>\n   <g id=\"patch_14\">\n    <path clip-path=\"url(#p357cf82358)\" d=\"M 349.2 75.6 \nL 417.6 75.6 \nL 417.6 7.2 \nz\n\" style=\"fill:#edcb67;stroke:#edcb67;stroke-linejoin:miter;\"/>\n   </g>\n   <g id=\"matplotlib.axis_1\">\n    <g id=\"xtick_1\"/>\n    <g id=\"xtick_2\"/>\n    <g id=\"xtick_3\"/>\n    <g id=\"xtick_4\"/>\n    <g id=\"xtick_5\"/>\n    <g id=\"xtick_6\"/>\n    <g id=\"xtick_7\"/>\n   </g>\n   <g id=\"matplotlib.axis_2\">\n    <g id=\"ytick_1\"/>\n    <g id=\"ytick_2\"/>\n    <g id=\"ytick_3\"/>\n   </g>\n   <g id=\"patch_15\">\n    <path d=\"M 7.2 75.6 \nL 7.2 7.2 \n\" style=\"fill:none;stroke:#000000;stroke-linecap:square;stroke-linejoin:miter;stroke-width:0.8;\"/>\n   </g>\n   <g id=\"patch_16\">\n    <path d=\"M 417.6 75.6 \nL 417.6 7.2 \n\" style=\"fill:none;stroke:#000000;stroke-linecap:square;stroke-linejoin:miter;stroke-width:0.8;\"/>\n   </g>\n   <g id=\"patch_17\">\n    <path d=\"M 7.2 75.6 \nL 417.6 75.6 \n\" style=\"fill:none;stroke:#000000;stroke-linecap:square;stroke-linejoin:miter;stroke-width:0.8;\"/>\n   </g>\n   <g id=\"patch_18\">\n    <path d=\"M 7.2 7.2 \nL 417.6 7.2 \n\" style=\"fill:none;stroke:#000000;stroke-linecap:square;stroke-linejoin:miter;stroke-width:0.8;\"/>\n   </g>\n  </g>\n </g>\n <defs>\n  <clipPath id=\"p357cf82358\">\n   <rect height=\"68.4\" width=\"410.4\" x=\"7.2\" y=\"7.2\"/>\n  </clipPath>\n </defs>\n</svg>\n",
      "image/png": "[encoded data removed]"
     },
     "metadata": {}
    }
   ],
   "source": [
    "\n",
    "DARK_bg_hues = np.array([quadrature_to_hue(H) for H in [0,1,2,3,3,1] ])\n",
    "DARK_bg_Jps = np.array([ DARK_Jps[i] for i in [3,3,3,3,2,4] ])\n",
    "DARK_bg_saturation_limit = DARK_find_satuaration_limit(DARK_bg_Jps, DARK_bg_hues)\n",
    "DARK_bg_Mps = np.array([ np.sqrt(Jp) * DARK_bg_saturation_limit for Jp in DARK_bg_Jps])\n",
    "DARK_bg_colors = np.array(list(zip(DARK_bg_Jps, DARK_bg_Mps, DARK_bg_hues)))\n",
    "\n",
    "display_JpMph(DARK_bg_colors, DARK)"
   ]
  },
  {
   "source": [
    "## Eclipse theme"
   ],
   "cell_type": "markdown",
   "metadata": {}
  },
  {
   "cell_type": "code",
   "execution_count": 86,
   "metadata": {},
   "outputs": [],
   "source": [
    " ECLIPSE = ViewingEnvironment(\n",
    "    rgb_colourspace=LIGHT.rgb_colourspace,\n",
    "    ambient_whitepoint=LIGHT.ambient_whitepoint,\n",
    "    ambient_illuminance=LIGHT.ambient_illuminance,\n",
    "    ambient_lightness=LIGHT.ambient_lightness,\n",
    "    simulated_whitepoint=DARK.simulated_whitepoint,\n",
    "    simulated_ambient_illuminance=DARK.simulated_ambient_illuminance,\n",
    "    simulated_ambient_lightness=DARK.simulated_ambient_lightness,\n",
    "    white_screen_luminance=LIGHT.white_screen_luminance,\n",
    "    background_lightness=DARK.background_lightness,\n",
    "    glare=LIGHT.glare,\n",
    "    leakage=LIGHT.leakage\n",
    ")\n",
    "\n",
    "ECLIPSE_neutral_colors = decolor(DARK_neutral_colors, ECLIPSE)\n",
    "ECLIPSE_fg_soft_colors = decolor(DARK_fg_soft_colors, ECLIPSE)\n",
    "ECLIPSE_fg_vivid_colors = decolor(DARK_fg_vivid_colors, ECLIPSE)\n",
    "ECLIPSE_inverse_fg_vivid_colors = decolor(DARK_inverse_fg_vivid_colors, ECLIPSE)\n",
    "ECLIPSE_hc_colors = decolor(DARK_hc_colors, ECLIPSE)\n",
    "ECLIPSE_inverse_hc_colors = decolor(DARK_inverse_hc_colors, ECLIPSE)\n",
    "ECLIPSE_terminal_low_colors = decolor(DARK_terminal_low_colors, ECLIPSE)\n",
    "ECLIPSE_terminal_high_colors = decolor(DARK_terminal_high_colors, ECLIPSE)\n",
    "ECLIPSE_bg_colors = decolor(DARK_bg_colors, ECLIPSE)"
   ]
  },
  {
   "source": [
    "## Output"
   ],
   "cell_type": "markdown",
   "metadata": {}
  },
  {
   "cell_type": "code",
   "execution_count": 87,
   "metadata": {},
   "outputs": [],
   "source": [
    "def fg_colors_to_dict(theme, prefix, colors):\n",
    "    return dict(zip(\n",
    "        [prefix + \"Red\", prefix + \"Yellow\", prefix + \"Green\", prefix + \"Blue\",  prefix + \"Violet\", prefix + \"Magenta\"],\n",
    "        JpMph_to_RGB(colors, theme)))\n",
    "\n",
    "def bg_colors_to_dict(theme, colors):\n",
    "    return dict(zip(\n",
    "        [\"bgRed\", \"bgYellow\", \"bgGreen\", \"bgBlue\", \"bgDarkBlue\", \"bgLightYellow\"],\n",
    "        JpMph_to_RGB(colors, theme)))\n",
    "\n",
    "def neutral_to_dict(theme, colors):\n",
    "    d = dict(zip(\n",
    "        [\"deepBlack\", \"black\", \"darkGray\", \"mediumGray\", \"lightGray\", \"white\", \"brightWhite\"],\n",
    "        JpMph_to_RGB(colors, theme)))\n",
    "    d[\"darkGrey\"] = d[\"darkGray\"]\n",
    "    d[\"mediumGrey\"] = d[\"mediumGray\"]\n",
    "    d[\"lightGrey\"] = d[\"lightGray\"]\n",
    "    return d\n",
    "    "
   ]
  },
  {
   "cell_type": "code",
   "execution_count": 88,
   "metadata": {},
   "outputs": [],
   "source": [
    "LIGHT_theme = dict()\n",
    "LIGHT_theme.update(fg_colors_to_dict(LIGHT, \"soft\", LIGHT_fg_soft_colors))\n",
    "LIGHT_theme.update(fg_colors_to_dict(LIGHT, \"vivid\", LIGHT_fg_vivid_colors))\n",
    "LIGHT_theme.update(fg_colors_to_dict(LIGHT, \"invVivid\", LIGHT_inverse_fg_vivid_colors))\n",
    "LIGHT_theme.update(fg_colors_to_dict(LIGHT, \"hc\", LIGHT_hc_colors))\n",
    "LIGHT_theme.update(fg_colors_to_dict(LIGHT, \"invHc\", LIGHT_inverse_hc_colors))\n",
    "LIGHT_theme.update(fg_colors_to_dict(LIGHT, \"termLow\", LIGHT_terminal_low_colors))\n",
    "LIGHT_theme.update(fg_colors_to_dict(LIGHT, \"termHigh\", LIGHT_terminal_high_colors))\n",
    "LIGHT_theme.update(neutral_to_dict(LIGHT, LIGHT_neutral_colors))\n",
    "LIGHT_theme.update(bg_colors_to_dict(LIGHT, LIGHT_bg_colors))\n",
    "LIGHT_theme['emphBg'] = LIGHT_theme['brightWhite']\n",
    "LIGHT_theme['bg'] = LIGHT_theme['white']\n",
    "LIGHT_theme['deEmphBg'] = LIGHT_theme['lightGray']\n",
    "LIGHT_theme['deEmphFg'] = LIGHT_theme['mediumGray']\n",
    "LIGHT_theme['fg'] = LIGHT_theme['darkGray']\n",
    "LIGHT_theme['emphFg'] = LIGHT_theme['black']\n",
    "LIGHT_theme['invEmphBg'] = LIGHT_theme['deepBlack']\n",
    "LIGHT_theme['invBg'] = LIGHT_theme['black']\n",
    "LIGHT_theme['invDeEmphBg'] = LIGHT_theme['darkGray']\n",
    "LIGHT_theme['invDeEmphFg'] = LIGHT_theme['mediumGray']\n",
    "LIGHT_theme['invFg'] = LIGHT_theme['lightGray']\n",
    "LIGHT_theme['invEmphFg'] = LIGHT_theme['white']\n",
    "LIGHT_theme['bgHighlight'] = LIGHT_theme['bgLightYellow']\n",
    "LIGHT_theme['bgLowlight'] = LIGHT_theme['bgDarkBlue']\n",
    "LIGHT_theme['_name'] = \"Lunaria Light\"\n",
    "LIGHT_theme['_type'] = \"light\""
   ]
  },
  {
   "cell_type": "code",
   "execution_count": 89,
   "metadata": {},
   "outputs": [],
   "source": [
    "DARK_theme = dict()\n",
    "DARK_theme.update(fg_colors_to_dict(DARK, \"soft\", DARK_fg_soft_colors))\n",
    "DARK_theme.update(fg_colors_to_dict(DARK, \"vivid\", DARK_fg_vivid_colors))\n",
    "DARK_theme.update(fg_colors_to_dict(DARK, \"invVivid\", DARK_inverse_fg_vivid_colors))\n",
    "DARK_theme.update(fg_colors_to_dict(DARK, \"hc\", DARK_hc_colors))\n",
    "DARK_theme.update(fg_colors_to_dict(DARK, \"invHc\", DARK_inverse_hc_colors))\n",
    "DARK_theme.update(fg_colors_to_dict(DARK, \"termLow\", DARK_terminal_low_colors))\n",
    "DARK_theme.update(fg_colors_to_dict(DARK, \"termHigh\", DARK_terminal_high_colors))\n",
    "DARK_theme.update(neutral_to_dict(DARK, DARK_neutral_colors))\n",
    "DARK_theme.update(bg_colors_to_dict(DARK, DARK_bg_colors))\n",
    "DARK_theme['emphBg'] = DARK_theme['deepBlack']\n",
    "DARK_theme['bg'] = DARK_theme['black']\n",
    "DARK_theme['deEmphBg'] = DARK_theme['darkGray']\n",
    "DARK_theme['deEmphFg'] = DARK_theme['mediumGray']\n",
    "DARK_theme['fg'] = DARK_theme['lightGray']\n",
    "DARK_theme['emphFg'] = DARK_theme['white']\n",
    "DARK_theme['invEmphBg'] = DARK_theme['brightWhite']\n",
    "DARK_theme['invBg'] = DARK_theme['white']\n",
    "DARK_theme['invDeEmphBg'] = DARK_theme['lightGray']\n",
    "DARK_theme['invDeEmphFg'] = DARK_theme['mediumGray']\n",
    "DARK_theme['invFg'] = DARK_theme['darkGray']\n",
    "DARK_theme['invEmphFg'] = DARK_theme['black']\n",
    "DARK_theme['bgHighlight'] = DARK_theme['bgDarkBlue']\n",
    "DARK_theme['bgLowlight'] = DARK_theme['bgLightYellow']\n",
    "DARK_theme['_name'] = \"Lunaria Dark\"\n",
    "DARK_theme['_type'] = \"dark\""
   ]
  },
  {
   "cell_type": "code",
   "execution_count": 90,
   "metadata": {},
   "outputs": [],
   "source": [
    "ECLIPSE_theme = dict()\n",
    "ECLIPSE_theme.update(fg_colors_to_dict(ECLIPSE, \"soft\", ECLIPSE_fg_soft_colors))\n",
    "ECLIPSE_theme.update(fg_colors_to_dict(ECLIPSE, \"vivid\", ECLIPSE_fg_vivid_colors))\n",
    "ECLIPSE_theme.update(fg_colors_to_dict(ECLIPSE, \"invVivid\", ECLIPSE_inverse_fg_vivid_colors))\n",
    "ECLIPSE_theme.update(fg_colors_to_dict(ECLIPSE, \"hc\", ECLIPSE_hc_colors))\n",
    "ECLIPSE_theme.update(fg_colors_to_dict(ECLIPSE, \"invHc\", ECLIPSE_inverse_hc_colors))\n",
    "ECLIPSE_theme.update(fg_colors_to_dict(ECLIPSE, \"termLow\", ECLIPSE_terminal_low_colors))\n",
    "ECLIPSE_theme.update(fg_colors_to_dict(ECLIPSE, \"termHigh\", ECLIPSE_terminal_high_colors))\n",
    "ECLIPSE_theme.update(neutral_to_dict(ECLIPSE, ECLIPSE_neutral_colors))\n",
    "ECLIPSE_theme.update(bg_colors_to_dict(ECLIPSE, ECLIPSE_bg_colors))\n",
    "ECLIPSE_theme['emphBg'] = ECLIPSE_theme['deepBlack']\n",
    "ECLIPSE_theme['bg'] = ECLIPSE_theme['black']\n",
    "ECLIPSE_theme['deEmphBg'] = ECLIPSE_theme['darkGray']\n",
    "ECLIPSE_theme['deEmphFg'] = ECLIPSE_theme['mediumGray']\n",
    "ECLIPSE_theme['fg'] = ECLIPSE_theme['lightGray']\n",
    "ECLIPSE_theme['emphFg'] = ECLIPSE_theme['white']\n",
    "ECLIPSE_theme['invEmphBg'] = ECLIPSE_theme['brightWhite']\n",
    "ECLIPSE_theme['invBg'] = ECLIPSE_theme['white']\n",
    "ECLIPSE_theme['invDeEmphBg'] = ECLIPSE_theme['lightGray']\n",
    "ECLIPSE_theme['invDeEmphFg'] = ECLIPSE_theme['mediumGray']\n",
    "ECLIPSE_theme['invFg'] = ECLIPSE_theme['darkGray']\n",
    "ECLIPSE_theme['invEmphFg'] = ECLIPSE_theme['black']\n",
    "ECLIPSE_theme['bgHighlight'] = ECLIPSE_theme['bgDarkBlue']\n",
    "ECLIPSE_theme['bgLowlight'] = ECLIPSE_theme['bgLightYellow']\n",
    "ECLIPSE_theme['_name'] = \"Lunaria Eclipse\"\n",
    "ECLIPSE_theme['_type'] = \"dark\""
   ]
  },
  {
   "cell_type": "code",
   "execution_count": 91,
   "metadata": {},
   "outputs": [],
   "source": [
    "json.dump(LIGHT_theme, open('./lunaria-light.json', 'w'), default=lambda o: list(iter(o)))\n",
    "json.dump(DARK_theme, open('./lunaria-dark.json', 'w'), default=lambda o: list(iter(o)))\n",
    "json.dump(ECLIPSE_theme, open('./lunaria-eclipse.json', 'w'), default=lambda o: list(iter(o)))"
   ]
  }
 ]
}